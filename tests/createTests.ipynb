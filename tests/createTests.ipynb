{
 "cells": [
  {
   "cell_type": "code",
   "execution_count": 2,
   "id": "545addfb-ea81-417b-8f00-96579bb2130c",
   "metadata": {},
   "outputs": [],
   "source": [
    "import aclinprot as acp"
   ]
  },
  {
   "cell_type": "code",
   "execution_count": 3,
   "id": "203dd844-2cbd-44ae-be38-8f21bb9cb504",
   "metadata": {},
   "outputs": [],
   "source": [
    "prescription_test = 'data/Vxx.csv'"
   ]
  },
  {
   "cell_type": "code",
   "execution_count": 12,
   "id": "86a0aa12-8099-49ff-973c-ee1b9877f7e4",
   "metadata": {},
   "outputs": [
    {
     "data": {
      "text/plain": [
       "(Empty DataFrame\n",
       " Columns: []\n",
       " Index: [0],\n",
       " Empty DataFrame\n",
       " Columns: []\n",
       " Index: [0],\n",
       "      Organ Dmean Dmax     DosimPars\n",
       " 0  TestVxx             [V 36$42%, ])"
      ]
     },
     "execution_count": 12,
     "metadata": {},
     "output_type": "execute_result"
    }
   ],
   "source": [
    "acp.parse_prescription(prescription_test)"
   ]
  },
  {
   "cell_type": "code",
   "execution_count": null,
   "id": "75c53e45-a4ad-4c66-867e-ffd4e4259381",
   "metadata": {},
   "outputs": [],
   "source": []
  }
 ],
 "metadata": {
  "kernelspec": {
   "display_name": "Python 3 (ipykernel)",
   "language": "python",
   "name": "python3"
  },
  "language_info": {
   "codemirror_mode": {
    "name": "ipython",
    "version": 3
   },
   "file_extension": ".py",
   "mimetype": "text/x-python",
   "name": "python",
   "nbconvert_exporter": "python",
   "pygments_lexer": "ipython3",
   "version": "3.11.6"
  }
 },
 "nbformat": 4,
 "nbformat_minor": 5
}
