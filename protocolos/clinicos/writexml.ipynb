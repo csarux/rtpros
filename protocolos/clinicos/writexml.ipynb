{
 "cells": [
  {
   "cell_type": "code",
   "execution_count": 1,
   "id": "27f3fdd1-cb42-49c7-9e6b-c2b964db78c1",
   "metadata": {},
   "outputs": [],
   "source": [
    "import xml.etree.ElementTree as ET"
   ]
  },
  {
   "cell_type": "code",
   "execution_count": 3,
   "id": "bd671753-b775-4162-b9ef-cf1e5d0000c5",
   "metadata": {},
   "outputs": [],
   "source": [
    "bbx = ET.parse('BareBone.xml')"
   ]
  },
  {
   "cell_type": "code",
   "execution_count": 7,
   "id": "d9ade022-d676-44b3-8235-a42fe56c537f",
   "metadata": {},
   "outputs": [],
   "source": [
    "root = bbx.getroot()"
   ]
  },
  {
   "cell_type": "code",
   "execution_count": 13,
   "id": "ab96a94b-beaf-4e5d-8d74-30ca4f546879",
   "metadata": {},
   "outputs": [
    {
     "name": "stdout",
     "output_type": "stream",
     "text": [
      "Phases\n"
     ]
    }
   ],
   "source": [
    "for Phases in root.findall('Phases'):\n",
    "    print(Phases.tag)"
   ]
  },
  {
   "cell_type": "code",
   "execution_count": null,
   "id": "9e0ece9f-7d18-4106-bfb1-3b33c8e582a0",
   "metadata": {},
   "outputs": [],
   "source": []
  }
 ],
 "metadata": {
  "kernelspec": {
   "display_name": "Python 3 (ipykernel)",
   "language": "python",
   "name": "python3"
  },
  "language_info": {
   "codemirror_mode": {
    "name": "ipython",
    "version": 3
   },
   "file_extension": ".py",
   "mimetype": "text/x-python",
   "name": "python",
   "nbconvert_exporter": "python",
   "pygments_lexer": "ipython3",
   "version": "3.11.0"
  }
 },
 "nbformat": 4,
 "nbformat_minor": 5
}
