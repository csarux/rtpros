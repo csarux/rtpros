{
 "cells": [
  {
   "cell_type": "code",
   "execution_count": 1,
   "id": "27f3fdd1-cb42-49c7-9e6b-c2b964db78c1",
   "metadata": {},
   "outputs": [],
   "source": [
    "import xml.etree.ElementTree as ET"
   ]
  },
  {
   "cell_type": "code",
   "execution_count": 3,
   "id": "bd671753-b775-4162-b9ef-cf1e5d0000c5",
   "metadata": {},
   "outputs": [],
   "source": [
    "bbx = ET.parse('BareBone.xml')"
   ]
  },
  {
   "cell_type": "code",
   "execution_count": 7,
   "id": "d9ade022-d676-44b3-8235-a42fe56c537f",
   "metadata": {},
   "outputs": [],
   "source": [
    "root = bbx.getroot()"
   ]
  },
  {
   "cell_type": "code",
   "execution_count": 13,
   "id": "ab96a94b-beaf-4e5d-8d74-30ca4f546879",
   "metadata": {},
   "outputs": [
    {
     "name": "stdout",
     "output_type": "stream",
     "text": [
      "Phases\n"
     ]
    }
   ],
   "source": [
    "for Phases in root.findall('Phases'):\n",
    "    print(Phases.tag)"
   ]
  },
  {
   "cell_type": "code",
   "execution_count": 64,
   "id": "9318b3a4-aaf6-4d72-a430-5b529b8836ad",
   "metadata": {},
   "outputs": [],
   "source": [
    "# Leer el esqueleto del protocolo clínico\n",
    "bbx = ET.parse('BareBone.xml')\n",
    "# Camvbiar la identificación del protocolo\n",
    "Preview = bbx.find('Preview')\n",
    "Preview.set('ID', 'ArmaduraTest')\n",
    "# Añadir una estrctura\n",
    "StructureTemplate = bbx.find('StructureTemplate')\n",
    "Structures = StructureTemplate.find('Structures')\n",
    "Structure = ET.SubElement(Structures, 'Structure')\n",
    "Structure.set('ID', 'Recto')\n",
    "Structure.set('Name', 'Recto')\n",
    "Identification = ET.SubElement(Structure, 'Identification')\n",
    "VolumeID = ET.SubElement(Identification, 'VolumeID')\n",
    "VolumeCode = ET.SubElement(Identification, 'VolumeCode')\n",
    "VolumeType = ET.SubElement(Identification, 'VolumeType')\n",
    "VolumeType.text = 'Organ'\n",
    "VolumeCodeTable = ET.SubElement(Identification, 'VolumeCodeTable')\n",
    "StructureCode = ET.SubElement(Identification, 'StructureCode')\n",
    "TypeIndex = ET.SubElement(Structure, 'TypeIndex')\n",
    "TypeIndex.text = str(2)\n",
    "ColorAndStyle = ET.SubElement(Structure, 'ColorAndStyle')\n",
    "ColorAndStyle.text = 'Countour - Brown'\n",
    "SearchCTLow = ET.SubElement(Structure, 'SearchCTLow')\n",
    "SearchCTLow.text = str(1000)\n",
    "SearchCTHigh = ET.SubElement(Structure, 'SearchCTHigh')\n",
    "SearchCTHigh.text = str(1000)\n",
    "DVHLineStyle = ET.SubElement(Structure, 'DVHLineStyle')\n",
    "DVHLineStyle.text = str(0)\n",
    "DVHLineColor = ET.SubElement(Structure, 'DVHLineColor')\n",
    "DVHLineColor.text = str(-16777216)\n",
    "DVHLineWidth = ET.SubElement(Structure, 'DVHLineWidth')\n",
    "DVHLineWidth.text = str(1)\n",
    "EUDAlpha = ET.SubElement(Structure, 'EUDAlpha')\n",
    "EUDAlpha.set('xsi:nil', 'true')\n",
    "TCPAlpha = ET.SubElement(Structure, 'TCPAlpha')\n",
    "TCPAlpha.set('xsi:nil', 'true')\n",
    "TCPBeta = ET.SubElement(Structure, 'TCPBeta')\n",
    "TCPBeta.set('xsi:nil', 'true')\n",
    "TCPGamma = ET.SubElement(Structure, 'TCPGamma')\n",
    "TCPGamma.set('xsi:nil', 'true')\n",
    "# Añadir una entrada a Plan Objetives\n",
    "Phases = bbx.find('Phases')\n",
    "Phase = Phases.find('Phase')\n",
    "Prescription = Phase.find('Prescription')\n",
    "Item = ET.SubElement(Prescription, 'Item')\n",
    "Item.set('ID', 'Recto')\n",
    "Item.set('Primary', 'false')\n",
    "Type = ET.SubElement(Item, 'Type')\n",
    "Type.text = str(0)\n",
    "Modifier = ET.SubElement(Item, 'Modifier')\n",
    "Modifier.text = str(0)\n",
    "Parameter = ET.SubElement(Item, 'Parameter')\n",
    "Parameter.text = str(85)\n",
    "Dose = ET.SubElement(Item, 'Dose')\n",
    "Dose.text = str(1)\n",
    "TotalDose = ET.SubElement(Item, 'TotalDose')\n",
    "TotalDose.text = str(20)\n",
    "ET.indent(bbx)\n",
    "bbx.write('testBareBone1PO.xml', encoding='utf-8', xml_declaration=True)"
   ]
  },
  {
   "cell_type": "code",
   "execution_count": 40,
   "id": "c7922580-c766-4f6c-a5b0-156614887cd7",
   "metadata": {},
   "outputs": [],
   "source": [
    "import datetime"
   ]
  },
  {
   "cell_type": "code",
   "execution_count": 81,
   "id": "8a1b4025-38d2-4580-99b4-7c78ba4b50e0",
   "metadata": {},
   "outputs": [],
   "source": [
    "def parseProt(protin = 'BareBone.xml'):\n",
    "    # Leer el protocolo clínico de entrada\n",
    "    bbx = ET.parse(protin)\n",
    "    return bbx"
   ]
  },
  {
   "cell_type": "code",
   "execution_count": 76,
   "id": "691bc6a0-3e5b-445e-9037-588ac7a2eb44",
   "metadata": {},
   "outputs": [],
   "source": [
    "def modPreview(bbx, ID, xmlin='BareBone.xml', ApprovalStatus='Unapproved', TreatmentSite='Prostata + vvss hipofx', AssignedUsers='salud\\\\50724293r'):\n",
    "    # Camvbiar la identificación del protocolo\n",
    "    Preview = bbx.find('Preview')\n",
    "    Preview.set('ID', ID)\n",
    "    # Fijar el estado de aprobación\n",
    "    Preview.set('ApprovalStatus', ApprovalStatus)\n",
    "    # Establecer el sitio de tratamiento\n",
    "    Preview.set('TreatmentSite', TreatmentSite)\n",
    "    # Definir el usuario\n",
    "    Preview.set('AssignedUsers', AssignedUsers)\n",
    "    # Definir la fecha y hora de la creación del archivo\n",
    "    creationdatetime = datetime.datetime.strftime(datetime.datetime.now(), ' %B %d %Y %H:%M:%S:%f')[:-3]\n",
    "    Preview.set('LastModified', creationdatetime)\n",
    "    # Formar el campo para el historial de aprobación\n",
    "    ApprovalHistory = AssignedUsers + ' Created [' + creationdatetime + ' ]'\n",
    "    Preview.set('ApprovalHistory', ApprovalHistory)"
   ]
  },
  {
   "cell_type": "code",
   "execution_count": 83,
   "id": "e4d842e7-0b8c-4d7b-9d6c-d4def1b24ba1",
   "metadata": {},
   "outputs": [],
   "source": [
    "def addStructure(bbx, structureName, stColourAndStyle='Countour - Brown', searchCT=1000, vDVHLineColor=-16777216):\n",
    "    # Añadir una estrctura\n",
    "    StructureTemplate = bbx.find('StructureTemplate')\n",
    "    Structures = StructureTemplate.find('Structures')\n",
    "    Structure = ET.SubElement(Structures, 'Structure')\n",
    "    Structure.set('ID', structureName)\n",
    "    Structure.set('Name', structureName)\n",
    "    Identification = ET.SubElement(Structure, 'Identification')\n",
    "    VolumeID = ET.SubElement(Identification, 'VolumeID')\n",
    "    VolumeCode = ET.SubElement(Identification, 'VolumeCode')\n",
    "    VolumeType = ET.SubElement(Identification, 'VolumeType')\n",
    "    VolumeType.text = 'Organ'\n",
    "    VolumeCodeTable = ET.SubElement(Identification, 'VolumeCodeTable')\n",
    "    StructureCode = ET.SubElement(Identification, 'StructureCode')\n",
    "    TypeIndex = ET.SubElement(Structure, 'TypeIndex')\n",
    "    TypeIndex.text = str(2)\n",
    "    ColorAndStyle = ET.SubElement(Structure, 'ColorAndStyle')\n",
    "    ColorAndStyle.text = stColourAndStyle\n",
    "    SearchCTLow = ET.SubElement(Structure, 'SearchCTLow')\n",
    "    SearchCTLow.text = str(searchCT)\n",
    "    SearchCTHigh = ET.SubElement(Structure, 'SearchCTHigh')\n",
    "    SearchCTHigh.text = str(searchCT)\n",
    "    DVHLineStyle = ET.SubElement(Structure, 'DVHLineStyle')\n",
    "    DVHLineStyle.text = str(0)\n",
    "    DVHLineColor = ET.SubElement(Structure, 'DVHLineColor')\n",
    "    DVHLineColor.text = str(vDVHLineColor)\n",
    "    DVHLineWidth = ET.SubElement(Structure, 'DVHLineWidth')\n",
    "    DVHLineWidth.text = str(1)\n",
    "    EUDAlpha = ET.SubElement(Structure, 'EUDAlpha')\n",
    "    EUDAlpha.set('xsi:nil', 'true')\n",
    "    TCPAlpha = ET.SubElement(Structure, 'TCPAlpha')\n",
    "    TCPAlpha.set('xsi:nil', 'true')\n",
    "    TCPBeta = ET.SubElement(Structure, 'TCPBeta')\n",
    "    TCPBeta.set('xsi:nil', 'true')\n",
    "    TCPGamma = ET.SubElement(Structure, 'TCPGamma')\n",
    "    TCPGamma.set('xsi:nil', 'true')"
   ]
  },
  {
   "cell_type": "code",
   "execution_count": 86,
   "id": "2c28ff7b-e5dd-4c4e-b370-b1216abe0ea8",
   "metadata": {},
   "outputs": [],
   "source": [
    "def modPhaseID(bbx, ID):\n",
    "    # Modificar la identificación de la fase\n",
    "    Phases = bbx.find('Phases')\n",
    "    Phase = Phases.find('Phase')\n",
    "    Phase.set('ID', ID)    "
   ]
  },
  {
   "cell_type": "code",
   "execution_count": 103,
   "id": "4fd1874a-db5c-4e12-bc9d-14e6063a4575",
   "metadata": {},
   "outputs": [],
   "source": [
    "def addPlanObjetive(bbx, ID, vParameter, vDose, vTotalDose, vModifier=0):\n",
    "    # Añadir una entrada a Plan Objetives\n",
    "    Phases = bbx.find('Phases')\n",
    "    Phase = Phases.find('Phase')\n",
    "    Prescription = Phase.find('Prescription')\n",
    "    Item = ET.SubElement(Prescription, 'Item')\n",
    "    Item.set('ID', ID)\n",
    "    Item.set('Primary', 'false')\n",
    "    Type = ET.SubElement(Item, 'Type')\n",
    "    Type.text = str(0)\n",
    "    Modifier = ET.SubElement(Item, 'Modifier')\n",
    "    Modifier.text = str(vModifier)\n",
    "    Parameter = ET.SubElement(Item, 'Parameter')\n",
    "    Parameter.text = str(vParameter)\n",
    "    Dose = ET.SubElement(Item, 'Dose')\n",
    "    Dose.text = str(vDose)\n",
    "    TotalDose = ET.SubElement(Item, 'TotalDose')\n",
    "    TotalDose.text = str(vTotalDose)"
   ]
  },
  {
   "cell_type": "code",
   "execution_count": 82,
   "id": "8c8fbdcc-62c5-4250-8a8a-d0764115cb6a",
   "metadata": {},
   "outputs": [],
   "source": [
    "def writeProt(bbx, protout = 'TestSalida.xml'):\n",
    "    # Escribir el protocolo modificado\n",
    "    ET.indent(bbx)\n",
    "    bbx.write(protout, encoding='utf-8', xml_declaration=True)"
   ]
  },
  {
   "cell_type": "code",
   "execution_count": 104,
   "id": "5b44f149-a586-41b6-b76a-4266cdd57e94",
   "metadata": {},
   "outputs": [],
   "source": [
    "bbx = parseProt()\n",
    "modPreview(bbx, ID='ArmaduraTest')\n",
    "modPhaseID(bbx, 'Liszt')\n",
    "structureName = 'Recto'\n",
    "addStructure(bbx, structureName)\n",
    "addPlanObjetive(bbx, structureName, vParameter=85, vDose=1, vTotalDose=20)\n",
    "structureName = 'PTV'\n",
    "addStructure(bbx, structureName)\n",
    "addPlanObjetive(bbx, structureName, vParameter=95, vDose=3*.95, vTotalDose=60*.95)\n",
    "addPlanObjetive(bbx, structureName, vParameter=5, vDose=3*1.07, vTotalDose=60*1.07, vModifier=1)\n",
    "writeProt(bbx, protout='TestSalida.xml')"
   ]
  },
  {
   "cell_type": "code",
   "execution_count": null,
   "id": "bffd705f-2bf5-48f8-9c2b-53c0f37528b9",
   "metadata": {},
   "outputs": [],
   "source": []
  }
 ],
 "metadata": {
  "kernelspec": {
   "display_name": "Python 3 (ipykernel)",
   "language": "python",
   "name": "python3"
  },
  "language_info": {
   "codemirror_mode": {
    "name": "ipython",
    "version": 3
   },
   "file_extension": ".py",
   "mimetype": "text/x-python",
   "name": "python",
   "nbconvert_exporter": "python",
   "pygments_lexer": "ipython3",
   "version": "3.11.0"
  }
 },
 "nbformat": 4,
 "nbformat_minor": 5
}
