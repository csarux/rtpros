{
 "cells": [
  {
   "cell_type": "markdown",
   "id": "f860d7b5-19d7-4005-8667-4ec86662928e",
   "metadata": {},
   "source": [
    "## Protocolos clínicos ARIA\n",
    "# Escritura programática de módulos\n",
    "-------\n",
    "**Objetivo**: Definir funciones para escribir un protocolo clínico a partir de los datos de prescripción\n",
    "\n",
    "Importación de módulos"
   ]
  },
  {
   "cell_type": "code",
   "execution_count": 1,
   "id": "27f3fdd1-cb42-49c7-9e6b-c2b964db78c1",
   "metadata": {},
   "outputs": [],
   "source": [
    "import xml.etree.ElementTree as ET\n",
    "import datetime"
   ]
  },
  {
   "cell_type": "markdown",
   "id": "363d0db3-db03-465f-bf3d-5da167e0140f",
   "metadata": {},
   "source": [
    "Definiciones de funciones"
   ]
  },
  {
   "cell_type": "code",
   "execution_count": 2,
   "id": "8a1b4025-38d2-4580-99b4-7c78ba4b50e0",
   "metadata": {},
   "outputs": [],
   "source": [
    "def parseProt(protin = 'BareBone.xml'):\n",
    "    # Leer el protocolo clínico de entrada\n",
    "    bbx = ET.parse(protin)\n",
    "    return bbx"
   ]
  },
  {
   "cell_type": "code",
   "execution_count": 3,
   "id": "691bc6a0-3e5b-445e-9037-588ac7a2eb44",
   "metadata": {},
   "outputs": [],
   "source": [
    "def modPreview(bbx, ID, xmlin='BareBone.xml', ApprovalStatus='Unapproved', TreatmentSite='Prostata + vvss hipofx', AssignedUsers='salud\\\\50724293r'):\n",
    "    # Camvbiar la identificación del protocolo\n",
    "    Preview = bbx.find('Preview')\n",
    "    Preview.set('ID', ID)\n",
    "    # Fijar el estado de aprobación\n",
    "    Preview.set('ApprovalStatus', ApprovalStatus)\n",
    "    # Establecer el sitio de tratamiento\n",
    "    Preview.set('TreatmentSite', TreatmentSite)\n",
    "    # Definir el usuario\n",
    "    Preview.set('AssignedUsers', AssignedUsers)\n",
    "    # Definir la fecha y hora de la creación del archivo\n",
    "    creationdatetime = datetime.datetime.strftime(datetime.datetime.now(), ' %B %d %Y %H:%M:%S:%f')[:-3]\n",
    "    Preview.set('LastModified', creationdatetime)\n",
    "    # Formar el campo para el historial de aprobación\n",
    "    ApprovalHistory = AssignedUsers + ' Created [' + creationdatetime + ' ]'\n",
    "    Preview.set('ApprovalHistory', ApprovalHistory)"
   ]
  },
  {
   "cell_type": "code",
   "execution_count": 4,
   "id": "e4d842e7-0b8c-4d7b-9d6c-d4def1b24ba1",
   "metadata": {},
   "outputs": [],
   "source": [
    "def addStructure(bbx, structureName, stColourAndStyle='Countour - Brown', searchCT=1000, vDVHLineColor=-16777216):\n",
    "    # Añadir una estrctura\n",
    "    StructureTemplate = bbx.find('StructureTemplate')\n",
    "    Structures = StructureTemplate.find('Structures')\n",
    "    Structure = ET.SubElement(Structures, 'Structure')\n",
    "    Structure.set('ID', structureName)\n",
    "    Structure.set('Name', structureName)\n",
    "    Identification = ET.SubElement(Structure, 'Identification')\n",
    "    VolumeID = ET.SubElement(Identification, 'VolumeID')\n",
    "    VolumeCode = ET.SubElement(Identification, 'VolumeCode')\n",
    "    VolumeType = ET.SubElement(Identification, 'VolumeType')\n",
    "    VolumeType.text = 'Organ'\n",
    "    VolumeCodeTable = ET.SubElement(Identification, 'VolumeCodeTable')\n",
    "    StructureCode = ET.SubElement(Identification, 'StructureCode')\n",
    "    TypeIndex = ET.SubElement(Structure, 'TypeIndex')\n",
    "    TypeIndex.text = str(2)\n",
    "    ColorAndStyle = ET.SubElement(Structure, 'ColorAndStyle')\n",
    "    ColorAndStyle.text = stColourAndStyle\n",
    "    SearchCTLow = ET.SubElement(Structure, 'SearchCTLow')\n",
    "    SearchCTLow.text = str(searchCT)\n",
    "    SearchCTHigh = ET.SubElement(Structure, 'SearchCTHigh')\n",
    "    SearchCTHigh.text = str(searchCT)\n",
    "    DVHLineStyle = ET.SubElement(Structure, 'DVHLineStyle')\n",
    "    DVHLineStyle.text = str(0)\n",
    "    DVHLineColor = ET.SubElement(Structure, 'DVHLineColor')\n",
    "    DVHLineColor.text = str(vDVHLineColor)\n",
    "    DVHLineWidth = ET.SubElement(Structure, 'DVHLineWidth')\n",
    "    DVHLineWidth.text = str(1)\n",
    "    EUDAlpha = ET.SubElement(Structure, 'EUDAlpha')\n",
    "    EUDAlpha.set('xsi:nil', 'true')\n",
    "    TCPAlpha = ET.SubElement(Structure, 'TCPAlpha')\n",
    "    TCPAlpha.set('xsi:nil', 'true')\n",
    "    TCPBeta = ET.SubElement(Structure, 'TCPBeta')\n",
    "    TCPBeta.set('xsi:nil', 'true')\n",
    "    TCPGamma = ET.SubElement(Structure, 'TCPGamma')\n",
    "    TCPGamma.set('xsi:nil', 'true')"
   ]
  },
  {
   "cell_type": "code",
   "execution_count": 5,
   "id": "2c28ff7b-e5dd-4c4e-b370-b1216abe0ea8",
   "metadata": {},
   "outputs": [],
   "source": [
    "def modPhaseID(bbx, ID):\n",
    "    # Modificar la identificación de la fase\n",
    "    Phases = bbx.find('Phases')\n",
    "    Phase = Phases.find('Phase')\n",
    "    Phase.set('ID', ID)    "
   ]
  },
  {
   "cell_type": "code",
   "execution_count": 38,
   "id": "4fd1874a-db5c-4e12-bc9d-14e6063a4575",
   "metadata": {},
   "outputs": [],
   "source": [
    "def addPlanObjetive(bbx, ID, vParameter, vDose, vTotalDose, vPrimary='false', vModifier=1):\n",
    "    '''\n",
    "    Function: Add a Plan Objetive\n",
    "    \n",
    "    Arguments:\n",
    "    bbx: String\n",
    "        The xml document to be modified\n",
    "    ID: String\n",
    "        Structure name which the plan objetive applies to\n",
    "    VModifier: Int\n",
    "        An index specifying the comparison operator to be used in Plan Objetive evaluation\n",
    "             0: At Least (% receives more than)\n",
    "             1: At Most (% receives more than). Default\n",
    "             2: Minimum dose (is)\n",
    "             3: Maximum dose (is)\n",
    "             4: Mean dose (is)\n",
    "             5: Reference point (receives)\n",
    "             6: EUD (receives)\n",
    "             7: Mean dose (is more than)\n",
    "             8: Mean dose (is less than)\n",
    "             9: Minimum dose (is more than)\n",
    "            10: Maximum dose (is less than)\n",
    "    vParameter: Float\n",
    "        Volume percentage. Meaningless if vModifier is >= 2\n",
    "    vDose: Float\n",
    "        Fraction dose in Gy\n",
    "    vTotalDose: Float\n",
    "        Total dose in Gy\n",
    "    '''\n",
    "    Phases = bbx.find('Phases')\n",
    "    Phase = Phases.find('Phase')\n",
    "    Prescription = Phase.find('Prescription')\n",
    "    Item = ET.SubElement(Prescription, 'Item')\n",
    "    Item.set('ID', ID)\n",
    "    Item.set('Primary', vPrimary)\n",
    "    Type = ET.SubElement(Item, 'Type')\n",
    "    Type.text = str(0) # hardcoded. It seems always default to zero\n",
    "    Modifier = ET.SubElement(Item, 'Modifier')\n",
    "    Modifier.text = str(vModifier)\n",
    "    Parameter = ET.SubElement(Item, 'Parameter')\n",
    "    Parameter.text = str(vParameter)\n",
    "    Dose = ET.SubElement(Item, 'Dose')\n",
    "    Dose.text = str(vDose)\n",
    "    TotalDose = ET.SubElement(Item, 'TotalDose')\n",
    "    TotalDose.text = str(vTotalDose)"
   ]
  },
  {
   "cell_type": "code",
   "execution_count": 37,
   "id": "9fd9f859-29fb-47b1-a8b8-a17be5e2d8a6",
   "metadata": {},
   "outputs": [],
   "source": [
    "def addQualityIndex(bbx, ID, vType, vModifier, vValue, vTypeSpecifier, vReportDQPValueInAbsoluteUnits):\n",
    "    '''\n",
    "    Function: Add a Quality Index\n",
    "    \n",
    "    Arguments:\n",
    "    bbx: String\n",
    "        The xml document to be modified\n",
    "    ID: String\n",
    "        Structure name which the quality index applies to\n",
    "    vType: Int\n",
    "        An index specifying the Quality Index Type\n",
    "            0: ConformityIndex\n",
    "            1: GradientMeasure [cm]\n",
    "            2: Vxx [%/cc of volume] where xx, dose percentage, is specified by vTypeSpecifier and the %/cc of volume by vValue\n",
    "            3: Vxx Gy [%/cc of volume] where xx, absolute dose in Gy, is specified by vTypeSpecifier and the %/cc of volume by vValue\n",
    "            4: Dxx [%/Gy] where xx, volume percentage, is specified by vTypeSpecifier and the %/Gy of volume by vValue\n",
    "            5: Dxx cc [%/Gy] where xx, absolute volume in cc, is specified by vTypeSpecifier and the %/Gy of volume by vValue\n",
    "    VModifier: Int\n",
    "        An index specifying the comparison operator to be used in quality index evaluation\n",
    "            0: is more than\n",
    "            1: is less than\n",
    "            2: is\n",
    "    vValue: Float\n",
    "        The constrain in %, Gy o cc\n",
    "    vTypeSpecifier: Float\n",
    "        The dose or volume in Vdose o Dvolume in %, Gy or cc\n",
    "    vReportDQPValueInAbsoluteUnits: string {'true', 'false'}\n",
    "        If the constrain is specified in absolute units\n",
    "    '''\n",
    "    Phases = bbx.find('Phases')\n",
    "    Phase = Phases.find('Phase')\n",
    "    Prescription = Phase.find('Prescription')\n",
    "    MeasureItem = ET.SubElement(Prescription, 'MeasureItem')\n",
    "    MeasureItem.set('ID', ID)\n",
    "    Type = ET.SubElement(MeasureItem, 'Type')\n",
    "    Type.text = str(vType)\n",
    "    Modifier = ET.SubElement(MeasureItem, 'Modifier')\n",
    "    Modifier.text = str(vModifier)\n",
    "    Value = ET.SubElement(MeasureItem, 'Value')\n",
    "    Value.text = str(vValue)\n",
    "    TypeSpecifier = ET.SubElement(MeasureItem, 'TypeSpecifier')\n",
    "    TypeSpecifier.text = str(vTypeSpecifier)\n",
    "    ReportDQPValueInAbsoluteUnits = ET.SubElement(MeasureItem, 'ReportDQPValueInAbsoluteUnits')\n",
    "    ReportDQPValueInAbsoluteUnits.text = vReportDQPValueInAbsoluteUnits"
   ]
  },
  {
   "cell_type": "code",
   "execution_count": 7,
   "id": "8c8fbdcc-62c5-4250-8a8a-d0764115cb6a",
   "metadata": {},
   "outputs": [],
   "source": [
    "def writeProt(bbx, protout = 'TestSalida.xml'):\n",
    "    # Escribir el protocolo modificado\n",
    "    ET.indent(bbx)\n",
    "    bbx.write(protout, encoding='utf-8', xml_declaration=True)"
   ]
  },
  {
   "cell_type": "markdown",
   "id": "7cc24957-d9d6-4c44-b78a-acd94f7b8b8e",
   "metadata": {},
   "source": [
    "Crear el protocolo clínico"
   ]
  },
  {
   "cell_type": "code",
   "execution_count": 48,
   "id": "5b44f149-a586-41b6-b76a-4266cdd57e94",
   "metadata": {},
   "outputs": [],
   "source": [
    "bbx = parseProt()\n",
    "modPreview(bbx, ID='ArmaduraTest')\n",
    "modPhaseID(bbx, 'Liszt')\n",
    "structureName = 'Recto'\n",
    "addStructure(bbx, structureName)\n",
    "addPlanObjetive(bbx, ID=structureName, vParameter=85, vDose=1, vTotalDose=20, vModifier=11)\n",
    "structureName = 'PTV'\n",
    "addStructure(bbx, structureName)\n",
    "addPlanObjetive(bbx, structureName, vParameter=95, vDose=3*.95, vTotalDose=60*.95, vModifier=0, vPrimary='true')\n",
    "addPlanObjetive(bbx, structureName, vParameter=5, vDose=3*1.07, vTotalDose=60*1.07)\n",
    "structureName = 'Recto'\n",
    "addQualityIndex(bbx, ID= structureName, vType=5, vModifier=1, vValue=85, vTypeSpecifier=20, vReportDQPValueInAbsoluteUnits='true')\n",
    "writeProt(bbx, protout='TestSalida.xml')"
   ]
  },
  {
   "cell_type": "code",
   "execution_count": null,
   "id": "1b96271d-8e53-48a4-b8ce-b2864041ff85",
   "metadata": {},
   "outputs": [],
   "source": []
  }
 ],
 "metadata": {
  "kernelspec": {
   "display_name": "Python 3 (ipykernel)",
   "language": "python",
   "name": "python3"
  },
  "language_info": {
   "codemirror_mode": {
    "name": "ipython",
    "version": 3
   },
   "file_extension": ".py",
   "mimetype": "text/x-python",
   "name": "python",
   "nbconvert_exporter": "python",
   "pygments_lexer": "ipython3",
   "version": "3.11.0"
  }
 },
 "nbformat": 4,
 "nbformat_minor": 5
}
