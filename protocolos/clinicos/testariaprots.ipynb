{
 "cells": [
  {
   "cell_type": "code",
   "execution_count": 1,
   "id": "fbf5a34e-d275-45b4-8f84-882dd7bddf7d",
   "metadata": {},
   "outputs": [],
   "source": [
    "from ariaprots import parse_prescription, read_prescription"
   ]
  },
  {
   "cell_type": "code",
   "execution_count": 2,
   "id": "c7faf521-1627-48c8-a083-403e12da4575",
   "metadata": {},
   "outputs": [
    {
     "name": "stdout",
     "output_type": "stream",
     "text": [
      "/Users/cesar/Documents/Development/rtpros\n"
     ]
    }
   ],
   "source": [
    "%cd ../.."
   ]
  },
  {
   "cell_type": "code",
   "execution_count": 3,
   "id": "31cf13bd-fb33-4c8b-bbca-008dec08ad97",
   "metadata": {},
   "outputs": [],
   "source": [
    "pvdf, ccdf, oardf = parse_prescription('prescripciones/MamaDIBH.csv')"
   ]
  },
  {
   "cell_type": "code",
   "execution_count": 4,
   "id": "ca6a1e99-0e5e-4f42-a868-721a610c704f",
   "metadata": {},
   "outputs": [
    {
     "data": {
      "text/html": [
       "<div>\n",
       "<style scoped>\n",
       "    .dataframe tbody tr th:only-of-type {\n",
       "        vertical-align: middle;\n",
       "    }\n",
       "\n",
       "    .dataframe tbody tr th {\n",
       "        vertical-align: top;\n",
       "    }\n",
       "\n",
       "    .dataframe thead th {\n",
       "        text-align: right;\n",
       "    }\n",
       "</style>\n",
       "<table border=\"1\" class=\"dataframe\">\n",
       "  <thead>\n",
       "    <tr style=\"text-align: right;\">\n",
       "      <th></th>\n",
       "      <th>Volume</th>\n",
       "      <th>Dose</th>\n",
       "      <th>FxDose</th>\n",
       "    </tr>\n",
       "  </thead>\n",
       "  <tbody>\n",
       "    <tr>\n",
       "      <th>0</th>\n",
       "      <td>PTV mama izqda  40.050 Gy</td>\n",
       "      <td>40.050</td>\n",
       "      <td>2.670</td>\n",
       "    </tr>\n",
       "    <tr>\n",
       "      <th>1</th>\n",
       "      <td>PTV boost izqdo  48.000 Gy</td>\n",
       "      <td>48.000</td>\n",
       "      <td>3.200</td>\n",
       "    </tr>\n",
       "  </tbody>\n",
       "</table>\n",
       "</div>"
      ],
      "text/plain": [
       "                       Volume    Dose FxDose\n",
       "0   PTV mama izqda  40.050 Gy  40.050  2.670\n",
       "1  PTV boost izqdo  48.000 Gy  48.000  3.200"
      ]
     },
     "execution_count": 4,
     "metadata": {},
     "output_type": "execute_result"
    }
   ],
   "source": [
    "pvdf"
   ]
  },
  {
   "cell_type": "code",
   "execution_count": 5,
   "id": "528e30cf-036a-4dde-be8d-95af0645a11e",
   "metadata": {},
   "outputs": [
    {
     "data": {
      "text/html": [
       "<div>\n",
       "<style scoped>\n",
       "    .dataframe tbody tr th:only-of-type {\n",
       "        vertical-align: middle;\n",
       "    }\n",
       "\n",
       "    .dataframe tbody tr th {\n",
       "        vertical-align: top;\n",
       "    }\n",
       "\n",
       "    .dataframe thead th {\n",
       "        text-align: right;\n",
       "    }\n",
       "</style>\n",
       "<table border=\"1\" class=\"dataframe\">\n",
       "  <thead>\n",
       "    <tr style=\"text-align: right;\">\n",
       "      <th></th>\n",
       "      <th>Volume</th>\n",
       "      <th>Min</th>\n",
       "      <th>Max</th>\n",
       "      <th>AtLeast</th>\n",
       "      <th>NoMore</th>\n",
       "    </tr>\n",
       "  </thead>\n",
       "  <tbody>\n",
       "    <tr>\n",
       "      <th>0</th>\n",
       "      <td>PTV mama izqda</td>\n",
       "      <td></td>\n",
       "      <td></td>\n",
       "      <td>[95, 95, 45.6]</td>\n",
       "      <td>[5, 107, 51.36]</td>\n",
       "    </tr>\n",
       "    <tr>\n",
       "      <th>1</th>\n",
       "      <td>PTV boost izqdo</td>\n",
       "      <td></td>\n",
       "      <td></td>\n",
       "      <td>[95, 95, 45.6]</td>\n",
       "      <td>[5, 107, 51.36]</td>\n",
       "    </tr>\n",
       "  </tbody>\n",
       "</table>\n",
       "</div>"
      ],
      "text/plain": [
       "            Volume Min Max         AtLeast           NoMore\n",
       "0   PTV mama izqda          [95, 95, 45.6]  [5, 107, 51.36]\n",
       "1  PTV boost izqdo          [95, 95, 45.6]  [5, 107, 51.36]"
      ]
     },
     "execution_count": 5,
     "metadata": {},
     "output_type": "execute_result"
    }
   ],
   "source": [
    "ccdf"
   ]
  },
  {
   "cell_type": "code",
   "execution_count": 6,
   "id": "35d729b0-2620-4287-a523-c7c37d42a16a",
   "metadata": {},
   "outputs": [
    {
     "data": {
      "text/html": [
       "<div>\n",
       "<style scoped>\n",
       "    .dataframe tbody tr th:only-of-type {\n",
       "        vertical-align: middle;\n",
       "    }\n",
       "\n",
       "    .dataframe tbody tr th {\n",
       "        vertical-align: top;\n",
       "    }\n",
       "\n",
       "    .dataframe thead th {\n",
       "        text-align: right;\n",
       "    }\n",
       "</style>\n",
       "<table border=\"1\" class=\"dataframe\">\n",
       "  <thead>\n",
       "    <tr style=\"text-align: right;\">\n",
       "      <th></th>\n",
       "      <th>Organ</th>\n",
       "      <th>Dmean</th>\n",
       "      <th>Dmax</th>\n",
       "      <th>DosimPars</th>\n",
       "    </tr>\n",
       "  </thead>\n",
       "  <tbody>\n",
       "    <tr>\n",
       "      <th>0</th>\n",
       "      <td>mama derecha</td>\n",
       "      <td></td>\n",
       "      <td>3.8 Gy</td>\n",
       "      <td>[V 2.4$5%]</td>\n",
       "    </tr>\n",
       "    <tr>\n",
       "      <th>1</th>\n",
       "      <td>PULMON IZDO</td>\n",
       "      <td></td>\n",
       "      <td></td>\n",
       "      <td>[V18$15%-20%, V8$35-40%, V4$50-55%]</td>\n",
       "    </tr>\n",
       "    <tr>\n",
       "      <th>2</th>\n",
       "      <td>PULMON DCHO</td>\n",
       "      <td></td>\n",
       "      <td></td>\n",
       "      <td>[V4$10-15%]</td>\n",
       "    </tr>\n",
       "    <tr>\n",
       "      <th>3</th>\n",
       "      <td>CORAZON</td>\n",
       "      <td>3.2 Gy</td>\n",
       "      <td></td>\n",
       "      <td>[V8$30-35%, V20$5%]</td>\n",
       "    </tr>\n",
       "    <tr>\n",
       "      <th>4</th>\n",
       "      <td>tiroides</td>\n",
       "      <td>0.96 Gy</td>\n",
       "      <td></td>\n",
       "      <td>[]</td>\n",
       "    </tr>\n",
       "    <tr>\n",
       "      <th>5</th>\n",
       "      <td>medula</td>\n",
       "      <td></td>\n",
       "      <td>40 Gy</td>\n",
       "      <td>[V20$0.1%]</td>\n",
       "    </tr>\n",
       "  </tbody>\n",
       "</table>\n",
       "</div>"
      ],
      "text/plain": [
       "          Organ     Dmean     Dmax                            DosimPars\n",
       "0  mama derecha             3.8 Gy                           [V 2.4$5%]\n",
       "1   PULMON IZDO                     [V18$15%-20%, V8$35-40%, V4$50-55%]\n",
       "2   PULMON DCHO                                             [V4$10-15%]\n",
       "3       CORAZON    3.2 Gy                           [V8$30-35%, V20$5%]\n",
       "4      tiroides   0.96 Gy                                            []\n",
       "5        medula              40 Gy                           [V20$0.1%]"
      ]
     },
     "execution_count": 6,
     "metadata": {},
     "output_type": "execute_result"
    }
   ],
   "source": [
    "oardf"
   ]
  },
  {
   "cell_type": "code",
   "execution_count": null,
   "id": "f8de7e54-c774-41a9-8c48-1a3e8b175837",
   "metadata": {},
   "outputs": [],
   "source": []
  }
 ],
 "metadata": {
  "kernelspec": {
   "display_name": "Python 3 (ipykernel)",
   "language": "python",
   "name": "python3"
  },
  "language_info": {
   "codemirror_mode": {
    "name": "ipython",
    "version": 3
   },
   "file_extension": ".py",
   "mimetype": "text/x-python",
   "name": "python",
   "nbconvert_exporter": "python",
   "pygments_lexer": "ipython3",
   "version": "3.11.6"
  }
 },
 "nbformat": 4,
 "nbformat_minor": 5
}
