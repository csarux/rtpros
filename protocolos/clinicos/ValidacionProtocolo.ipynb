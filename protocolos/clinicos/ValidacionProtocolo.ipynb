{
 "cells": [
  {
   "cell_type": "code",
   "execution_count": 1,
   "id": "8d1ccb28-9fa0-42a8-8dcd-eb29f4640bae",
   "metadata": {},
   "outputs": [],
   "source": [
    "import aclinprot as acp\n",
    "import re"
   ]
  },
  {
   "cell_type": "code",
   "execution_count": 12,
   "id": "45ab8842-b37c-4b9f-9c7a-7e4f9fa86b99",
   "metadata": {},
   "outputs": [],
   "source": [
    "# Nombre del archivo csv con los datos de la prescripción\n",
    "prescriptionFile = '../../prescripciones/Meningioma.csv'"
   ]
  },
  {
   "cell_type": "code",
   "execution_count": 13,
   "id": "8551310f-e2a9-4809-b366-153d11730a29",
   "metadata": {},
   "outputs": [
    {
     "data": {
      "text/plain": [
       "2"
      ]
     },
     "execution_count": 13,
     "metadata": {},
     "output_type": "execute_result"
    }
   ],
   "source": [
    "acp.coverageConstraintCounting(prescriptionFile)"
   ]
  },
  {
   "cell_type": "code",
   "execution_count": 14,
   "id": "ed8b43e6-dbba-41a5-949b-b44f58baf52e",
   "metadata": {},
   "outputs": [
    {
     "data": {
      "text/plain": [
       "18"
      ]
     },
     "execution_count": 14,
     "metadata": {},
     "output_type": "execute_result"
    }
   ],
   "source": [
    "acp.OARConstraintCounting(prescriptionFile)"
   ]
  },
  {
   "cell_type": "code",
   "execution_count": 15,
   "id": "905bf32d-499b-4979-b927-12ae4cedb159",
   "metadata": {},
   "outputs": [
    {
     "data": {
      "text/plain": [
       "17"
      ]
     },
     "execution_count": 15,
     "metadata": {},
     "output_type": "execute_result"
    }
   ],
   "source": [
    "acp.prescriptionPlanObjetiveCounting(prescriptionFile)"
   ]
  },
  {
   "cell_type": "code",
   "execution_count": 7,
   "id": "ad6069c9-e9f2-4549-972c-3570411b2232",
   "metadata": {},
   "outputs": [
    {
     "name": "stdout",
     "output_type": "stream",
     "text": [
      "['V 35$45%', 'V 25$65%', 'V36$0.5cc', 'V60$3cc', 'V45$0.03cc', 'V20$1cc'] []\n"
     ]
    },
    {
     "data": {
      "text/plain": [
       "6"
      ]
     },
     "execution_count": 7,
     "metadata": {},
     "output_type": "execute_result"
    }
   ],
   "source": [
    "prdf = acp.read_prescription(prescriptionFile)\n",
    "prescription = prdf.iloc[0]\n",
    "\n",
    "OARs = prescription.OrgansAtRisk.split('Organ :')[1:]\n",
    "\n",
    "VXX_rx_dict = {\n",
    "#    'targetVolume': re.compile(r'Volume / Structure :(?P<targetVolume>.*?) M'),\n",
    "    'Mean': re.compile(r'Mean :(?P<Mean>.*?) Max Dose :'),\n",
    "    'Max': re.compile(r'Max Dose :(?P<Max>.*?c?Gy)$'),\n",
    "}\n",
    "\n",
    "rxVxx = re.compile(r'V.*?\\$')\n",
    "rxVxxGy = re.compile(r'V.*?Gy.*?\\$')\n",
    "\n",
    "VxxConstraints, VxxGyConstraints = [], []\n",
    "for OAR in OARs:\n",
    "    MeanMax, Constraints = OAR.split('Constraints : \\n')\n",
    "    constraintList = Constraints.splitlines()\n",
    "    for constraint in constraintList:\n",
    "        matchVxx = rxVxx.search(constraint)\n",
    "        if matchVxx:\n",
    "            VxxConstraints.append(matchVxx.string)\n",
    "\n",
    "        matchVxxGy = rxVxxGy.search(constraint)\n",
    "        if matchVxxGy:\n",
    "            VxxGyConstraints.append(matchVxxGy.string)\n",
    "print(VxxConstraints, VxxGyConstraints)\n",
    "len(VxxConstraints) - len(VxxGyConstraints) "
   ]
  },
  {
   "cell_type": "code",
   "execution_count": 8,
   "id": "592fdc92-0700-426b-ae9c-fcd0da5a2a37",
   "metadata": {
    "scrolled": true
   },
   "outputs": [
    {
     "name": "stdout",
     "output_type": "stream",
     "text": [
      "Organ :Tronco cerebral Mean :  Max Dose : 52 Gy\n",
      "Constraints : \n",
      "V 35$45%\n",
      "V 25$65%\n",
      "Organ :Nervio optico Izq Mean :  Max Dose : 35 Gy\n",
      "Constraints : \n",
      "\n",
      "Organ :Quiasma optico Mean :  Max Dose : 52 Gy\n",
      "Constraints : \n",
      "\n",
      "Organ :Medula espinal Mean :  Max Dose : 45 Gy\n",
      "Constraints : \n",
      "\n",
      "Organ :Oido interno (cóclea) Mean :  Max Dose : 40 Gy\n",
      "Constraints : \n",
      "V36$0.5cc\n",
      "Organ :Cristalino Mean :  Max Dose : 10 Gy\n",
      "Constraints : \n",
      "\n",
      "Organ :Hipofisis Mean : 45 Gy Max Dose : 52 Gy\n",
      "Constraints : \n",
      "\n",
      "Organ :Hipocampo Mean :  Max Dose : \n",
      "Constraints : \n",
      "D40%$7.3 Gy\n",
      "Organ :Cerebro sano Mean :  Max Dose : \n",
      "Constraints : \n",
      "V60$3cc\n",
      "Organ :Ojo (retina) Mean :  Max Dose : 50 Gy\n",
      "Constraints : \n",
      "V45$0.03cc\n",
      "Organ :Glandula lacrimal Mean :  Max Dose : 36 Gy\n",
      "Constraints : \n",
      "V20$1cc\n",
      "Organ :Nervio optico Dcho Mean :  Max Dose : 52 Gy\n",
      "Constraints : \n",
      "\n"
     ]
    }
   ],
   "source": [
    "print(prescription.OrgansAtRisk)"
   ]
  },
  {
   "cell_type": "code",
   "execution_count": 6,
   "id": "277cf89d-da4f-4585-9f2d-0d96166ccf6a",
   "metadata": {},
   "outputs": [],
   "source": [
    "import xml.etree.ElementTree as ET"
   ]
  },
  {
   "cell_type": "code",
   "execution_count": 16,
   "id": "028bad5a-6b74-44d5-ad14-a0d2d2eb70f3",
   "metadata": {},
   "outputs": [],
   "source": [
    "# Campos del protocolo\n",
    "ProtocolID='Meningioma'\n",
    "TreatmentSite='Brain'\n",
    "PlanID='Meningioma'\n",
    "\n",
    "# Primera versión del protocolo clínico a partir de la prescripción\n",
    "acp.convertPrescriptionIntoClinicalProtocol(prescriptionFile, ProtocolID, TreatmentSite, PlanID)"
   ]
  },
  {
   "cell_type": "code",
   "execution_count": 17,
   "id": "dff74e9c-78ef-43c7-98ef-d1fc86d3593e",
   "metadata": {},
   "outputs": [],
   "source": [
    "cpet = acp.parseProt('ClinicalProtocol.xml')"
   ]
  },
  {
   "cell_type": "code",
   "execution_count": 18,
   "id": "a32445a0-1435-4c4d-abbe-ad7481c8df6e",
   "metadata": {},
   "outputs": [
    {
     "data": {
      "text/plain": [
       "23"
      ]
     },
     "execution_count": 18,
     "metadata": {},
     "output_type": "execute_result"
    }
   ],
   "source": [
    "len(cpet.find('Phases').find('Phase').find('Prescription'))"
   ]
  },
  {
   "cell_type": "code",
   "execution_count": null,
   "id": "01db6f85-6fce-4d38-a3f3-c1b319df1755",
   "metadata": {},
   "outputs": [],
   "source": []
  }
 ],
 "metadata": {
  "kernelspec": {
   "display_name": "Python 3 (ipykernel)",
   "language": "python",
   "name": "python3"
  },
  "language_info": {
   "codemirror_mode": {
    "name": "ipython",
    "version": 3
   },
   "file_extension": ".py",
   "mimetype": "text/x-python",
   "name": "python",
   "nbconvert_exporter": "python",
   "pygments_lexer": "ipython3",
   "version": "3.11.6"
  }
 },
 "nbformat": 4,
 "nbformat_minor": 5
}
