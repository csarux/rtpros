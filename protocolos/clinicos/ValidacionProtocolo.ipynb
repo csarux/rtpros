{
 "cells": [
  {
   "cell_type": "code",
   "execution_count": 1,
   "id": "8d1ccb28-9fa0-42a8-8dcd-eb29f4640bae",
   "metadata": {},
   "outputs": [],
   "source": [
    "import aclinprot as acp\n",
    "import re"
   ]
  },
  {
   "cell_type": "code",
   "execution_count": 12,
   "id": "45ab8842-b37c-4b9f-9c7a-7e4f9fa86b99",
   "metadata": {},
   "outputs": [],
   "source": [
    "# Nombre del archivo csv con los datos de la prescripción\n",
    "prescriptionFile = '../../prescripciones/LechoProstataCadenas.csv'"
   ]
  },
  {
   "cell_type": "code",
   "execution_count": 13,
   "id": "8551310f-e2a9-4809-b366-153d11730a29",
   "metadata": {},
   "outputs": [
    {
     "data": {
      "text/plain": [
       "4"
      ]
     },
     "execution_count": 13,
     "metadata": {},
     "output_type": "execute_result"
    }
   ],
   "source": [
    "acp.coverageConstraintCounting(prescriptionFile)"
   ]
  },
  {
   "cell_type": "code",
   "execution_count": 14,
   "id": "ed8b43e6-dbba-41a5-949b-b44f58baf52e",
   "metadata": {},
   "outputs": [
    {
     "data": {
      "text/plain": [
       "14"
      ]
     },
     "execution_count": 14,
     "metadata": {},
     "output_type": "execute_result"
    }
   ],
   "source": [
    "acp.OARConstraintCounting(prescriptionFile)"
   ]
  },
  {
   "cell_type": "code",
   "execution_count": 20,
   "id": "ad6069c9-e9f2-4549-972c-3570411b2232",
   "metadata": {},
   "outputs": [
    {
     "name": "stdout",
     "output_type": "stream",
     "text": [
      "['V 70$25 %', 'V 66$30 %', 'V 60$35 %', 'V 40-45$60 %', 'V 70$35 %', 'V 66$40 %', 'V 60$40-50 %', 'V 50$10 %', 'V60$0.5cc', 'V 40$124 cc', 'V45$71cc'] []\n"
     ]
    },
    {
     "data": {
      "text/plain": [
       "11"
      ]
     },
     "execution_count": 20,
     "metadata": {},
     "output_type": "execute_result"
    }
   ],
   "source": [
    "prdf = acp.read_prescription(prescriptionFile)\n",
    "prescription = prdf.iloc[0]\n",
    "\n",
    "OARs = prescription.OrgansAtRisk.split('Organ :')[1:]\n",
    "\n",
    "VXX_rx_dict = {\n",
    "#    'targetVolume': re.compile(r'Volume / Structure :(?P<targetVolume>.*?) M'),\n",
    "    'Mean': re.compile(r'Mean :(?P<Mean>.*?) Max Dose :'),\n",
    "    'Max': re.compile(r'Max Dose :(?P<Max>.*?c?Gy)$'),\n",
    "}\n",
    "\n",
    "rxVxx = re.compile(r'V.*?\\$')\n",
    "rxVxxGy = re.compile(r'V.*?Gy.*?\\$')\n",
    "\n",
    "VxxConstraints, VxxGyConstraints = [], []\n",
    "for OAR in OARs:\n",
    "    MeanMax, Constraints = OAR.split('Constraints : \\n')\n",
    "    constraintList = Constraints.splitlines()\n",
    "    for constraint in constraintList:\n",
    "        matchVxx = rxVxx.search(constraint)\n",
    "        if matchVxx:\n",
    "            VxxConstraints.append(matchVxx.string)\n",
    "\n",
    "        matchVxxGy = rxVxxGy.search(constraint)\n",
    "        if matchVxxGy:\n",
    "            VxxGyConstraints.append(matchVxxGy.string)\n",
    "print(VxxConstraints, VxxGyConstraints)\n",
    "len(VxxConstraints) - len(VxxGyConstraints) "
   ]
  },
  {
   "cell_type": "code",
   "execution_count": 21,
   "id": "592fdc92-0700-426b-ae9c-fcd0da5a2a37",
   "metadata": {
    "scrolled": true
   },
   "outputs": [
    {
     "name": "stdout",
     "output_type": "stream",
     "text": [
      "Organ :Recto Mean : 50 Gy Max Dose : \n",
      "Constraints : \n",
      "V 70$25 %\n",
      "V 66$30 %\n",
      "V 60$35 %\n",
      "V 40-45$60 %\n",
      "Organ :VejigaMINIMA Mean :  Max Dose : \n",
      "Constraints : \n",
      "V 70$35 %\n",
      "V 66$40 %\n",
      "V 60$40-50 %\n",
      "Organ :Cabeza femoral I Mean :  Max Dose : 60 Gy\n",
      "Constraints : \n",
      "V 50$10 %\n",
      "Organ :Intestino Mean :  Max Dose : \n",
      "Constraints : \n",
      "V60$0.5cc\n",
      "V 40$124 cc\n",
      "V45$71cc\n",
      "Organ :Bulbo peneano Mean : 52 Gy Max Dose : \n",
      "Constraints : \n",
      "\n"
     ]
    }
   ],
   "source": [
    "print(prescription.OrgansAtRisk)"
   ]
  },
  {
   "cell_type": "code",
   "execution_count": null,
   "id": "277cf89d-da4f-4585-9f2d-0d96166ccf6a",
   "metadata": {},
   "outputs": [],
   "source": []
  }
 ],
 "metadata": {
  "kernelspec": {
   "display_name": "Python 3 (ipykernel)",
   "language": "python",
   "name": "python3"
  },
  "language_info": {
   "codemirror_mode": {
    "name": "ipython",
    "version": 3
   },
   "file_extension": ".py",
   "mimetype": "text/x-python",
   "name": "python",
   "nbconvert_exporter": "python",
   "pygments_lexer": "ipython3",
   "version": "3.11.0"
  }
 },
 "nbformat": 4,
 "nbformat_minor": 5
}
