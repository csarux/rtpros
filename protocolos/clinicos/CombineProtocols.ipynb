{
 "cells": [
  {
   "cell_type": "markdown",
   "id": "c54a84bd-32a5-4357-a4b2-2bcc06e77d60",
   "metadata": {},
   "source": [
    "# Combinación de protocolos clínicos\n",
    "------\n",
    "\n",
    "Tests de funcionalidades para añadir a un protocolo estructuras, prescripciones y índices de calidad dosimétrica que estén especificados en otro protocolo"
   ]
  },
  {
   "cell_type": "code",
   "execution_count": 1,
   "id": "f188fe13-eb63-44b6-9da3-8a7bc2693040",
   "metadata": {},
   "outputs": [],
   "source": [
    "import aclinprot as acp"
   ]
  },
  {
   "cell_type": "markdown",
   "id": "cdc86c28-a03a-4e58-a127-c2224ec0de6f",
   "metadata": {},
   "source": [
    "Espcificar los nombres de los archivos de protocolo clínico"
   ]
  },
  {
   "cell_type": "code",
   "execution_count": 2,
   "id": "a14e5932-63bb-415a-9816-d4402a51a819",
   "metadata": {},
   "outputs": [],
   "source": [
    "modelclinprotfile = 'MamaDchaCads15Fx.xml'\n",
    "amendclinprotfile = 'MamaDchaCads15FxPTVLess.xml'"
   ]
  },
  {
   "cell_type": "markdown",
   "id": "8d08215c-5020-4756-b01c-a2223039ee90",
   "metadata": {},
   "source": [
    "Obtener los xml Element Trees de cada protocolo"
   ]
  },
  {
   "cell_type": "code",
   "execution_count": 3,
   "id": "1b31b14f-be44-4b56-bdcd-67d57bf1bbe0",
   "metadata": {},
   "outputs": [],
   "source": [
    "modelcpet = acp.parseProt(modelclinprotfile)\n",
    "amendedcpet = acp.parseProt(amendclinprotfile)"
   ]
  },
  {
   "cell_type": "markdown",
   "id": "fdf7499d-e029-420b-aabf-d397f9cf4389",
   "metadata": {},
   "source": [
    "Buscar elementos que no estén en uno de los protocolos"
   ]
  },
  {
   "cell_type": "code",
   "execution_count": 4,
   "id": "1ef71e82-4176-4009-8d6d-7db4c2d9a740",
   "metadata": {},
   "outputs": [
    {
     "data": {
      "text/plain": [
       "['PTV axila dcha']"
      ]
     },
     "execution_count": 4,
     "metadata": {},
     "output_type": "execute_result"
    }
   ],
   "source": [
    "modelprlist = acp.readClinProtStructureNames(modelclinprotfile)\n",
    "amendprlist = acp.readClinProtStructureNames(amendclinprotfile)\n",
    "missingElements = [item for item in modelprlist if item not in amendprlist]\n",
    "missingElements"
   ]
  },
  {
   "cell_type": "markdown",
   "id": "7f60ef81-f0ba-469b-8acc-183e02e31039",
   "metadata": {},
   "source": [
    "Añadir los elementos que faltan"
   ]
  },
  {
   "cell_type": "code",
   "execution_count": 5,
   "id": "726303da-a5b8-45e0-84c3-96be200c8a87",
   "metadata": {},
   "outputs": [],
   "source": [
    "for missingElement in missingElements:\n",
    "    amendedcpet = acp.amendClinicalProtocol(amendedcpet, modelcpet, ID=missingElement)"
   ]
  },
  {
   "cell_type": "markdown",
   "id": "551c9595-16d7-4b03-8907-e5189fd7a5ad",
   "metadata": {},
   "source": [
    "Escribir el protocolo modificado"
   ]
  },
  {
   "cell_type": "code",
   "execution_count": 6,
   "id": "f43f7013-de6f-4831-85cd-159e823c8fd2",
   "metadata": {},
   "outputs": [],
   "source": [
    "acp.writeProt(amendedcpet, amendclinprotfile)"
   ]
  }
 ],
 "metadata": {
  "kernelspec": {
   "display_name": "Python 3 (ipykernel)",
   "language": "python",
   "name": "python3"
  },
  "language_info": {
   "codemirror_mode": {
    "name": "ipython",
    "version": 3
   },
   "file_extension": ".py",
   "mimetype": "text/x-python",
   "name": "python",
   "nbconvert_exporter": "python",
   "pygments_lexer": "ipython3",
   "version": "3.11.0"
  }
 },
 "nbformat": 4,
 "nbformat_minor": 5
}
