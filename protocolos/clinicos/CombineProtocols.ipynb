{
 "cells": [
  {
   "cell_type": "code",
   "execution_count": 1,
   "id": "f188fe13-eb63-44b6-9da3-8a7bc2693040",
   "metadata": {},
   "outputs": [],
   "source": [
    "import aclinprot as acp"
   ]
  },
  {
   "cell_type": "code",
   "execution_count": 2,
   "id": "a14e5932-63bb-415a-9816-d4402a51a819",
   "metadata": {},
   "outputs": [],
   "source": [
    "clinprotfile = 'MamaDchaCads15Fx-PTVless.xml'"
   ]
  },
  {
   "cell_type": "code",
   "execution_count": 3,
   "id": "a625c4d3-6776-467e-9f0b-270ed5793818",
   "metadata": {},
   "outputs": [],
   "source": [
    "acp.indentProt(clinprotfile)"
   ]
  },
  {
   "cell_type": "code",
   "execution_count": 6,
   "id": "1ef71e82-4176-4009-8d6d-7db4c2d9a740",
   "metadata": {},
   "outputs": [],
   "source": [
    "pr1list = acp.readClinProtStructureNames(clinprotfile)"
   ]
  },
  {
   "cell_type": "code",
   "execution_count": 7,
   "id": "ec64f19b-b9e2-4602-bed8-92ed8127b74f",
   "metadata": {},
   "outputs": [],
   "source": [
    "pr2list = acp.readClinProtStructureNames('MamaDchaCads15Fx.xml')"
   ]
  },
  {
   "cell_type": "code",
   "execution_count": 9,
   "id": "1b31b14f-be44-4b56-bdcd-67d57bf1bbe0",
   "metadata": {},
   "outputs": [
    {
     "data": {
      "text/plain": [
       "['PTV axila dcha']"
      ]
     },
     "execution_count": 9,
     "metadata": {},
     "output_type": "execute_result"
    }
   ],
   "source": [
    "[item for item in pr2list if item not in pr1list]"
   ]
  },
  {
   "cell_type": "code",
   "execution_count": null,
   "id": "16d7b87c-5c3b-4dd9-98ff-3fc2902c40ee",
   "metadata": {},
   "outputs": [],
   "source": []
  }
 ],
 "metadata": {
  "kernelspec": {
   "display_name": "Python 3 (ipykernel)",
   "language": "python",
   "name": "python3"
  },
  "language_info": {
   "codemirror_mode": {
    "name": "ipython",
    "version": 3
   },
   "file_extension": ".py",
   "mimetype": "text/x-python",
   "name": "python",
   "nbconvert_exporter": "python",
   "pygments_lexer": "ipython3",
   "version": "3.11.6"
  }
 },
 "nbformat": 4,
 "nbformat_minor": 5
}
