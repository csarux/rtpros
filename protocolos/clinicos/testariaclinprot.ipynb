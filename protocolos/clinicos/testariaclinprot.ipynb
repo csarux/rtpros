{
 "cells": [
  {
   "cell_type": "markdown",
   "id": "e04af062-dc71-46c7-aefe-76ee5794686e",
   "metadata": {},
   "source": [
    "# Tests módulo `ariaclinprot`"
   ]
  },
  {
   "cell_type": "code",
   "execution_count": 1,
   "id": "fbf5a34e-d275-45b4-8f84-882dd7bddf7d",
   "metadata": {},
   "outputs": [],
   "source": [
    "import ariaclinprot as acp"
   ]
  },
  {
   "cell_type": "code",
   "execution_count": null,
   "id": "c8423e1e-e783-439a-bb2e-1327a5c1ea82",
   "metadata": {},
   "outputs": [],
   "source": [
    "acp.convertPrescriptionToClinicalProtocol(prescription='../../prescripciones/SBRTPulmon7.5x8.csv', ProtocolID='SBRTPulmon7.5x8', \n",
    "                                          TreatmentSite='Lung', PlanID='SBRTPulmon')"
   ]
  },
  {
   "cell_type": "markdown",
   "id": "42092192-6a12-43ed-b2d1-b7e624c098e1",
   "metadata": {},
   "source": [
    "## Prescripciones"
   ]
  },
  {
   "cell_type": "code",
   "execution_count": 5,
   "id": "2c08b3d3-1781-4609-87b4-27f27898222a",
   "metadata": {},
   "outputs": [
    {
     "name": "stdout",
     "output_type": "stream",
     "text": [
      "\u001b[0m\u001b[01;32mLICENSE\u001b[0m*  \u001b[01;34mprescripciones\u001b[0m/  \u001b[01;34mprotocolos\u001b[0m/  \u001b[01;32mREADME.md\u001b[0m*  \u001b[01;34mtools\u001b[0m/\n"
     ]
    }
   ],
   "source": [
    "%ls ../.."
   ]
  },
  {
   "cell_type": "code",
   "execution_count": 2,
   "id": "31cf13bd-fb33-4c8b-bbca-008dec08ad97",
   "metadata": {},
   "outputs": [],
   "source": [
    "pvdf, ccdf, oardf = acp.parse_prescription('../../prescripciones/SBRTPulmon7.5x8.csv')"
   ]
  },
  {
   "cell_type": "code",
   "execution_count": 3,
   "id": "ca6a1e99-0e5e-4f42-a868-721a610c704f",
   "metadata": {},
   "outputs": [
    {
     "data": {
      "text/html": [
       "<div>\n",
       "<style scoped>\n",
       "    .dataframe tbody tr th:only-of-type {\n",
       "        vertical-align: middle;\n",
       "    }\n",
       "\n",
       "    .dataframe tbody tr th {\n",
       "        vertical-align: top;\n",
       "    }\n",
       "\n",
       "    .dataframe thead th {\n",
       "        text-align: right;\n",
       "    }\n",
       "</style>\n",
       "<table border=\"1\" class=\"dataframe\">\n",
       "  <thead>\n",
       "    <tr style=\"text-align: right;\">\n",
       "      <th></th>\n",
       "      <th>Volume</th>\n",
       "      <th>Dose</th>\n",
       "      <th>FxDose</th>\n",
       "    </tr>\n",
       "  </thead>\n",
       "  <tbody>\n",
       "    <tr>\n",
       "      <th>0</th>\n",
       "      <td>PTV LSI</td>\n",
       "      <td>60.000</td>\n",
       "      <td>7.500</td>\n",
       "    </tr>\n",
       "  </tbody>\n",
       "</table>\n",
       "</div>"
      ],
      "text/plain": [
       "    Volume    Dose FxDose\n",
       "0  PTV LSI  60.000  7.500"
      ]
     },
     "execution_count": 3,
     "metadata": {},
     "output_type": "execute_result"
    }
   ],
   "source": [
    "pvdf"
   ]
  },
  {
   "cell_type": "code",
   "execution_count": 4,
   "id": "528e30cf-036a-4dde-be8d-95af0645a11e",
   "metadata": {},
   "outputs": [
    {
     "data": {
      "text/html": [
       "<div>\n",
       "<style scoped>\n",
       "    .dataframe tbody tr th:only-of-type {\n",
       "        vertical-align: middle;\n",
       "    }\n",
       "\n",
       "    .dataframe tbody tr th {\n",
       "        vertical-align: top;\n",
       "    }\n",
       "\n",
       "    .dataframe thead th {\n",
       "        text-align: right;\n",
       "    }\n",
       "</style>\n",
       "<table border=\"1\" class=\"dataframe\">\n",
       "  <thead>\n",
       "    <tr style=\"text-align: right;\">\n",
       "      <th></th>\n",
       "      <th>Volume</th>\n",
       "      <th>Min</th>\n",
       "      <th>Max</th>\n",
       "      <th>AtLeast</th>\n",
       "      <th>NoMore</th>\n",
       "    </tr>\n",
       "  </thead>\n",
       "  <tbody>\n",
       "    <tr>\n",
       "      <th>0</th>\n",
       "      <td>PTV LSI</td>\n",
       "      <td></td>\n",
       "      <td></td>\n",
       "      <td>[95, 95, 57]</td>\n",
       "      <td>[5, 107, 64.2]</td>\n",
       "    </tr>\n",
       "  </tbody>\n",
       "</table>\n",
       "</div>"
      ],
      "text/plain": [
       "    Volume Min Max       AtLeast          NoMore\n",
       "0  PTV LSI          [95, 95, 57]  [5, 107, 64.2]"
      ]
     },
     "execution_count": 4,
     "metadata": {},
     "output_type": "execute_result"
    }
   ],
   "source": [
    "ccdf"
   ]
  },
  {
   "cell_type": "code",
   "execution_count": 5,
   "id": "35d729b0-2620-4287-a523-c7c37d42a16a",
   "metadata": {},
   "outputs": [
    {
     "data": {
      "text/html": [
       "<div>\n",
       "<style scoped>\n",
       "    .dataframe tbody tr th:only-of-type {\n",
       "        vertical-align: middle;\n",
       "    }\n",
       "\n",
       "    .dataframe tbody tr th {\n",
       "        vertical-align: top;\n",
       "    }\n",
       "\n",
       "    .dataframe thead th {\n",
       "        text-align: right;\n",
       "    }\n",
       "</style>\n",
       "<table border=\"1\" class=\"dataframe\">\n",
       "  <thead>\n",
       "    <tr style=\"text-align: right;\">\n",
       "      <th></th>\n",
       "      <th>Organ</th>\n",
       "      <th>Dmean</th>\n",
       "      <th>Dmax</th>\n",
       "      <th>DosimPars</th>\n",
       "    </tr>\n",
       "  </thead>\n",
       "  <tbody>\n",
       "    <tr>\n",
       "      <th>0</th>\n",
       "      <td>suma pulmones</td>\n",
       "      <td></td>\n",
       "      <td></td>\n",
       "      <td>[D 950cc$14.4 Gy, V15.2$37%]</td>\n",
       "    </tr>\n",
       "    <tr>\n",
       "      <th>1</th>\n",
       "      <td>medula</td>\n",
       "      <td></td>\n",
       "      <td></td>\n",
       "      <td>[V32$1 cc]</td>\n",
       "    </tr>\n",
       "    <tr>\n",
       "      <th>2</th>\n",
       "      <td>plexo braquial</td>\n",
       "      <td></td>\n",
       "      <td>33.6 Gy</td>\n",
       "      <td>[V26.4$0.35 cc]</td>\n",
       "    </tr>\n",
       "    <tr>\n",
       "      <th>3</th>\n",
       "      <td>via aerea</td>\n",
       "      <td></td>\n",
       "      <td>48.8 Gy</td>\n",
       "      <td>[V 38.4$0.5 cc]</td>\n",
       "    </tr>\n",
       "    <tr>\n",
       "      <th>4</th>\n",
       "      <td>traquea</td>\n",
       "      <td></td>\n",
       "      <td>56 Gy</td>\n",
       "      <td>[V50$4 cc]</td>\n",
       "    </tr>\n",
       "    <tr>\n",
       "      <th>5</th>\n",
       "      <td>esofago</td>\n",
       "      <td></td>\n",
       "      <td>43.2 Gy</td>\n",
       "      <td>[V36.8$5cc]</td>\n",
       "    </tr>\n",
       "    <tr>\n",
       "      <th>6</th>\n",
       "      <td>corazon</td>\n",
       "      <td></td>\n",
       "      <td>40 Gy</td>\n",
       "      <td>[V34.4$15 cc]</td>\n",
       "    </tr>\n",
       "    <tr>\n",
       "      <th>7</th>\n",
       "      <td>aorta</td>\n",
       "      <td></td>\n",
       "      <td>62 Gy</td>\n",
       "      <td>[V55.2$10cc]</td>\n",
       "    </tr>\n",
       "    <tr>\n",
       "      <th>8</th>\n",
       "      <td>v cava inferior</td>\n",
       "      <td></td>\n",
       "      <td>62 Gy</td>\n",
       "      <td>[V55.2$10cc]</td>\n",
       "    </tr>\n",
       "    <tr>\n",
       "      <th>9</th>\n",
       "      <td>v cava superior</td>\n",
       "      <td></td>\n",
       "      <td>62 Gy</td>\n",
       "      <td>[V55.2$10cc]</td>\n",
       "    </tr>\n",
       "    <tr>\n",
       "      <th>10</th>\n",
       "      <td>arteria pulmonar</td>\n",
       "      <td></td>\n",
       "      <td>62 Gy</td>\n",
       "      <td>[V55.2$10cc]</td>\n",
       "    </tr>\n",
       "    <tr>\n",
       "      <th>11</th>\n",
       "      <td>venas pulmonares</td>\n",
       "      <td></td>\n",
       "      <td>62 Gy</td>\n",
       "      <td>[V55.2$10cc]</td>\n",
       "    </tr>\n",
       "    <tr>\n",
       "      <th>12</th>\n",
       "      <td>piel</td>\n",
       "      <td></td>\n",
       "      <td>45.6 Gy</td>\n",
       "      <td>[V43.2$10 cc]</td>\n",
       "    </tr>\n",
       "    <tr>\n",
       "      <th>13</th>\n",
       "      <td>pared costal</td>\n",
       "      <td></td>\n",
       "      <td>63 Gy</td>\n",
       "      <td>[V50$5 cc]</td>\n",
       "    </tr>\n",
       "    <tr>\n",
       "      <th>14</th>\n",
       "      <td>higado</td>\n",
       "      <td></td>\n",
       "      <td></td>\n",
       "      <td>[D700$24.8 Gy]</td>\n",
       "    </tr>\n",
       "    <tr>\n",
       "      <th>15</th>\n",
       "      <td>plexo braquial</td>\n",
       "      <td></td>\n",
       "      <td>39.2 Gy</td>\n",
       "      <td>[V32.8$3cc]</td>\n",
       "    </tr>\n",
       "  </tbody>\n",
       "</table>\n",
       "</div>"
      ],
      "text/plain": [
       "               Organ Dmean     Dmax                     DosimPars\n",
       "0      suma pulmones                 [D 950cc$14.4 Gy, V15.2$37%]\n",
       "1             medula                                   [V32$1 cc]\n",
       "2     plexo braquial        33.6 Gy               [V26.4$0.35 cc]\n",
       "3          via aerea        48.8 Gy               [V 38.4$0.5 cc]\n",
       "4            traquea          56 Gy                    [V50$4 cc]\n",
       "5            esofago        43.2 Gy                   [V36.8$5cc]\n",
       "6            corazon          40 Gy                 [V34.4$15 cc]\n",
       "7              aorta          62 Gy                  [V55.2$10cc]\n",
       "8    v cava inferior          62 Gy                  [V55.2$10cc]\n",
       "9    v cava superior          62 Gy                  [V55.2$10cc]\n",
       "10  arteria pulmonar          62 Gy                  [V55.2$10cc]\n",
       "11  venas pulmonares          62 Gy                  [V55.2$10cc]\n",
       "12              piel        45.6 Gy                 [V43.2$10 cc]\n",
       "13      pared costal          63 Gy                    [V50$5 cc]\n",
       "14            higado                               [D700$24.8 Gy]\n",
       "15    plexo braquial        39.2 Gy                   [V32.8$3cc]"
      ]
     },
     "execution_count": 5,
     "metadata": {},
     "output_type": "execute_result"
    }
   ],
   "source": [
    "oardf.Dmean = oardf.Dmean.str.strip()\n",
    "oardf.Dmax = oardf.Dmax.str.strip()\n",
    "oardf"
   ]
  },
  {
   "cell_type": "code",
   "execution_count": 11,
   "id": "e777cf63-e87f-4f1d-b81b-dcfdb72a5ce6",
   "metadata": {},
   "outputs": [
    {
     "data": {
      "text/plain": [
       "'V60$30 %'"
      ]
     },
     "execution_count": 11,
     "metadata": {},
     "output_type": "execute_result"
    }
   ],
   "source": [
    "oardf.DosimPars.values[1][1]"
   ]
  },
  {
   "cell_type": "code",
   "execution_count": 15,
   "id": "21181dcf-35fc-4668-b77d-c9a1da82a7b5",
   "metadata": {},
   "outputs": [
    {
     "data": {
      "text/plain": [
       "{'Vxx': {'Volume%': 30.0, 'DoseGy': 60.0}}"
      ]
     },
     "execution_count": 15,
     "metadata": {},
     "output_type": "execute_result"
    }
   ],
   "source": [
    "acp.parseDosimPar(oardf.DosimPars.values[6][0])"
   ]
  },
  {
   "cell_type": "markdown",
   "id": "08be65ef-463f-46c9-81b4-3ce1262d7331",
   "metadata": {},
   "source": [
    "## Escritura de protocolos clínicos"
   ]
  },
  {
   "cell_type": "code",
   "execution_count": 14,
   "id": "6df229f7-7b9e-4ba0-b8e7-0bb48e17d42e",
   "metadata": {},
   "outputs": [],
   "source": [
    "# Read protocol template\n",
    "bbx = acp.parseProt('BareBone.xml')\n",
    "# Preview\n",
    "ProtocolID = 'Laringe'\n",
    "TreatmentSite = 'Head and Neck'\n",
    "acp.modPreview(bbx, ID=ProtocolID, TreatmentSite=TreatmentSite)\n",
    "# Phases\n",
    "PlanID='ORL'\n",
    "FractionCount = int(float(pvdf.Dose[0])/float(pvdf.FxDose[0]))\n",
    "acp.modPhase(bbx, ID=PlanID, vFractionCount=FractionCount)\n",
    "# Structutures\n",
    "for pv in pvdf.itertuples():\n",
    "    acp.addStructure(bbx, structureName=pv.Volume)\n",
    "for oar in oardf.itertuples():\n",
    "    acp.addStructure(bbx, structureName=oar.Organ)\n",
    "\n",
    "# Plan objetives\n",
    "for pv in pvdf.itertuples():\n",
    "    ccVolumedf = ccdf[ccdf.Volume == pv.Volume]\n",
    "    '''\n",
    "    if not ccVolumedf.Min.str.match(' +')[0]:\n",
    "        a=1\n",
    "    if ccVolumedf.Max.str.match(' +')[0] == False:\n",
    "        a=1\n",
    "    '''\n",
    "    if ccVolumedf.AtLeast.values[0]:\n",
    "        atLeastlst = ccVolumedf.AtLeast.values[0]\n",
    "        VolumePercentage =  atLeastlst[0]\n",
    "        DosePercentage = float(atLeastlst[1])/100\n",
    "        FxDoseGy = float(pv.FxDose) * DosePercentage\n",
    "        DoseGy = float(pv.Dose) * DosePercentage\n",
    "        acp.addPlanObjetive(bbx, ID=pv.Volume, vParameter=VolumePercentage,\n",
    "                            vDose=FxDoseGy, vTotalDose=DoseGy, vModifier=0)\n",
    "    if ccVolumedf.NoMore.values[0]:\n",
    "        noMorelst = ccVolumedf.NoMore.values[0]\n",
    "        VolumePercentage =  noMorelst[0]\n",
    "        DosePercentage = float(noMorelst[1])/100\n",
    "        FxDoseGy = float(pv.FxDose) * DosePercentage\n",
    "        DoseGy = float(pv.Dose) * DosePercentage\n",
    "        acp.addPlanObjetive(bbx, ID=pv.Volume, vParameter=VolumePercentage,\n",
    "                            vDose=FxDoseGy, vTotalDose=DoseGy)\n",
    "for oar in oardf.itertuples():\n",
    "    if oar.Dmean:\n",
    "        ID = oar.Organ\n",
    "        Parameter = 0\n",
    "        Fxs = float(pvdf.Dose.values[0]) / float(pvdf.FxDose.values[0])\n",
    "        TotalDose = acp.parseDose(oar.Dmean)\n",
    "        Dose = f'{TotalDose / Fxs:.5f}'\n",
    "        acp.addPlanObjetive(bbx, ID=ID, vParameter=Parameter, vDose=Dose, vTotalDose=TotalDose,\n",
    "                            vModifier=8)\n",
    "    if oar.Dmax:\n",
    "        ID = oar.Organ\n",
    "        Parameter = 0\n",
    "        Fxs = float(pvdf.Dose.values[0]) / float(pvdf.FxDose.values[0])\n",
    "        TotalDose = acp.parseDose(oar.Dmax)\n",
    "        Dose = f'{TotalDose / Fxs:.5f}'\n",
    "        acp.addPlanObjetive(bbx, ID=ID, vParameter=Parameter, vDose=Dose, vTotalDose=TotalDose,\n",
    "                            vModifier=10)\n",
    "    if oar.DosimPars:\n",
    "        ID = oar.Organ\n",
    "        for DosimPar in oar.DosimPars:\n",
    "            constraint_dict = acp.parseDosimPar(DosimPar)\n",
    "            for key, constraint in constraint_dict.items():\n",
    "                if key == 'Vxx':\n",
    "                    VolumePercentage = constraint['Volume%']\n",
    "                    Fxs = float(pvdf.Dose.values[0]) / float(pvdf.FxDose.values[0])\n",
    "                    TotalDose = constraint['DoseGy']\n",
    "                    Dose = f'{TotalDose / Fxs:.5f}'\n",
    "                    acp.addPlanObjetive(bbx, ID=ID, vParameter=VolumePercentage, vDose=Dose, vTotalDose=TotalDose,\n",
    "                                        vModifier=1)\n",
    "                    \n",
    "# Quality Indexes\n",
    "for pv in pvdf.itertuples():\n",
    "    ccVolumedf = ccdf[ccdf.Volume == pv.Volume]\n",
    "    if ccVolumedf.AtLeast.values[0]:\n",
    "        TreatmentDosePrescription = acp.getTreatmentDosePrescription(pvdf)\n",
    "        atLeastlst = ccVolumedf.AtLeast.values[0]\n",
    "        VolumePercentage =  atLeastlst[0]\n",
    "        DosePercentage = float(atLeastlst[1])/100\n",
    "        StructureRelativeDose = float(pv.Dose) * DosePercentage / TreatmentDosePrescription * 100\n",
    "        acp.addQualityIndex(bbx, ID=pv.Volume, vType=2, vModifier=0, \n",
    "                            vValue=VolumePercentage, vTypeSpecifier=StructureRelativeDose, \n",
    "                            vReportDQPValueInAbsoluteUnits='false')\n",
    "    if ccVolumedf.NoMore.values[0]:\n",
    "        TreatmentDosePrescription = acp.getTreatmentDosePrescription(pvdf)\n",
    "        noMorelst = ccVolumedf.NoMore.values[0]\n",
    "        VolumePercentage = noMorelst[0]\n",
    "        DosePercentage = float(noMorelst[1])/100\n",
    "        StructureRelativeDose = float(pv.Dose) * DosePercentage / TreatmentDosePrescription * 100\n",
    "        acp.addQualityIndex(bbx, ID=pv.Volume, vType=2, vModifier=1, \n",
    "                            vValue=VolumePercentage, vTypeSpecifier=StructureRelativeDose, \n",
    "                            vReportDQPValueInAbsoluteUnits='false')\n",
    "\n",
    "for oar in oardf.itertuples():\n",
    "    if oar.DosimPars:\n",
    "        ID = oar.Organ\n",
    "        for DosimPar in oar.DosimPars:\n",
    "            constraint_dict = acp.parseDosimPar(DosimPar)\n",
    "            for key, constraint in constraint_dict.items():\n",
    "                if key == 'Vxx':\n",
    "                    VolumePercentage = constraint['Volume%']\n",
    "                    PrescriptionDoseGy = pvdf.Dose.astype('float').max()\n",
    "                    ConstraintDoseGy = constraint['DoseGy']\n",
    "                    StructureRelativeDose = f'{ConstraintDoseGy / PrescriptionDoseGy * 100:.5f}'\n",
    "                    acp.addQualityIndex(bbx, ID=ID, vType=2, vModifier=1, \n",
    "                                        vValue=VolumePercentage, vTypeSpecifier=StructureRelativeDose, \n",
    "                                        vReportDQPValueInAbsoluteUnits='false')\n",
    "                if key == 'Dxx':\n",
    "                    VolumePercentage = constraint['Volume%']\n",
    "                    StructureRelativeDose = constraint['Dose%']\n",
    "                    acp.addQualityIndex(bbx, ID=ID, vType=4, vModifier=1, \n",
    "                                        vValue=VolumePercentage, vTypeSpecifier=StructureRelativeDose, \n",
    "                                        vReportDQPValueInAbsoluteUnits='false')\n",
    "\n",
    "# Write clincial protocol\n",
    "acp.writeProt(bbx)"
   ]
  },
  {
   "cell_type": "code",
   "execution_count": 31,
   "id": "9ec0815b-d001-4095-933a-b2bfdff17d91",
   "metadata": {},
   "outputs": [
    {
     "data": {
      "text/plain": [
       "63.0"
      ]
     },
     "execution_count": 31,
     "metadata": {},
     "output_type": "execute_result"
    }
   ],
   "source": [
    "pvdf.Dose.astype('float').max()"
   ]
  },
  {
   "cell_type": "code",
   "execution_count": 5,
   "id": "b8a9f781-0a63-472e-a757-ba2902d81fa9",
   "metadata": {},
   "outputs": [],
   "source": [
    "bbx = acp.parseProt('BareBone.xml')\n",
    "TreatmentSite = 'Prostata + vvss hipofx'\n",
    "acp.modPreview(bbx, ID='ArmaduraTest', TreatmentSite=TreatmentSite)\n",
    "acp.modPhaseID(bbx, 'Bach')\n",
    "structureName = 'Recto'\n",
    "acp.addStructure(bbx, structureName)\n",
    "acp.addPlanObjetive(bbx, ID=structureName, vParameter=85, vDose=1, vTotalDose=20, vModifier=11)\n",
    "structureName = 'PTV'\n",
    "acp.addStructure(bbx, structureName)\n",
    "acp.addPlanObjetive(bbx, structureName, vParameter=95, vDose=3*.95, vTotalDose=60*.95, vModifier=0, vPrimary='true')\n",
    "acp.addPlanObjetive(bbx, structureName, vParameter=5, vDose=3*1.07, vTotalDose=60*1.07)\n",
    "structureName = 'Recto'\n",
    "acp.addQualityIndex(bbx, ID= structureName, vType=5, vModifier=1, vValue=85, vTypeSpecifier=20, vReportDQPValueInAbsoluteUnits='true')\n",
    "acp.writeProt(bbx, protout='TestSalida.xml')"
   ]
  },
  {
   "cell_type": "code",
   "execution_count": 10,
   "id": "1af2e12f-61e9-48e4-bd6f-e58f4d279e2d",
   "metadata": {},
   "outputs": [],
   "source": [
    "import xml.etree.ElementTree as ET"
   ]
  },
  {
   "cell_type": "code",
   "execution_count": 11,
   "id": "1f8b6153-96ab-427f-928d-7c20094b8ec6",
   "metadata": {},
   "outputs": [],
   "source": [
    "px = ET.parse('Próstata 20Fx.xml')\n",
    "ET.indent(px)\n",
    "px.write('Próstata 20Fx.xml', encoding='utf-8', xml_declaration=True)"
   ]
  },
  {
   "cell_type": "markdown",
   "id": "11ff3d2f-e356-4b10-8ff5-3ed69dcd7861",
   "metadata": {},
   "source": [
    "### Diccionario de estructuras"
   ]
  },
  {
   "cell_type": "code",
   "execution_count": 19,
   "id": "1ae4d771-dd81-4e9f-8f2a-24d45d18e8c6",
   "metadata": {},
   "outputs": [],
   "source": [
    "import pandas as pd"
   ]
  },
  {
   "cell_type": "code",
   "execution_count": 31,
   "id": "da0afca8-3a65-4924-8562-58944eac1d26",
   "metadata": {},
   "outputs": [
    {
     "data": {
      "text/html": [
       "<div>\n",
       "<style scoped>\n",
       "    .dataframe tbody tr th:only-of-type {\n",
       "        vertical-align: middle;\n",
       "    }\n",
       "\n",
       "    .dataframe tbody tr th {\n",
       "        vertical-align: top;\n",
       "    }\n",
       "\n",
       "    .dataframe thead th {\n",
       "        text-align: right;\n",
       "    }\n",
       "</style>\n",
       "<table border=\"1\" class=\"dataframe\">\n",
       "  <thead>\n",
       "    <tr style=\"text-align: right;\">\n",
       "      <th></th>\n",
       "      <th>Name</th>\n",
       "      <th>OtherNames</th>\n",
       "    </tr>\n",
       "  </thead>\n",
       "  <tbody>\n",
       "    <tr>\n",
       "      <th>0</th>\n",
       "      <td>Gland_lagrimal_D</td>\n",
       "      <td>glandula lacrimal derecha, glandula lacrimal d...</td>\n",
       "    </tr>\n",
       "    <tr>\n",
       "      <th>1</th>\n",
       "      <td>Gland_lagrimal_I</td>\n",
       "      <td>glandula lacrimal izquierda, glandula lacrimal...</td>\n",
       "    </tr>\n",
       "  </tbody>\n",
       "</table>\n",
       "</div>"
      ],
      "text/plain": [
       "               Name                                         OtherNames\n",
       "0  Gland_lagrimal_D  glandula lacrimal derecha, glandula lacrimal d...\n",
       "1  Gland_lagrimal_I  glandula lacrimal izquierda, glandula lacrimal..."
      ]
     },
     "execution_count": 31,
     "metadata": {},
     "output_type": "execute_result"
    }
   ],
   "source": [
    "StructureNormalizationdf= pd.DataFrame([\n",
    "    {'Name' : 'Parotida_D', 'OtherNames' : 'parótida derecha'},\n",
    "    {'Name' : 'Parotida_I', 'OtherNames' : 'parótida izda'},\n",
    "    {'Name' : 'Medula', 'OtherNames' : 'médula'},\n",
    "    {'Name' : 'Medula', 'OtherNames' : 'médula'},\n",
    "    {'Name' : 'Gland_lagrimal_D', 'OtherNames' : 'glandula lacrimal derecha, glandula lacrimal der, glandula lacrimal dcha, gland lacrimal derecha, gland lacrimal der, gland lacrimal dcha'},\n",
    "    {'Name' : 'Gland_lagrimal_I', 'OtherNames' : 'glandula lacrimal izquierda, glandula lacrimal izq, glandula lacrimal izqda, gland lacrimal izquierda, gland lacrimal izq, gland lacrimal izqda'},\n",
    "])\n",
    "StructureNormalizationdf"
   ]
  },
  {
   "cell_type": "code",
   "execution_count": 32,
   "id": "7a79a2a6-c74f-4bc4-9c17-5dd5e82553ee",
   "metadata": {},
   "outputs": [
    {
     "data": {
      "text/plain": [
       "0     True\n",
       "1    False\n",
       "Name: OtherNames, dtype: bool"
      ]
     },
     "execution_count": 32,
     "metadata": {},
     "output_type": "execute_result"
    }
   ],
   "source": [
    "StructureNormalizationdf.OtherNames.str.contains('glandula lacrimal derecha')"
   ]
  },
  {
   "cell_type": "code",
   "execution_count": 35,
   "id": "2172cb90-a888-4d58-a2e3-34438405b249",
   "metadata": {},
   "outputs": [
    {
     "data": {
      "text/plain": [
       "'Gland_lagrimal_D'"
      ]
     },
     "execution_count": 35,
     "metadata": {},
     "output_type": "execute_result"
    }
   ],
   "source": [
    "StructureNormalizationdf[StructureNormalizationdf.OtherNames.str.contains('glandula lacrimal derecha')].Name.values[0]"
   ]
  },
  {
   "cell_type": "code",
   "execution_count": null,
   "id": "8fbec326-1786-48b1-85f1-0b5093afd3d2",
   "metadata": {},
   "outputs": [],
   "source": []
  }
 ],
 "metadata": {
  "kernelspec": {
   "display_name": "Python 3 (ipykernel)",
   "language": "python",
   "name": "python3"
  },
  "language_info": {
   "codemirror_mode": {
    "name": "ipython",
    "version": 3
   },
   "file_extension": ".py",
   "mimetype": "text/x-python",
   "name": "python",
   "nbconvert_exporter": "python",
   "pygments_lexer": "ipython3",
   "version": "3.11.0"
  }
 },
 "nbformat": 4,
 "nbformat_minor": 5
}
