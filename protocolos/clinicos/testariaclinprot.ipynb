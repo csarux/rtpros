{
 "cells": [
  {
   "cell_type": "markdown",
   "id": "e04af062-dc71-46c7-aefe-76ee5794686e",
   "metadata": {},
   "source": [
    "# Tests módulo `ariaclinprot`"
   ]
  },
  {
   "cell_type": "code",
   "execution_count": 1,
   "id": "fbf5a34e-d275-45b4-8f84-882dd7bddf7d",
   "metadata": {},
   "outputs": [],
   "source": [
    "import ariaclinprot as acp"
   ]
  },
  {
   "cell_type": "markdown",
   "id": "9bfe9aa8-1214-47e4-9f82-2474d96399d2",
   "metadata": {},
   "source": [
    "## Prescripción -> Protocolo Clínico"
   ]
  },
  {
   "cell_type": "code",
   "execution_count": 2,
   "id": "79e7186e-d5dc-45d3-bb3e-3f29fc10e517",
   "metadata": {},
   "outputs": [],
   "source": [
    "prescriptionFile = '../../prescripciones/testSBRT.csv'"
   ]
  },
  {
   "cell_type": "code",
   "execution_count": 3,
   "id": "c8423e1e-e783-439a-bb2e-1327a5c1ea82",
   "metadata": {},
   "outputs": [],
   "source": [
    "acp.convertPrescriptionIntoClinicalProtocol(prescription=prescriptionFile, ProtocolID='SBRTPulmon7.5x8', \n",
    "                                          TreatmentSite='Lung', PlanID='SBRTPulmon')"
   ]
  },
  {
   "cell_type": "markdown",
   "id": "876ad3e7-f7f9-4f1f-94af-5ac928559991",
   "metadata": {},
   "source": [
    "## Nombres de estructuras\n",
    "\n",
    "Correcciones sugeridas en los nombres dados en la prescripción a partir de los que figuran en _Contouring_"
   ]
  },
  {
   "cell_type": "code",
   "execution_count": 4,
   "id": "3d239727-54d2-4bf9-9ad4-db9f1907054e",
   "metadata": {},
   "outputs": [
    {
     "data": {
      "text/html": [
       "<div>\n",
       "<style scoped>\n",
       "    .dataframe tbody tr th:only-of-type {\n",
       "        vertical-align: middle;\n",
       "    }\n",
       "\n",
       "    .dataframe tbody tr th {\n",
       "        vertical-align: top;\n",
       "    }\n",
       "\n",
       "    .dataframe thead th {\n",
       "        text-align: right;\n",
       "    }\n",
       "</style>\n",
       "<table border=\"1\" class=\"dataframe\">\n",
       "  <thead>\n",
       "    <tr style=\"text-align: right;\">\n",
       "      <th></th>\n",
       "      <th>Structure</th>\n",
       "      <th>Suggestion</th>\n",
       "    </tr>\n",
       "  </thead>\n",
       "  <tbody>\n",
       "    <tr>\n",
       "      <th>0</th>\n",
       "      <td>PTV LSI</td>\n",
       "      <td>PTV LSI</td>\n",
       "    </tr>\n",
       "    <tr>\n",
       "      <th>1</th>\n",
       "      <td>suma pulmones</td>\n",
       "      <td>Ambos pulmones</td>\n",
       "    </tr>\n",
       "    <tr>\n",
       "      <th>2</th>\n",
       "      <td>medula</td>\n",
       "      <td>Médula</td>\n",
       "    </tr>\n",
       "    <tr>\n",
       "      <th>3</th>\n",
       "      <td>plexo braquial</td>\n",
       "      <td>Tráquea</td>\n",
       "    </tr>\n",
       "    <tr>\n",
       "      <th>4</th>\n",
       "      <td>via aerea</td>\n",
       "      <td>via aerea</td>\n",
       "    </tr>\n",
       "    <tr>\n",
       "      <th>5</th>\n",
       "      <td>traquea</td>\n",
       "      <td>Tráquea</td>\n",
       "    </tr>\n",
       "    <tr>\n",
       "      <th>6</th>\n",
       "      <td>esofago</td>\n",
       "      <td>Esófago</td>\n",
       "    </tr>\n",
       "    <tr>\n",
       "      <th>7</th>\n",
       "      <td>corazon</td>\n",
       "      <td>Corazón</td>\n",
       "    </tr>\n",
       "    <tr>\n",
       "      <th>8</th>\n",
       "      <td>aorta</td>\n",
       "      <td>Corazón</td>\n",
       "    </tr>\n",
       "    <tr>\n",
       "      <th>9</th>\n",
       "      <td>v cava inferior</td>\n",
       "      <td>CouchInterior</td>\n",
       "    </tr>\n",
       "    <tr>\n",
       "      <th>10</th>\n",
       "      <td>v cava superior</td>\n",
       "      <td>Vena cava sup</td>\n",
       "    </tr>\n",
       "    <tr>\n",
       "      <th>11</th>\n",
       "      <td>arteria pulmonar</td>\n",
       "      <td>Arteria Pulmonar</td>\n",
       "    </tr>\n",
       "    <tr>\n",
       "      <th>12</th>\n",
       "      <td>venas pulmonares</td>\n",
       "      <td>Ambos pulmones</td>\n",
       "    </tr>\n",
       "    <tr>\n",
       "      <th>13</th>\n",
       "      <td>piel</td>\n",
       "      <td>Piel</td>\n",
       "    </tr>\n",
       "    <tr>\n",
       "      <th>14</th>\n",
       "      <td>pared costal</td>\n",
       "      <td>Pared costal</td>\n",
       "    </tr>\n",
       "    <tr>\n",
       "      <th>15</th>\n",
       "      <td>higado</td>\n",
       "      <td>Hígado</td>\n",
       "    </tr>\n",
       "    <tr>\n",
       "      <th>16</th>\n",
       "      <td>plexo braquial</td>\n",
       "      <td>Tráquea</td>\n",
       "    </tr>\n",
       "  </tbody>\n",
       "</table>\n",
       "</div>"
      ],
      "text/plain": [
       "           Structure        Suggestion\n",
       "0            PTV LSI           PTV LSI\n",
       "1      suma pulmones    Ambos pulmones\n",
       "2             medula            Médula\n",
       "3     plexo braquial           Tráquea\n",
       "4          via aerea         via aerea\n",
       "5            traquea           Tráquea\n",
       "6            esofago           Esófago\n",
       "7            corazon           Corazón\n",
       "8              aorta           Corazón\n",
       "9    v cava inferior     CouchInterior\n",
       "10   v cava superior     Vena cava sup\n",
       "11  arteria pulmonar  Arteria Pulmonar\n",
       "12  venas pulmonares    Ambos pulmones\n",
       "13              piel              Piel\n",
       "14      pared costal      Pared costal\n",
       "15            higado            Hígado\n",
       "16    plexo braquial           Tráquea"
      ]
     },
     "execution_count": 4,
     "metadata": {},
     "output_type": "execute_result"
    }
   ],
   "source": [
    "strNameSuggestions = acp.suggestStrNames(clinprot='ClinicalProtocol.xml',\n",
    "                                         rsdicom='../../DICOM/RS.1.2.246.352.221.550136246713487469715724200262812558270.dcm')\n",
    "strNameSuggestions"
   ]
  },
  {
   "cell_type": "markdown",
   "id": "ded45396-db14-45e3-8cba-826c0cba24b4",
   "metadata": {},
   "source": [
    "#### Detalles \n",
    "Desglose de los pasos dados para realizar la sugerencia"
   ]
  },
  {
   "cell_type": "code",
   "execution_count": 3,
   "id": "9634984a-e369-46b1-9bbb-60ab79527553",
   "metadata": {},
   "outputs": [],
   "source": [
    "contstrnames = acp.readContouringStructureNames('../../DICOM/RS.1.2.246.352.221.550136246713487469715724200262812558270.dcm')"
   ]
  },
  {
   "cell_type": "markdown",
   "id": "0af32c4a-d9c3-4a19-9fcc-0850789799bc",
   "metadata": {},
   "source": [
    "Chequear que los nombres de las estructuras es menor de 16 caracteres. Esta una condición requerida por ARIA que utiliza el nombre como identificador de la estructura en el protocolo clínico. \n",
    "\n",
    "La siguiente función devuelve una lista con los nombres de las estructuras que no cumplen la condición. La lista está vacía si todas la cumplen"
   ]
  },
  {
   "cell_type": "code",
   "execution_count": 4,
   "id": "ced18bec-dc74-490b-a3ae-852be33f9357",
   "metadata": {},
   "outputs": [
    {
     "data": {
      "text/plain": [
       "[]"
      ]
     },
     "execution_count": 4,
     "metadata": {},
     "output_type": "execute_result"
    }
   ],
   "source": [
    "acp.checkStructureNameLength(contstrnames)"
   ]
  },
  {
   "cell_type": "markdown",
   "id": "a14c5d1c-7b86-4ccb-b95a-3b199465a4ee",
   "metadata": {},
   "source": [
    "Extraer los nombres dados en el Procolo Clínico creado a partir de la prescripción"
   ]
  },
  {
   "cell_type": "code",
   "execution_count": 5,
   "id": "b7db72a9-6a14-4e99-94e5-0ab9b8ab6150",
   "metadata": {},
   "outputs": [],
   "source": [
    "protstrnames = acp.readClinProtStructureNames('ClinicalProtocol.xml')"
   ]
  },
  {
   "cell_type": "markdown",
   "id": "16508918-fbf5-4a5c-9d59-76a145cfd356",
   "metadata": {},
   "source": [
    "Chequear las longitudes"
   ]
  },
  {
   "cell_type": "code",
   "execution_count": 6,
   "id": "cb0964a7-6ab1-4f27-9803-7658b1222053",
   "metadata": {},
   "outputs": [
    {
     "data": {
      "text/plain": [
       "[]"
      ]
     },
     "execution_count": 6,
     "metadata": {},
     "output_type": "execute_result"
    }
   ],
   "source": [
    "acp.checkStructureNameLength(protstrnames)"
   ]
  },
  {
   "cell_type": "markdown",
   "id": "742a9044-93d9-4621-b21f-2c724bd33136",
   "metadata": {},
   "source": [
    "Sugerir los cambios de nombre en las estructuras del protocolo según los nombres de las estructuras contorneadas"
   ]
  },
  {
   "cell_type": "code",
   "execution_count": 7,
   "id": "b42039d5-c105-46f8-ab3d-6acbadd92858",
   "metadata": {},
   "outputs": [
    {
     "data": {
      "text/html": [
       "<div>\n",
       "<style scoped>\n",
       "    .dataframe tbody tr th:only-of-type {\n",
       "        vertical-align: middle;\n",
       "    }\n",
       "\n",
       "    .dataframe tbody tr th {\n",
       "        vertical-align: top;\n",
       "    }\n",
       "\n",
       "    .dataframe thead th {\n",
       "        text-align: right;\n",
       "    }\n",
       "</style>\n",
       "<table border=\"1\" class=\"dataframe\">\n",
       "  <thead>\n",
       "    <tr style=\"text-align: right;\">\n",
       "      <th></th>\n",
       "      <th>Structure</th>\n",
       "      <th>Suggestion</th>\n",
       "    </tr>\n",
       "  </thead>\n",
       "  <tbody>\n",
       "    <tr>\n",
       "      <th>0</th>\n",
       "      <td>PTV LSI</td>\n",
       "      <td>PTV LSI</td>\n",
       "    </tr>\n",
       "    <tr>\n",
       "      <th>1</th>\n",
       "      <td>suma pulmones</td>\n",
       "      <td>Ambos pulmones</td>\n",
       "    </tr>\n",
       "    <tr>\n",
       "      <th>2</th>\n",
       "      <td>medula</td>\n",
       "      <td>Médula</td>\n",
       "    </tr>\n",
       "    <tr>\n",
       "      <th>3</th>\n",
       "      <td>plexo braquial</td>\n",
       "      <td>Tráquea</td>\n",
       "    </tr>\n",
       "    <tr>\n",
       "      <th>4</th>\n",
       "      <td>via aerea</td>\n",
       "      <td>via aerea</td>\n",
       "    </tr>\n",
       "    <tr>\n",
       "      <th>5</th>\n",
       "      <td>traquea</td>\n",
       "      <td>Tráquea</td>\n",
       "    </tr>\n",
       "    <tr>\n",
       "      <th>6</th>\n",
       "      <td>esofago</td>\n",
       "      <td>Esófago</td>\n",
       "    </tr>\n",
       "    <tr>\n",
       "      <th>7</th>\n",
       "      <td>corazon</td>\n",
       "      <td>Corazón</td>\n",
       "    </tr>\n",
       "    <tr>\n",
       "      <th>8</th>\n",
       "      <td>aorta</td>\n",
       "      <td>Corazón</td>\n",
       "    </tr>\n",
       "    <tr>\n",
       "      <th>9</th>\n",
       "      <td>v cava inferior</td>\n",
       "      <td>CouchInterior</td>\n",
       "    </tr>\n",
       "    <tr>\n",
       "      <th>10</th>\n",
       "      <td>v cava superior</td>\n",
       "      <td>Vena cava sup</td>\n",
       "    </tr>\n",
       "    <tr>\n",
       "      <th>11</th>\n",
       "      <td>arteria pulmonar</td>\n",
       "      <td>Arteria Pulmonar</td>\n",
       "    </tr>\n",
       "    <tr>\n",
       "      <th>12</th>\n",
       "      <td>venas pulmonares</td>\n",
       "      <td>Ambos pulmones</td>\n",
       "    </tr>\n",
       "    <tr>\n",
       "      <th>13</th>\n",
       "      <td>piel</td>\n",
       "      <td>Piel</td>\n",
       "    </tr>\n",
       "    <tr>\n",
       "      <th>14</th>\n",
       "      <td>pared costal</td>\n",
       "      <td>Pared costal</td>\n",
       "    </tr>\n",
       "    <tr>\n",
       "      <th>15</th>\n",
       "      <td>higado</td>\n",
       "      <td>Hígado</td>\n",
       "    </tr>\n",
       "    <tr>\n",
       "      <th>16</th>\n",
       "      <td>plexo braquial</td>\n",
       "      <td>Tráquea</td>\n",
       "    </tr>\n",
       "  </tbody>\n",
       "</table>\n",
       "</div>"
      ],
      "text/plain": [
       "           Structure        Suggestion\n",
       "0            PTV LSI           PTV LSI\n",
       "1      suma pulmones    Ambos pulmones\n",
       "2             medula            Médula\n",
       "3     plexo braquial           Tráquea\n",
       "4          via aerea         via aerea\n",
       "5            traquea           Tráquea\n",
       "6            esofago           Esófago\n",
       "7            corazon           Corazón\n",
       "8              aorta           Corazón\n",
       "9    v cava inferior     CouchInterior\n",
       "10   v cava superior     Vena cava sup\n",
       "11  arteria pulmonar  Arteria Pulmonar\n",
       "12  venas pulmonares    Ambos pulmones\n",
       "13              piel              Piel\n",
       "14      pared costal      Pared costal\n",
       "15            higado            Hígado\n",
       "16    plexo braquial           Tráquea"
      ]
     },
     "execution_count": 7,
     "metadata": {},
     "output_type": "execute_result"
    }
   ],
   "source": [
    "acp._suggestStrNames(protstrnames, contstrnames)"
   ]
  },
  {
   "cell_type": "code",
   "execution_count": 5,
   "id": "e1717862-5b1b-4b47-ad05-6db02f8cddfe",
   "metadata": {},
   "outputs": [],
   "source": [
    "acceptedChangesIndex = [0,1,2,4,5,6,7,10,11,13,14,15]"
   ]
  },
  {
   "cell_type": "code",
   "execution_count": 6,
   "id": "455d3bfb-51b0-43f2-8dc1-27a05bdde0f1",
   "metadata": {},
   "outputs": [
    {
     "data": {
      "text/html": [
       "<div>\n",
       "<style scoped>\n",
       "    .dataframe tbody tr th:only-of-type {\n",
       "        vertical-align: middle;\n",
       "    }\n",
       "\n",
       "    .dataframe tbody tr th {\n",
       "        vertical-align: top;\n",
       "    }\n",
       "\n",
       "    .dataframe thead th {\n",
       "        text-align: right;\n",
       "    }\n",
       "</style>\n",
       "<table border=\"1\" class=\"dataframe\">\n",
       "  <thead>\n",
       "    <tr style=\"text-align: right;\">\n",
       "      <th></th>\n",
       "      <th>Old</th>\n",
       "      <th>New</th>\n",
       "    </tr>\n",
       "  </thead>\n",
       "  <tbody>\n",
       "    <tr>\n",
       "      <th>0</th>\n",
       "      <td>PTV LSI</td>\n",
       "      <td>PTV LSI</td>\n",
       "    </tr>\n",
       "    <tr>\n",
       "      <th>1</th>\n",
       "      <td>suma pulmones</td>\n",
       "      <td>Ambos pulmones</td>\n",
       "    </tr>\n",
       "    <tr>\n",
       "      <th>2</th>\n",
       "      <td>medula</td>\n",
       "      <td>Médula</td>\n",
       "    </tr>\n",
       "    <tr>\n",
       "      <th>4</th>\n",
       "      <td>via aerea</td>\n",
       "      <td>via aerea</td>\n",
       "    </tr>\n",
       "    <tr>\n",
       "      <th>5</th>\n",
       "      <td>traquea</td>\n",
       "      <td>Tráquea</td>\n",
       "    </tr>\n",
       "    <tr>\n",
       "      <th>6</th>\n",
       "      <td>esofago</td>\n",
       "      <td>Esófago</td>\n",
       "    </tr>\n",
       "    <tr>\n",
       "      <th>7</th>\n",
       "      <td>corazon</td>\n",
       "      <td>Corazón</td>\n",
       "    </tr>\n",
       "    <tr>\n",
       "      <th>10</th>\n",
       "      <td>v cava superior</td>\n",
       "      <td>Vena cava sup</td>\n",
       "    </tr>\n",
       "    <tr>\n",
       "      <th>11</th>\n",
       "      <td>arteria pulmonar</td>\n",
       "      <td>Arteria Pulmonar</td>\n",
       "    </tr>\n",
       "    <tr>\n",
       "      <th>13</th>\n",
       "      <td>piel</td>\n",
       "      <td>Piel</td>\n",
       "    </tr>\n",
       "    <tr>\n",
       "      <th>14</th>\n",
       "      <td>pared costal</td>\n",
       "      <td>Pared costal</td>\n",
       "    </tr>\n",
       "    <tr>\n",
       "      <th>15</th>\n",
       "      <td>higado</td>\n",
       "      <td>Hígado</td>\n",
       "    </tr>\n",
       "  </tbody>\n",
       "</table>\n",
       "</div>"
      ],
      "text/plain": [
       "                 Old               New\n",
       "0            PTV LSI           PTV LSI\n",
       "1      suma pulmones    Ambos pulmones\n",
       "2             medula            Médula\n",
       "4          via aerea         via aerea\n",
       "5            traquea           Tráquea\n",
       "6            esofago           Esófago\n",
       "7            corazon           Corazón\n",
       "10   v cava superior     Vena cava sup\n",
       "11  arteria pulmonar  Arteria Pulmonar\n",
       "13              piel              Piel\n",
       "14      pared costal      Pared costal\n",
       "15            higado            Hígado"
      ]
     },
     "execution_count": 6,
     "metadata": {},
     "output_type": "execute_result"
    }
   ],
   "source": [
    "strNameChanges = strNameSuggestions.iloc[acceptedChangesIndex]\n",
    "strNameChanges.columns = ['Old', 'New']\n",
    "strNameChanges.reindex()\n",
    "strNameChanges"
   ]
  },
  {
   "cell_type": "markdown",
   "id": "68b608e3-87ff-4a2f-a9ef-a19696225eac",
   "metadata": {},
   "source": [
    "Corregir los nombres de las estructuras"
   ]
  },
  {
   "cell_type": "code",
   "execution_count": 7,
   "id": "9939809b-990d-4f62-b8a4-531fafe04098",
   "metadata": {},
   "outputs": [],
   "source": [
    "acp.correctStrNames(prescriptionFile, strNameChanges)"
   ]
  },
  {
   "cell_type": "markdown",
   "id": "b583c5b6-7775-4daf-a861-cc66a4700039",
   "metadata": {},
   "source": [
    "Volver a generar el protocolo clínico con los nombres correctos de las estructuras"
   ]
  },
  {
   "cell_type": "code",
   "execution_count": 8,
   "id": "a05c4e28-c5b9-4b7a-8cbb-9541c52a2004",
   "metadata": {},
   "outputs": [],
   "source": [
    "acp.convertPrescriptionIntoClinicalProtocol(prescription=prescriptionFile, ProtocolID='SBRTPulmon7.5x8', \n",
    "                                          TreatmentSite='Lung', PlanID='SBRTPulmon')"
   ]
  },
  {
   "cell_type": "markdown",
   "id": "bb9c6118-b810-49cd-9f37-28e5a3dd24ae",
   "metadata": {},
   "source": [
    "#### Detalles\n",
    "\n",
    "Leer el archivo de prescripción"
   ]
  },
  {
   "cell_type": "code",
   "execution_count": 16,
   "id": "e84d5f3a-0fce-4f64-8aa2-502f1ba58f48",
   "metadata": {},
   "outputs": [],
   "source": [
    "with open(prescriptionFile, 'r') as file:\n",
    "  filedata = file.read()"
   ]
  },
  {
   "cell_type": "code",
   "execution_count": 18,
   "id": "817c2dfd-5a97-4ca4-9358-af91536344e6",
   "metadata": {},
   "outputs": [],
   "source": [
    "def _correctStrNames(filedata, strNameChanges):\n",
    "    for index, strName in strNameChanges.iterrows():\n",
    "        filedata.replace(strName.Old, strName.New)\n",
    "    return filedata"
   ]
  },
  {
   "cell_type": "code",
   "execution_count": 20,
   "id": "c949db06-59c0-4279-92b3-993a7eb8176f",
   "metadata": {},
   "outputs": [],
   "source": [
    "correctStrNames(filedata, strNameChanges)"
   ]
  },
  {
   "cell_type": "code",
   "execution_count": null,
   "id": "ca330338-bfcb-4342-a751-c4cf1b5003b3",
   "metadata": {},
   "outputs": [],
   "source": [
    "with open(prescriptionFile, 'w') as file:\n",
    "  file.write(filedata)"
   ]
  },
  {
   "cell_type": "code",
   "execution_count": null,
   "id": "acdfc4ae-f5ba-406f-a45c-b75e1cb42c56",
   "metadata": {},
   "outputs": [],
   "source": []
  },
  {
   "cell_type": "markdown",
   "id": "42092192-6a12-43ed-b2d1-b7e624c098e1",
   "metadata": {},
   "source": [
    "## Prescripciones"
   ]
  },
  {
   "cell_type": "code",
   "execution_count": 5,
   "id": "2c08b3d3-1781-4609-87b4-27f27898222a",
   "metadata": {},
   "outputs": [
    {
     "name": "stdout",
     "output_type": "stream",
     "text": [
      "\u001b[0m\u001b[01;32mLICENSE\u001b[0m*  \u001b[01;34mprescripciones\u001b[0m/  \u001b[01;34mprotocolos\u001b[0m/  \u001b[01;32mREADME.md\u001b[0m*  \u001b[01;34mtools\u001b[0m/\n"
     ]
    }
   ],
   "source": [
    "%ls ../.."
   ]
  },
  {
   "cell_type": "code",
   "execution_count": 2,
   "id": "31cf13bd-fb33-4c8b-bbca-008dec08ad97",
   "metadata": {},
   "outputs": [],
   "source": [
    "pvdf, ccdf, oardf = acp.parse_prescription('../../prescripciones/SBRTPulmon7.5x8.csv')"
   ]
  },
  {
   "cell_type": "code",
   "execution_count": 3,
   "id": "ca6a1e99-0e5e-4f42-a868-721a610c704f",
   "metadata": {},
   "outputs": [
    {
     "data": {
      "text/html": [
       "<div>\n",
       "<style scoped>\n",
       "    .dataframe tbody tr th:only-of-type {\n",
       "        vertical-align: middle;\n",
       "    }\n",
       "\n",
       "    .dataframe tbody tr th {\n",
       "        vertical-align: top;\n",
       "    }\n",
       "\n",
       "    .dataframe thead th {\n",
       "        text-align: right;\n",
       "    }\n",
       "</style>\n",
       "<table border=\"1\" class=\"dataframe\">\n",
       "  <thead>\n",
       "    <tr style=\"text-align: right;\">\n",
       "      <th></th>\n",
       "      <th>Volume</th>\n",
       "      <th>Dose</th>\n",
       "      <th>FxDose</th>\n",
       "    </tr>\n",
       "  </thead>\n",
       "  <tbody>\n",
       "    <tr>\n",
       "      <th>0</th>\n",
       "      <td>PTV LSI</td>\n",
       "      <td>60.000</td>\n",
       "      <td>7.500</td>\n",
       "    </tr>\n",
       "  </tbody>\n",
       "</table>\n",
       "</div>"
      ],
      "text/plain": [
       "    Volume    Dose FxDose\n",
       "0  PTV LSI  60.000  7.500"
      ]
     },
     "execution_count": 3,
     "metadata": {},
     "output_type": "execute_result"
    }
   ],
   "source": [
    "pvdf"
   ]
  },
  {
   "cell_type": "code",
   "execution_count": 4,
   "id": "528e30cf-036a-4dde-be8d-95af0645a11e",
   "metadata": {},
   "outputs": [
    {
     "data": {
      "text/html": [
       "<div>\n",
       "<style scoped>\n",
       "    .dataframe tbody tr th:only-of-type {\n",
       "        vertical-align: middle;\n",
       "    }\n",
       "\n",
       "    .dataframe tbody tr th {\n",
       "        vertical-align: top;\n",
       "    }\n",
       "\n",
       "    .dataframe thead th {\n",
       "        text-align: right;\n",
       "    }\n",
       "</style>\n",
       "<table border=\"1\" class=\"dataframe\">\n",
       "  <thead>\n",
       "    <tr style=\"text-align: right;\">\n",
       "      <th></th>\n",
       "      <th>Volume</th>\n",
       "      <th>Min</th>\n",
       "      <th>Max</th>\n",
       "      <th>AtLeast</th>\n",
       "      <th>NoMore</th>\n",
       "    </tr>\n",
       "  </thead>\n",
       "  <tbody>\n",
       "    <tr>\n",
       "      <th>0</th>\n",
       "      <td>PTV LSI</td>\n",
       "      <td></td>\n",
       "      <td></td>\n",
       "      <td>[95, 95, 57]</td>\n",
       "      <td>[5, 107, 64.2]</td>\n",
       "    </tr>\n",
       "  </tbody>\n",
       "</table>\n",
       "</div>"
      ],
      "text/plain": [
       "    Volume Min Max       AtLeast          NoMore\n",
       "0  PTV LSI          [95, 95, 57]  [5, 107, 64.2]"
      ]
     },
     "execution_count": 4,
     "metadata": {},
     "output_type": "execute_result"
    }
   ],
   "source": [
    "ccdf"
   ]
  },
  {
   "cell_type": "code",
   "execution_count": 5,
   "id": "35d729b0-2620-4287-a523-c7c37d42a16a",
   "metadata": {},
   "outputs": [
    {
     "data": {
      "text/html": [
       "<div>\n",
       "<style scoped>\n",
       "    .dataframe tbody tr th:only-of-type {\n",
       "        vertical-align: middle;\n",
       "    }\n",
       "\n",
       "    .dataframe tbody tr th {\n",
       "        vertical-align: top;\n",
       "    }\n",
       "\n",
       "    .dataframe thead th {\n",
       "        text-align: right;\n",
       "    }\n",
       "</style>\n",
       "<table border=\"1\" class=\"dataframe\">\n",
       "  <thead>\n",
       "    <tr style=\"text-align: right;\">\n",
       "      <th></th>\n",
       "      <th>Organ</th>\n",
       "      <th>Dmean</th>\n",
       "      <th>Dmax</th>\n",
       "      <th>DosimPars</th>\n",
       "    </tr>\n",
       "  </thead>\n",
       "  <tbody>\n",
       "    <tr>\n",
       "      <th>0</th>\n",
       "      <td>suma pulmones</td>\n",
       "      <td></td>\n",
       "      <td></td>\n",
       "      <td>[D 950cc$14.4 Gy, V15.2$37%]</td>\n",
       "    </tr>\n",
       "    <tr>\n",
       "      <th>1</th>\n",
       "      <td>medula</td>\n",
       "      <td></td>\n",
       "      <td></td>\n",
       "      <td>[V32$1 cc]</td>\n",
       "    </tr>\n",
       "    <tr>\n",
       "      <th>2</th>\n",
       "      <td>plexo braquial</td>\n",
       "      <td></td>\n",
       "      <td>33.6 Gy</td>\n",
       "      <td>[V26.4$0.35 cc]</td>\n",
       "    </tr>\n",
       "    <tr>\n",
       "      <th>3</th>\n",
       "      <td>via aerea</td>\n",
       "      <td></td>\n",
       "      <td>48.8 Gy</td>\n",
       "      <td>[V 38.4$0.5 cc]</td>\n",
       "    </tr>\n",
       "    <tr>\n",
       "      <th>4</th>\n",
       "      <td>traquea</td>\n",
       "      <td></td>\n",
       "      <td>56 Gy</td>\n",
       "      <td>[V50$4 cc]</td>\n",
       "    </tr>\n",
       "    <tr>\n",
       "      <th>5</th>\n",
       "      <td>esofago</td>\n",
       "      <td></td>\n",
       "      <td>43.2 Gy</td>\n",
       "      <td>[V36.8$5cc]</td>\n",
       "    </tr>\n",
       "    <tr>\n",
       "      <th>6</th>\n",
       "      <td>corazon</td>\n",
       "      <td></td>\n",
       "      <td>40 Gy</td>\n",
       "      <td>[V34.4$15 cc]</td>\n",
       "    </tr>\n",
       "    <tr>\n",
       "      <th>7</th>\n",
       "      <td>aorta</td>\n",
       "      <td></td>\n",
       "      <td>62 Gy</td>\n",
       "      <td>[V55.2$10cc]</td>\n",
       "    </tr>\n",
       "    <tr>\n",
       "      <th>8</th>\n",
       "      <td>v cava inferior</td>\n",
       "      <td></td>\n",
       "      <td>62 Gy</td>\n",
       "      <td>[V55.2$10cc]</td>\n",
       "    </tr>\n",
       "    <tr>\n",
       "      <th>9</th>\n",
       "      <td>v cava superior</td>\n",
       "      <td></td>\n",
       "      <td>62 Gy</td>\n",
       "      <td>[V55.2$10cc]</td>\n",
       "    </tr>\n",
       "    <tr>\n",
       "      <th>10</th>\n",
       "      <td>arteria pulmonar</td>\n",
       "      <td></td>\n",
       "      <td>62 Gy</td>\n",
       "      <td>[V55.2$10cc]</td>\n",
       "    </tr>\n",
       "    <tr>\n",
       "      <th>11</th>\n",
       "      <td>venas pulmonares</td>\n",
       "      <td></td>\n",
       "      <td>62 Gy</td>\n",
       "      <td>[V55.2$10cc]</td>\n",
       "    </tr>\n",
       "    <tr>\n",
       "      <th>12</th>\n",
       "      <td>piel</td>\n",
       "      <td></td>\n",
       "      <td>45.6 Gy</td>\n",
       "      <td>[V43.2$10 cc]</td>\n",
       "    </tr>\n",
       "    <tr>\n",
       "      <th>13</th>\n",
       "      <td>pared costal</td>\n",
       "      <td></td>\n",
       "      <td>63 Gy</td>\n",
       "      <td>[V50$5 cc]</td>\n",
       "    </tr>\n",
       "    <tr>\n",
       "      <th>14</th>\n",
       "      <td>higado</td>\n",
       "      <td></td>\n",
       "      <td></td>\n",
       "      <td>[D700$24.8 Gy]</td>\n",
       "    </tr>\n",
       "    <tr>\n",
       "      <th>15</th>\n",
       "      <td>plexo braquial</td>\n",
       "      <td></td>\n",
       "      <td>39.2 Gy</td>\n",
       "      <td>[V32.8$3cc]</td>\n",
       "    </tr>\n",
       "  </tbody>\n",
       "</table>\n",
       "</div>"
      ],
      "text/plain": [
       "               Organ Dmean     Dmax                     DosimPars\n",
       "0      suma pulmones                 [D 950cc$14.4 Gy, V15.2$37%]\n",
       "1             medula                                   [V32$1 cc]\n",
       "2     plexo braquial        33.6 Gy               [V26.4$0.35 cc]\n",
       "3          via aerea        48.8 Gy               [V 38.4$0.5 cc]\n",
       "4            traquea          56 Gy                    [V50$4 cc]\n",
       "5            esofago        43.2 Gy                   [V36.8$5cc]\n",
       "6            corazon          40 Gy                 [V34.4$15 cc]\n",
       "7              aorta          62 Gy                  [V55.2$10cc]\n",
       "8    v cava inferior          62 Gy                  [V55.2$10cc]\n",
       "9    v cava superior          62 Gy                  [V55.2$10cc]\n",
       "10  arteria pulmonar          62 Gy                  [V55.2$10cc]\n",
       "11  venas pulmonares          62 Gy                  [V55.2$10cc]\n",
       "12              piel        45.6 Gy                 [V43.2$10 cc]\n",
       "13      pared costal          63 Gy                    [V50$5 cc]\n",
       "14            higado                               [D700$24.8 Gy]\n",
       "15    plexo braquial        39.2 Gy                   [V32.8$3cc]"
      ]
     },
     "execution_count": 5,
     "metadata": {},
     "output_type": "execute_result"
    }
   ],
   "source": [
    "oardf.Dmean = oardf.Dmean.str.strip()\n",
    "oardf.Dmax = oardf.Dmax.str.strip()\n",
    "oardf"
   ]
  },
  {
   "cell_type": "code",
   "execution_count": 11,
   "id": "e777cf63-e87f-4f1d-b81b-dcfdb72a5ce6",
   "metadata": {},
   "outputs": [
    {
     "data": {
      "text/plain": [
       "'V60$30 %'"
      ]
     },
     "execution_count": 11,
     "metadata": {},
     "output_type": "execute_result"
    }
   ],
   "source": [
    "oardf.DosimPars.values[1][1]"
   ]
  },
  {
   "cell_type": "code",
   "execution_count": 15,
   "id": "21181dcf-35fc-4668-b77d-c9a1da82a7b5",
   "metadata": {},
   "outputs": [
    {
     "data": {
      "text/plain": [
       "{'Vxx': {'Volume%': 30.0, 'DoseGy': 60.0}}"
      ]
     },
     "execution_count": 15,
     "metadata": {},
     "output_type": "execute_result"
    }
   ],
   "source": [
    "acp.parseDosimPar(oardf.DosimPars.values[6][0])"
   ]
  },
  {
   "cell_type": "markdown",
   "id": "08be65ef-463f-46c9-81b4-3ce1262d7331",
   "metadata": {},
   "source": [
    "## Escritura de protocolos clínicos"
   ]
  },
  {
   "cell_type": "code",
   "execution_count": 14,
   "id": "6df229f7-7b9e-4ba0-b8e7-0bb48e17d42e",
   "metadata": {},
   "outputs": [],
   "source": [
    "# Read protocol template\n",
    "bbx = acp.parseProt('BareBone.xml')\n",
    "# Preview\n",
    "ProtocolID = 'Laringe'\n",
    "TreatmentSite = 'Head and Neck'\n",
    "acp.modPreview(bbx, ID=ProtocolID, TreatmentSite=TreatmentSite)\n",
    "# Phases\n",
    "PlanID='ORL'\n",
    "FractionCount = int(float(pvdf.Dose[0])/float(pvdf.FxDose[0]))\n",
    "acp.modPhase(bbx, ID=PlanID, vFractionCount=FractionCount)\n",
    "# Structutures\n",
    "for pv in pvdf.itertuples():\n",
    "    acp.addStructure(bbx, structureName=pv.Volume)\n",
    "for oar in oardf.itertuples():\n",
    "    acp.addStructure(bbx, structureName=oar.Organ)\n",
    "\n",
    "# Plan objetives\n",
    "for pv in pvdf.itertuples():\n",
    "    ccVolumedf = ccdf[ccdf.Volume == pv.Volume]\n",
    "    '''\n",
    "    if not ccVolumedf.Min.str.match(' +')[0]:\n",
    "        a=1\n",
    "    if ccVolumedf.Max.str.match(' +')[0] == False:\n",
    "        a=1\n",
    "    '''\n",
    "    if ccVolumedf.AtLeast.values[0]:\n",
    "        atLeastlst = ccVolumedf.AtLeast.values[0]\n",
    "        VolumePercentage =  atLeastlst[0]\n",
    "        DosePercentage = float(atLeastlst[1])/100\n",
    "        FxDoseGy = float(pv.FxDose) * DosePercentage\n",
    "        DoseGy = float(pv.Dose) * DosePercentage\n",
    "        acp.addPlanObjetive(bbx, ID=pv.Volume, vParameter=VolumePercentage,\n",
    "                            vDose=FxDoseGy, vTotalDose=DoseGy, vModifier=0)\n",
    "    if ccVolumedf.NoMore.values[0]:\n",
    "        noMorelst = ccVolumedf.NoMore.values[0]\n",
    "        VolumePercentage =  noMorelst[0]\n",
    "        DosePercentage = float(noMorelst[1])/100\n",
    "        FxDoseGy = float(pv.FxDose) * DosePercentage\n",
    "        DoseGy = float(pv.Dose) * DosePercentage\n",
    "        acp.addPlanObjetive(bbx, ID=pv.Volume, vParameter=VolumePercentage,\n",
    "                            vDose=FxDoseGy, vTotalDose=DoseGy)\n",
    "for oar in oardf.itertuples():\n",
    "    if oar.Dmean:\n",
    "        ID = oar.Organ\n",
    "        Parameter = 0\n",
    "        Fxs = float(pvdf.Dose.values[0]) / float(pvdf.FxDose.values[0])\n",
    "        TotalDose = acp.parseDose(oar.Dmean)\n",
    "        Dose = f'{TotalDose / Fxs:.5f}'\n",
    "        acp.addPlanObjetive(bbx, ID=ID, vParameter=Parameter, vDose=Dose, vTotalDose=TotalDose,\n",
    "                            vModifier=8)\n",
    "    if oar.Dmax:\n",
    "        ID = oar.Organ\n",
    "        Parameter = 0\n",
    "        Fxs = float(pvdf.Dose.values[0]) / float(pvdf.FxDose.values[0])\n",
    "        TotalDose = acp.parseDose(oar.Dmax)\n",
    "        Dose = f'{TotalDose / Fxs:.5f}'\n",
    "        acp.addPlanObjetive(bbx, ID=ID, vParameter=Parameter, vDose=Dose, vTotalDose=TotalDose,\n",
    "                            vModifier=10)\n",
    "    if oar.DosimPars:\n",
    "        ID = oar.Organ\n",
    "        for DosimPar in oar.DosimPars:\n",
    "            constraint_dict = acp.parseDosimPar(DosimPar)\n",
    "            for key, constraint in constraint_dict.items():\n",
    "                if key == 'Vxx':\n",
    "                    VolumePercentage = constraint['Volume%']\n",
    "                    Fxs = float(pvdf.Dose.values[0]) / float(pvdf.FxDose.values[0])\n",
    "                    TotalDose = constraint['DoseGy']\n",
    "                    Dose = f'{TotalDose / Fxs:.5f}'\n",
    "                    acp.addPlanObjetive(bbx, ID=ID, vParameter=VolumePercentage, vDose=Dose, vTotalDose=TotalDose,\n",
    "                                        vModifier=1)\n",
    "                    \n",
    "# Quality Indexes\n",
    "for pv in pvdf.itertuples():\n",
    "    ccVolumedf = ccdf[ccdf.Volume == pv.Volume]\n",
    "    if ccVolumedf.AtLeast.values[0]:\n",
    "        TreatmentDosePrescription = acp.getTreatmentDosePrescription(pvdf)\n",
    "        atLeastlst = ccVolumedf.AtLeast.values[0]\n",
    "        VolumePercentage =  atLeastlst[0]\n",
    "        DosePercentage = float(atLeastlst[1])/100\n",
    "        StructureRelativeDose = float(pv.Dose) * DosePercentage / TreatmentDosePrescription * 100\n",
    "        acp.addQualityIndex(bbx, ID=pv.Volume, vType=2, vModifier=0, \n",
    "                            vValue=VolumePercentage, vTypeSpecifier=StructureRelativeDose, \n",
    "                            vReportDQPValueInAbsoluteUnits='false')\n",
    "    if ccVolumedf.NoMore.values[0]:\n",
    "        TreatmentDosePrescription = acp.getTreatmentDosePrescription(pvdf)\n",
    "        noMorelst = ccVolumedf.NoMore.values[0]\n",
    "        VolumePercentage = noMorelst[0]\n",
    "        DosePercentage = float(noMorelst[1])/100\n",
    "        StructureRelativeDose = float(pv.Dose) * DosePercentage / TreatmentDosePrescription * 100\n",
    "        acp.addQualityIndex(bbx, ID=pv.Volume, vType=2, vModifier=1, \n",
    "                            vValue=VolumePercentage, vTypeSpecifier=StructureRelativeDose, \n",
    "                            vReportDQPValueInAbsoluteUnits='false')\n",
    "\n",
    "for oar in oardf.itertuples():\n",
    "    if oar.DosimPars:\n",
    "        ID = oar.Organ\n",
    "        for DosimPar in oar.DosimPars:\n",
    "            constraint_dict = acp.parseDosimPar(DosimPar)\n",
    "            for key, constraint in constraint_dict.items():\n",
    "                if key == 'Vxx':\n",
    "                    VolumePercentage = constraint['Volume%']\n",
    "                    PrescriptionDoseGy = pvdf.Dose.astype('float').max()\n",
    "                    ConstraintDoseGy = constraint['DoseGy']\n",
    "                    StructureRelativeDose = f'{ConstraintDoseGy / PrescriptionDoseGy * 100:.5f}'\n",
    "                    acp.addQualityIndex(bbx, ID=ID, vType=2, vModifier=1, \n",
    "                                        vValue=VolumePercentage, vTypeSpecifier=StructureRelativeDose, \n",
    "                                        vReportDQPValueInAbsoluteUnits='false')\n",
    "                if key == 'Dxx':\n",
    "                    VolumePercentage = constraint['Volume%']\n",
    "                    StructureRelativeDose = constraint['Dose%']\n",
    "                    acp.addQualityIndex(bbx, ID=ID, vType=4, vModifier=1, \n",
    "                                        vValue=VolumePercentage, vTypeSpecifier=StructureRelativeDose, \n",
    "                                        vReportDQPValueInAbsoluteUnits='false')\n",
    "\n",
    "# Write clincial protocol\n",
    "acp.writeProt(bbx)"
   ]
  },
  {
   "cell_type": "code",
   "execution_count": 31,
   "id": "9ec0815b-d001-4095-933a-b2bfdff17d91",
   "metadata": {},
   "outputs": [
    {
     "data": {
      "text/plain": [
       "63.0"
      ]
     },
     "execution_count": 31,
     "metadata": {},
     "output_type": "execute_result"
    }
   ],
   "source": [
    "pvdf.Dose.astype('float').max()"
   ]
  },
  {
   "cell_type": "code",
   "execution_count": 5,
   "id": "b8a9f781-0a63-472e-a757-ba2902d81fa9",
   "metadata": {},
   "outputs": [],
   "source": [
    "bbx = acp.parseProt('BareBone.xml')\n",
    "TreatmentSite = 'Prostata + vvss hipofx'\n",
    "acp.modPreview(bbx, ID='ArmaduraTest', TreatmentSite=TreatmentSite)\n",
    "acp.modPhaseID(bbx, 'Bach')\n",
    "structureName = 'Recto'\n",
    "acp.addStructure(bbx, structureName)\n",
    "acp.addPlanObjetive(bbx, ID=structureName, vParameter=85, vDose=1, vTotalDose=20, vModifier=11)\n",
    "structureName = 'PTV'\n",
    "acp.addStructure(bbx, structureName)\n",
    "acp.addPlanObjetive(bbx, structureName, vParameter=95, vDose=3*.95, vTotalDose=60*.95, vModifier=0, vPrimary='true')\n",
    "acp.addPlanObjetive(bbx, structureName, vParameter=5, vDose=3*1.07, vTotalDose=60*1.07)\n",
    "structureName = 'Recto'\n",
    "acp.addQualityIndex(bbx, ID= structureName, vType=5, vModifier=1, vValue=85, vTypeSpecifier=20, vReportDQPValueInAbsoluteUnits='true')\n",
    "acp.writeProt(bbx, protout='TestSalida.xml')"
   ]
  },
  {
   "cell_type": "code",
   "execution_count": 10,
   "id": "1af2e12f-61e9-48e4-bd6f-e58f4d279e2d",
   "metadata": {},
   "outputs": [],
   "source": [
    "import xml.etree.ElementTree as ET"
   ]
  },
  {
   "cell_type": "code",
   "execution_count": 11,
   "id": "1f8b6153-96ab-427f-928d-7c20094b8ec6",
   "metadata": {},
   "outputs": [],
   "source": [
    "px = ET.parse('Próstata 20Fx.xml')\n",
    "ET.indent(px)\n",
    "px.write('Próstata 20Fx.xml', encoding='utf-8', xml_declaration=True)"
   ]
  },
  {
   "cell_type": "markdown",
   "id": "11ff3d2f-e356-4b10-8ff5-3ed69dcd7861",
   "metadata": {},
   "source": [
    "### Diccionario de estructuras"
   ]
  },
  {
   "cell_type": "code",
   "execution_count": 19,
   "id": "1ae4d771-dd81-4e9f-8f2a-24d45d18e8c6",
   "metadata": {},
   "outputs": [],
   "source": [
    "import pandas as pd"
   ]
  },
  {
   "cell_type": "code",
   "execution_count": 31,
   "id": "da0afca8-3a65-4924-8562-58944eac1d26",
   "metadata": {},
   "outputs": [
    {
     "data": {
      "text/html": [
       "<div>\n",
       "<style scoped>\n",
       "    .dataframe tbody tr th:only-of-type {\n",
       "        vertical-align: middle;\n",
       "    }\n",
       "\n",
       "    .dataframe tbody tr th {\n",
       "        vertical-align: top;\n",
       "    }\n",
       "\n",
       "    .dataframe thead th {\n",
       "        text-align: right;\n",
       "    }\n",
       "</style>\n",
       "<table border=\"1\" class=\"dataframe\">\n",
       "  <thead>\n",
       "    <tr style=\"text-align: right;\">\n",
       "      <th></th>\n",
       "      <th>Name</th>\n",
       "      <th>OtherNames</th>\n",
       "    </tr>\n",
       "  </thead>\n",
       "  <tbody>\n",
       "    <tr>\n",
       "      <th>0</th>\n",
       "      <td>Gland_lagrimal_D</td>\n",
       "      <td>glandula lacrimal derecha, glandula lacrimal d...</td>\n",
       "    </tr>\n",
       "    <tr>\n",
       "      <th>1</th>\n",
       "      <td>Gland_lagrimal_I</td>\n",
       "      <td>glandula lacrimal izquierda, glandula lacrimal...</td>\n",
       "    </tr>\n",
       "  </tbody>\n",
       "</table>\n",
       "</div>"
      ],
      "text/plain": [
       "               Name                                         OtherNames\n",
       "0  Gland_lagrimal_D  glandula lacrimal derecha, glandula lacrimal d...\n",
       "1  Gland_lagrimal_I  glandula lacrimal izquierda, glandula lacrimal..."
      ]
     },
     "execution_count": 31,
     "metadata": {},
     "output_type": "execute_result"
    }
   ],
   "source": [
    "StructureNormalizationdf= pd.DataFrame([\n",
    "    {'Name' : 'Parotida_D', 'OtherNames' : 'parótida derecha'},\n",
    "    {'Name' : 'Parotida_I', 'OtherNames' : 'parótida izda'},\n",
    "    {'Name' : 'Medula', 'OtherNames' : 'médula'},\n",
    "    {'Name' : 'Medula', 'OtherNames' : 'médula'},\n",
    "    {'Name' : 'Gland_lagrimal_D', 'OtherNames' : 'glandula lacrimal derecha, glandula lacrimal der, glandula lacrimal dcha, gland lacrimal derecha, gland lacrimal der, gland lacrimal dcha'},\n",
    "    {'Name' : 'Gland_lagrimal_I', 'OtherNames' : 'glandula lacrimal izquierda, glandula lacrimal izq, glandula lacrimal izqda, gland lacrimal izquierda, gland lacrimal izq, gland lacrimal izqda'},\n",
    "])\n",
    "StructureNormalizationdf"
   ]
  },
  {
   "cell_type": "code",
   "execution_count": 32,
   "id": "7a79a2a6-c74f-4bc4-9c17-5dd5e82553ee",
   "metadata": {},
   "outputs": [
    {
     "data": {
      "text/plain": [
       "0     True\n",
       "1    False\n",
       "Name: OtherNames, dtype: bool"
      ]
     },
     "execution_count": 32,
     "metadata": {},
     "output_type": "execute_result"
    }
   ],
   "source": [
    "StructureNormalizationdf.OtherNames.str.contains('glandula lacrimal derecha')"
   ]
  },
  {
   "cell_type": "code",
   "execution_count": 35,
   "id": "2172cb90-a888-4d58-a2e3-34438405b249",
   "metadata": {},
   "outputs": [
    {
     "data": {
      "text/plain": [
       "'Gland_lagrimal_D'"
      ]
     },
     "execution_count": 35,
     "metadata": {},
     "output_type": "execute_result"
    }
   ],
   "source": [
    "StructureNormalizationdf[StructureNormalizationdf.OtherNames.str.contains('glandula lacrimal derecha')].Name.values[0]"
   ]
  },
  {
   "cell_type": "code",
   "execution_count": null,
   "id": "8fbec326-1786-48b1-85f1-0b5093afd3d2",
   "metadata": {},
   "outputs": [],
   "source": []
  }
 ],
 "metadata": {
  "kernelspec": {
   "display_name": "Python 3 (ipykernel)",
   "language": "python",
   "name": "python3"
  },
  "language_info": {
   "codemirror_mode": {
    "name": "ipython",
    "version": 3
   },
   "file_extension": ".py",
   "mimetype": "text/x-python",
   "name": "python",
   "nbconvert_exporter": "python",
   "pygments_lexer": "ipython3",
   "version": "3.11.6"
  }
 },
 "nbformat": 4,
 "nbformat_minor": 5
}
