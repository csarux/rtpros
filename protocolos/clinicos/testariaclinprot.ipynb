{
 "cells": [
  {
   "cell_type": "markdown",
   "id": "e04af062-dc71-46c7-aefe-76ee5794686e",
   "metadata": {},
   "source": [
    "# Tests módulo `ariaclinprot`"
   ]
  },
  {
   "cell_type": "code",
   "execution_count": 1,
   "id": "fbf5a34e-d275-45b4-8f84-882dd7bddf7d",
   "metadata": {},
   "outputs": [],
   "source": [
    "import ariaclinprot as acp"
   ]
  },
  {
   "cell_type": "markdown",
   "id": "42092192-6a12-43ed-b2d1-b7e624c098e1",
   "metadata": {},
   "source": [
    "## Prescripciones"
   ]
  },
  {
   "cell_type": "code",
   "execution_count": 41,
   "id": "31cf13bd-fb33-4c8b-bbca-008dec08ad97",
   "metadata": {},
   "outputs": [],
   "source": [
    "pvdf, ccdf, oardf = acp.parse_prescription('../../prescripciones/ORLadyuvante.csv')"
   ]
  },
  {
   "cell_type": "code",
   "execution_count": 37,
   "id": "ca6a1e99-0e5e-4f42-a868-721a610c704f",
   "metadata": {},
   "outputs": [
    {
     "data": {
      "text/html": [
       "<div>\n",
       "<style scoped>\n",
       "    .dataframe tbody tr th:only-of-type {\n",
       "        vertical-align: middle;\n",
       "    }\n",
       "\n",
       "    .dataframe tbody tr th {\n",
       "        vertical-align: top;\n",
       "    }\n",
       "\n",
       "    .dataframe thead th {\n",
       "        text-align: right;\n",
       "    }\n",
       "</style>\n",
       "<table border=\"1\" class=\"dataframe\">\n",
       "  <thead>\n",
       "    <tr style=\"text-align: right;\">\n",
       "      <th></th>\n",
       "      <th>Volume</th>\n",
       "      <th>Dose</th>\n",
       "      <th>FxDose</th>\n",
       "    </tr>\n",
       "  </thead>\n",
       "  <tbody>\n",
       "    <tr>\n",
       "      <th>0</th>\n",
       "      <td>PTV 63</td>\n",
       "      <td>63.000</td>\n",
       "      <td>2.100</td>\n",
       "    </tr>\n",
       "    <tr>\n",
       "      <th>1</th>\n",
       "      <td>PTV 54</td>\n",
       "      <td>54.000</td>\n",
       "      <td>1.800</td>\n",
       "    </tr>\n",
       "  </tbody>\n",
       "</table>\n",
       "</div>"
      ],
      "text/plain": [
       "   Volume    Dose FxDose\n",
       "0  PTV 63  63.000  2.100\n",
       "1  PTV 54  54.000  1.800"
      ]
     },
     "execution_count": 37,
     "metadata": {},
     "output_type": "execute_result"
    }
   ],
   "source": [
    "pvdf"
   ]
  },
  {
   "cell_type": "code",
   "execution_count": 42,
   "id": "528e30cf-036a-4dde-be8d-95af0645a11e",
   "metadata": {},
   "outputs": [
    {
     "data": {
      "text/html": [
       "<div>\n",
       "<style scoped>\n",
       "    .dataframe tbody tr th:only-of-type {\n",
       "        vertical-align: middle;\n",
       "    }\n",
       "\n",
       "    .dataframe tbody tr th {\n",
       "        vertical-align: top;\n",
       "    }\n",
       "\n",
       "    .dataframe thead th {\n",
       "        text-align: right;\n",
       "    }\n",
       "</style>\n",
       "<table border=\"1\" class=\"dataframe\">\n",
       "  <thead>\n",
       "    <tr style=\"text-align: right;\">\n",
       "      <th></th>\n",
       "      <th>Volume</th>\n",
       "      <th>Min</th>\n",
       "      <th>Max</th>\n",
       "      <th>AtLeast</th>\n",
       "      <th>NoMore</th>\n",
       "    </tr>\n",
       "  </thead>\n",
       "  <tbody>\n",
       "    <tr>\n",
       "      <th>0</th>\n",
       "      <td>PTV 63</td>\n",
       "      <td></td>\n",
       "      <td></td>\n",
       "      <td>[95, 95, 59.85]</td>\n",
       "      <td>[5, 105, 67.41]</td>\n",
       "    </tr>\n",
       "    <tr>\n",
       "      <th>1</th>\n",
       "      <td>PTV 54</td>\n",
       "      <td></td>\n",
       "      <td></td>\n",
       "      <td>[95, 95, 51.3]</td>\n",
       "      <td>[5, 105, 57.78]</td>\n",
       "    </tr>\n",
       "  </tbody>\n",
       "</table>\n",
       "</div>"
      ],
      "text/plain": [
       "   Volume Min Max          AtLeast           NoMore\n",
       "0  PTV 63          [95, 95, 59.85]  [5, 105, 67.41]\n",
       "1  PTV 54           [95, 95, 51.3]  [5, 105, 57.78]"
      ]
     },
     "execution_count": 42,
     "metadata": {},
     "output_type": "execute_result"
    }
   ],
   "source": [
    "ccdf"
   ]
  },
  {
   "cell_type": "code",
   "execution_count": 39,
   "id": "35d729b0-2620-4287-a523-c7c37d42a16a",
   "metadata": {},
   "outputs": [
    {
     "data": {
      "text/html": [
       "<div>\n",
       "<style scoped>\n",
       "    .dataframe tbody tr th:only-of-type {\n",
       "        vertical-align: middle;\n",
       "    }\n",
       "\n",
       "    .dataframe tbody tr th {\n",
       "        vertical-align: top;\n",
       "    }\n",
       "\n",
       "    .dataframe thead th {\n",
       "        text-align: right;\n",
       "    }\n",
       "</style>\n",
       "<table border=\"1\" class=\"dataframe\">\n",
       "  <thead>\n",
       "    <tr style=\"text-align: right;\">\n",
       "      <th></th>\n",
       "      <th>Organ</th>\n",
       "      <th>Dmean</th>\n",
       "      <th>Dmax</th>\n",
       "      <th>DosimPars</th>\n",
       "    </tr>\n",
       "  </thead>\n",
       "  <tbody>\n",
       "    <tr>\n",
       "      <th>0</th>\n",
       "      <td>Parotidas</td>\n",
       "      <td>26 Gy</td>\n",
       "      <td></td>\n",
       "      <td>[V30$50%]</td>\n",
       "    </tr>\n",
       "    <tr>\n",
       "      <th>1</th>\n",
       "      <td>Tronco cerebral</td>\n",
       "      <td></td>\n",
       "      <td></td>\n",
       "      <td>[D53$100%, V60$30 %]</td>\n",
       "    </tr>\n",
       "    <tr>\n",
       "      <th>2</th>\n",
       "      <td>Medula espinal</td>\n",
       "      <td></td>\n",
       "      <td>45 Gy</td>\n",
       "      <td>[]</td>\n",
       "    </tr>\n",
       "    <tr>\n",
       "      <th>3</th>\n",
       "      <td>Laringe</td>\n",
       "      <td></td>\n",
       "      <td>70 Gy</td>\n",
       "      <td>[]</td>\n",
       "    </tr>\n",
       "    <tr>\n",
       "      <th>4</th>\n",
       "      <td>Mandibula</td>\n",
       "      <td></td>\n",
       "      <td>70 Gy</td>\n",
       "      <td>[]</td>\n",
       "    </tr>\n",
       "    <tr>\n",
       "      <th>5</th>\n",
       "      <td>Tiroides</td>\n",
       "      <td></td>\n",
       "      <td>45 Gy</td>\n",
       "      <td>[]</td>\n",
       "    </tr>\n",
       "    <tr>\n",
       "      <th>6</th>\n",
       "      <td>Cerebro sano</td>\n",
       "      <td></td>\n",
       "      <td></td>\n",
       "      <td>[V 60$30 %]</td>\n",
       "    </tr>\n",
       "    <tr>\n",
       "      <th>7</th>\n",
       "      <td>Oido interno</td>\n",
       "      <td></td>\n",
       "      <td>50 Gy</td>\n",
       "      <td>[]</td>\n",
       "    </tr>\n",
       "    <tr>\n",
       "      <th>8</th>\n",
       "      <td>Nervios opticos</td>\n",
       "      <td></td>\n",
       "      <td>50 Gy</td>\n",
       "      <td>[]</td>\n",
       "    </tr>\n",
       "    <tr>\n",
       "      <th>9</th>\n",
       "      <td>Quiasma optico</td>\n",
       "      <td></td>\n",
       "      <td>50 Gy</td>\n",
       "      <td>[]</td>\n",
       "    </tr>\n",
       "    <tr>\n",
       "      <th>10</th>\n",
       "      <td>Cristalinos</td>\n",
       "      <td></td>\n",
       "      <td>8 Gy</td>\n",
       "      <td>[]</td>\n",
       "    </tr>\n",
       "  </tbody>\n",
       "</table>\n",
       "</div>"
      ],
      "text/plain": [
       "              Organ   Dmean    Dmax             DosimPars\n",
       "0         Parotidas   26 Gy                     [V30$50%]\n",
       "1   Tronco cerebral                  [D53$100%, V60$30 %]\n",
       "2    Medula espinal           45 Gy                    []\n",
       "3           Laringe           70 Gy                    []\n",
       "4         Mandibula           70 Gy                    []\n",
       "5          Tiroides           45 Gy                    []\n",
       "6      Cerebro sano                           [V 60$30 %]\n",
       "7      Oido interno           50 Gy                    []\n",
       "8   Nervios opticos           50 Gy                    []\n",
       "9    Quiasma optico           50 Gy                    []\n",
       "10      Cristalinos            8 Gy                    []"
      ]
     },
     "execution_count": 39,
     "metadata": {},
     "output_type": "execute_result"
    }
   ],
   "source": [
    "oardf"
   ]
  },
  {
   "cell_type": "code",
   "execution_count": 14,
   "id": "bf4e16a7-8620-455b-8ba2-356dd3e74616",
   "metadata": {},
   "outputs": [
    {
     "data": {
      "text/plain": [
       "0     16\n",
       "1     13\n",
       "2      6\n",
       "3     15\n",
       "4     18\n",
       "5     20\n",
       "6     20\n",
       "7     22\n",
       "8      7\n",
       "9      9\n",
       "10     8\n",
       "11    14\n",
       "12    18\n",
       "13    12\n",
       "14    20\n",
       "15    17\n",
       "16    21\n",
       "17    25\n",
       "Name: Organ, dtype: int64"
      ]
     },
     "execution_count": 14,
     "metadata": {},
     "output_type": "execute_result"
    }
   ],
   "source": [
    "oardf.Organ.str.len()"
   ]
  },
  {
   "cell_type": "markdown",
   "id": "08be65ef-463f-46c9-81b4-3ce1262d7331",
   "metadata": {},
   "source": [
    "## Escritura de protocolos clínicos"
   ]
  },
  {
   "cell_type": "code",
   "execution_count": 43,
   "id": "6df229f7-7b9e-4ba0-b8e7-0bb48e17d42e",
   "metadata": {},
   "outputs": [],
   "source": [
    "# Read protocol template\n",
    "bbx = acp.parseProt('BareBone.xml')\n",
    "# Preview\n",
    "ProtocolID = 'ArtificialHN'\n",
    "TreatmentSite = 'Head and Neck'\n",
    "acp.modPreview(bbx, ID=ProtocolID, TreatmentSite=TreatmentSite)\n",
    "# Phases\n",
    "PlanID='ORL'\n",
    "FractionCount = int(float(pvdf.Dose[0])/float(pvdf.FxDose[0]))\n",
    "acp.modPhase(bbx, ID=PlanID, vFractionCount=FractionCount)\n",
    "# Structutures\n",
    "for pv in pvdf.itertuples():\n",
    "    acp.addStructure(bbx, structureName=pv.Volume)\n",
    "for oar in oardf.itertuples():\n",
    "    acp.addStructure(bbx, structureName=oar.Organ)\n",
    "\n",
    "# Plan objetives\n",
    "for pv in pvdf.itertuples():\n",
    "    ccVolumedf = ccdf[ccdf.Volume == pv.Volume]\n",
    "    '''\n",
    "    if not ccVolumedf.Min.str.match(' +')[0]:\n",
    "        a=1\n",
    "    if ccVolumedf.Max.str.match(' +')[0] == False:\n",
    "        a=1\n",
    "    '''\n",
    "    if ccVolumedf.AtLeast.values[0]:\n",
    "        atLeastlst = ccVolumedf.AtLeast.values[0]\n",
    "        VolumePercentage =  atLeastlst[0]\n",
    "        DosePercentage = float(atLeastlst[1])/100\n",
    "        FxDoseGy = float(pv.FxDose) * DosePercentage\n",
    "        DoseGy = float(pv.Dose) * DosePercentage\n",
    "        acp.addPlanObjetive(bbx, ID=pv.Volume, vParameter=VolumePercentage,\n",
    "                            vDose=FxDoseGy, vTotalDose=DoseGy, vModifier=0)\n",
    "    if ccVolumedf.NoMore.values[0]:\n",
    "        noMorelst = ccVolumedf.NoMore.values[0]\n",
    "        VolumePercentage =  noMorelst[0]\n",
    "        DosePercentage = float(noMorelst[1])/100\n",
    "        FxDoseGy = float(pv.FxDose) * DosePercentage\n",
    "        DoseGy = float(pv.Dose) * DosePercentage\n",
    "        acp.addPlanObjetive(bbx, ID=pv.Volume, vParameter=VolumePercentage,\n",
    "                            vDose=FxDoseGy, vTotalDose=DoseGy)\n",
    "# Quality Indexes\n",
    "for pv in pvdf.itertuples():\n",
    "    ccVolumedf = ccdf[ccdf.Volume == pv.Volume]\n",
    "    if ccVolumedf.AtLeast.values[0]:\n",
    "        TreatmentDosePrescription = acp.getTreatmentDosePrescription(pvdf)\n",
    "        atLeastlst = ccVolumedf.AtLeast.values[0]\n",
    "        VolumePercentage =  atLeastlst[0]\n",
    "        DosePercentage = float(atLeastlst[1])/100\n",
    "        StructureRelativeDose = float(pv.Dose) * DosePercentage / TreatmentDosePrescription * 100\n",
    "        acp.addQualityIndex(bbx, ID=pv.Volume, vType=2, vModifier=0, \n",
    "                            vValue=VolumePercentage, vTypeSpecifier=StructureRelativeDose, \n",
    "                            vReportDQPValueInAbsoluteUnits='false')\n",
    "    if ccVolumedf.NoMore.values[0]:\n",
    "        TreatmentDosePrescription = acp.getTreatmentDosePrescription(pvdf)\n",
    "        noMorelst = ccVolumedf.NoMore.values[0]\n",
    "        VolumePercentage = noMorelst[0]\n",
    "        DosePercentage = float(noMorelst[1])/100\n",
    "        StructureRelativeDose = float(pv.Dose) * DosePercentage / TreatmentDosePrescription * 100\n",
    "        acp.addQualityIndex(bbx, ID=pv.Volume, vType=2, vModifier=1, \n",
    "                            vValue=VolumePercentage, vTypeSpecifier=StructureRelativeDose, \n",
    "                            vReportDQPValueInAbsoluteUnits='false')\n",
    "# Write clincial protocol\n",
    "acp.writeProt(bbx)"
   ]
  },
  {
   "cell_type": "code",
   "execution_count": 5,
   "id": "b8a9f781-0a63-472e-a757-ba2902d81fa9",
   "metadata": {},
   "outputs": [],
   "source": [
    "bbx = acp.parseProt('BareBone.xml')\n",
    "TreatmentSite = 'Prostata + vvss hipofx'\n",
    "acp.modPreview(bbx, ID='ArmaduraTest', TreatmentSite=TreatmentSite)\n",
    "acp.modPhaseID(bbx, 'Bach')\n",
    "structureName = 'Recto'\n",
    "acp.addStructure(bbx, structureName)\n",
    "acp.addPlanObjetive(bbx, ID=structureName, vParameter=85, vDose=1, vTotalDose=20, vModifier=11)\n",
    "structureName = 'PTV'\n",
    "acp.addStructure(bbx, structureName)\n",
    "acp.addPlanObjetive(bbx, structureName, vParameter=95, vDose=3*.95, vTotalDose=60*.95, vModifier=0, vPrimary='true')\n",
    "acp.addPlanObjetive(bbx, structureName, vParameter=5, vDose=3*1.07, vTotalDose=60*1.07)\n",
    "structureName = 'Recto'\n",
    "acp.addQualityIndex(bbx, ID= structureName, vType=5, vModifier=1, vValue=85, vTypeSpecifier=20, vReportDQPValueInAbsoluteUnits='true')\n",
    "acp.writeProt(bbx, protout='TestSalida.xml')"
   ]
  },
  {
   "cell_type": "code",
   "execution_count": 10,
   "id": "1af2e12f-61e9-48e4-bd6f-e58f4d279e2d",
   "metadata": {},
   "outputs": [],
   "source": [
    "import xml.etree.ElementTree as ET"
   ]
  },
  {
   "cell_type": "code",
   "execution_count": 11,
   "id": "1f8b6153-96ab-427f-928d-7c20094b8ec6",
   "metadata": {},
   "outputs": [],
   "source": [
    "px = ET.parse('Próstata 20Fx.xml')\n",
    "ET.indent(px)\n",
    "px.write('Próstata 20Fx.xml', encoding='utf-8', xml_declaration=True)"
   ]
  },
  {
   "cell_type": "markdown",
   "id": "11ff3d2f-e356-4b10-8ff5-3ed69dcd7861",
   "metadata": {},
   "source": [
    "### Diccionario de estructuras"
   ]
  },
  {
   "cell_type": "code",
   "execution_count": 19,
   "id": "1ae4d771-dd81-4e9f-8f2a-24d45d18e8c6",
   "metadata": {},
   "outputs": [],
   "source": [
    "import pandas as pd"
   ]
  },
  {
   "cell_type": "code",
   "execution_count": 31,
   "id": "da0afca8-3a65-4924-8562-58944eac1d26",
   "metadata": {},
   "outputs": [
    {
     "data": {
      "text/html": [
       "<div>\n",
       "<style scoped>\n",
       "    .dataframe tbody tr th:only-of-type {\n",
       "        vertical-align: middle;\n",
       "    }\n",
       "\n",
       "    .dataframe tbody tr th {\n",
       "        vertical-align: top;\n",
       "    }\n",
       "\n",
       "    .dataframe thead th {\n",
       "        text-align: right;\n",
       "    }\n",
       "</style>\n",
       "<table border=\"1\" class=\"dataframe\">\n",
       "  <thead>\n",
       "    <tr style=\"text-align: right;\">\n",
       "      <th></th>\n",
       "      <th>Name</th>\n",
       "      <th>OtherNames</th>\n",
       "    </tr>\n",
       "  </thead>\n",
       "  <tbody>\n",
       "    <tr>\n",
       "      <th>0</th>\n",
       "      <td>Gland_lagrimal_D</td>\n",
       "      <td>glandula lacrimal derecha, glandula lacrimal d...</td>\n",
       "    </tr>\n",
       "    <tr>\n",
       "      <th>1</th>\n",
       "      <td>Gland_lagrimal_I</td>\n",
       "      <td>glandula lacrimal izquierda, glandula lacrimal...</td>\n",
       "    </tr>\n",
       "  </tbody>\n",
       "</table>\n",
       "</div>"
      ],
      "text/plain": [
       "               Name                                         OtherNames\n",
       "0  Gland_lagrimal_D  glandula lacrimal derecha, glandula lacrimal d...\n",
       "1  Gland_lagrimal_I  glandula lacrimal izquierda, glandula lacrimal..."
      ]
     },
     "execution_count": 31,
     "metadata": {},
     "output_type": "execute_result"
    }
   ],
   "source": [
    "StructureNormalizationdf= pd.DataFrame([\n",
    "    {'Name' : 'Parotida_D', 'OtherNames' : 'parótida derecha'},\n",
    "    {'Name' : 'Parotida_I', 'OtherNames' : 'parótida izda'},\n",
    "    {'Name' : 'Medula', 'OtherNames' : 'médula'},\n",
    "    {'Name' : 'Medula', 'OtherNames' : 'médula'},\n",
    "    {'Name' : 'Gland_lagrimal_D', 'OtherNames' : 'glandula lacrimal derecha, glandula lacrimal der, glandula lacrimal dcha, gland lacrimal derecha, gland lacrimal der, gland lacrimal dcha'},\n",
    "    {'Name' : 'Gland_lagrimal_I', 'OtherNames' : 'glandula lacrimal izquierda, glandula lacrimal izq, glandula lacrimal izqda, gland lacrimal izquierda, gland lacrimal izq, gland lacrimal izqda'},\n",
    "])\n",
    "StructureNormalizationdf"
   ]
  },
  {
   "cell_type": "code",
   "execution_count": 32,
   "id": "7a79a2a6-c74f-4bc4-9c17-5dd5e82553ee",
   "metadata": {},
   "outputs": [
    {
     "data": {
      "text/plain": [
       "0     True\n",
       "1    False\n",
       "Name: OtherNames, dtype: bool"
      ]
     },
     "execution_count": 32,
     "metadata": {},
     "output_type": "execute_result"
    }
   ],
   "source": [
    "StructureNormalizationdf.OtherNames.str.contains('glandula lacrimal derecha')"
   ]
  },
  {
   "cell_type": "code",
   "execution_count": 35,
   "id": "2172cb90-a888-4d58-a2e3-34438405b249",
   "metadata": {},
   "outputs": [
    {
     "data": {
      "text/plain": [
       "'Gland_lagrimal_D'"
      ]
     },
     "execution_count": 35,
     "metadata": {},
     "output_type": "execute_result"
    }
   ],
   "source": [
    "StructureNormalizationdf[StructureNormalizationdf.OtherNames.str.contains('glandula lacrimal derecha')].Name.values[0]"
   ]
  },
  {
   "cell_type": "code",
   "execution_count": null,
   "id": "8fbec326-1786-48b1-85f1-0b5093afd3d2",
   "metadata": {},
   "outputs": [],
   "source": []
  }
 ],
 "metadata": {
  "kernelspec": {
   "display_name": "Python 3 (ipykernel)",
   "language": "python",
   "name": "python3"
  },
  "language_info": {
   "codemirror_mode": {
    "name": "ipython",
    "version": 3
   },
   "file_extension": ".py",
   "mimetype": "text/x-python",
   "name": "python",
   "nbconvert_exporter": "python",
   "pygments_lexer": "ipython3",
   "version": "3.11.0"
  }
 },
 "nbformat": 4,
 "nbformat_minor": 5
}
