{
 "cells": [
  {
   "cell_type": "markdown",
   "id": "e04af062-dc71-46c7-aefe-76ee5794686e",
   "metadata": {},
   "source": [
    "# Tests módulo `ariaclinprot`"
   ]
  },
  {
   "cell_type": "code",
   "execution_count": 1,
   "id": "fbf5a34e-d275-45b4-8f84-882dd7bddf7d",
   "metadata": {},
   "outputs": [],
   "source": [
    "import ariaclinprot as acp"
   ]
  },
  {
   "cell_type": "markdown",
   "id": "42092192-6a12-43ed-b2d1-b7e624c098e1",
   "metadata": {},
   "source": [
    "## Prescripciones"
   ]
  },
  {
   "cell_type": "code",
   "execution_count": 2,
   "id": "31cf13bd-fb33-4c8b-bbca-008dec08ad97",
   "metadata": {},
   "outputs": [],
   "source": [
    "pvdf, ccdf, oardf = acp.parse_prescription('../../prescripciones/ORL.csv')"
   ]
  },
  {
   "cell_type": "code",
   "execution_count": 3,
   "id": "ca6a1e99-0e5e-4f42-a868-721a610c704f",
   "metadata": {},
   "outputs": [
    {
     "data": {
      "text/html": [
       "<div>\n",
       "<style scoped>\n",
       "    .dataframe tbody tr th:only-of-type {\n",
       "        vertical-align: middle;\n",
       "    }\n",
       "\n",
       "    .dataframe tbody tr th {\n",
       "        vertical-align: top;\n",
       "    }\n",
       "\n",
       "    .dataframe thead th {\n",
       "        text-align: right;\n",
       "    }\n",
       "</style>\n",
       "<table border=\"1\" class=\"dataframe\">\n",
       "  <thead>\n",
       "    <tr style=\"text-align: right;\">\n",
       "      <th></th>\n",
       "      <th>Volume</th>\n",
       "      <th>Dose</th>\n",
       "      <th>FxDose</th>\n",
       "    </tr>\n",
       "  </thead>\n",
       "  <tbody>\n",
       "    <tr>\n",
       "      <th>0</th>\n",
       "      <td>PTV_HR</td>\n",
       "      <td>70.000</td>\n",
       "      <td>2.000</td>\n",
       "    </tr>\n",
       "    <tr>\n",
       "      <th>1</th>\n",
       "      <td>PTV_LR</td>\n",
       "      <td>54.000</td>\n",
       "      <td>1.543</td>\n",
       "    </tr>\n",
       "  </tbody>\n",
       "</table>\n",
       "</div>"
      ],
      "text/plain": [
       "   Volume    Dose FxDose\n",
       "0  PTV_HR  70.000  2.000\n",
       "1  PTV_LR  54.000  1.543"
      ]
     },
     "execution_count": 3,
     "metadata": {},
     "output_type": "execute_result"
    }
   ],
   "source": [
    "pvdf"
   ]
  },
  {
   "cell_type": "code",
   "execution_count": 4,
   "id": "528e30cf-036a-4dde-be8d-95af0645a11e",
   "metadata": {},
   "outputs": [
    {
     "data": {
      "text/html": [
       "<div>\n",
       "<style scoped>\n",
       "    .dataframe tbody tr th:only-of-type {\n",
       "        vertical-align: middle;\n",
       "    }\n",
       "\n",
       "    .dataframe tbody tr th {\n",
       "        vertical-align: top;\n",
       "    }\n",
       "\n",
       "    .dataframe thead th {\n",
       "        text-align: right;\n",
       "    }\n",
       "</style>\n",
       "<table border=\"1\" class=\"dataframe\">\n",
       "  <thead>\n",
       "    <tr style=\"text-align: right;\">\n",
       "      <th></th>\n",
       "      <th>Volume</th>\n",
       "      <th>Min</th>\n",
       "      <th>Max</th>\n",
       "      <th>AtLeast</th>\n",
       "      <th>NoMore</th>\n",
       "    </tr>\n",
       "  </thead>\n",
       "  <tbody>\n",
       "    <tr>\n",
       "      <th>0</th>\n",
       "      <td>PTV_HR</td>\n",
       "      <td></td>\n",
       "      <td></td>\n",
       "      <td>[95, 95, 51.3]</td>\n",
       "      <td>[5, 105, 56.7]</td>\n",
       "    </tr>\n",
       "    <tr>\n",
       "      <th>1</th>\n",
       "      <td>PTV_LR</td>\n",
       "      <td></td>\n",
       "      <td></td>\n",
       "      <td>[95, 95, 51.3]</td>\n",
       "      <td>[5, 105, 56.7]</td>\n",
       "    </tr>\n",
       "  </tbody>\n",
       "</table>\n",
       "</div>"
      ],
      "text/plain": [
       "   Volume Min Max         AtLeast          NoMore\n",
       "0  PTV_HR          [95, 95, 51.3]  [5, 105, 56.7]\n",
       "1  PTV_LR          [95, 95, 51.3]  [5, 105, 56.7]"
      ]
     },
     "execution_count": 4,
     "metadata": {},
     "output_type": "execute_result"
    }
   ],
   "source": [
    "ccdf"
   ]
  },
  {
   "cell_type": "code",
   "execution_count": 5,
   "id": "35d729b0-2620-4287-a523-c7c37d42a16a",
   "metadata": {},
   "outputs": [
    {
     "data": {
      "text/html": [
       "<div>\n",
       "<style scoped>\n",
       "    .dataframe tbody tr th:only-of-type {\n",
       "        vertical-align: middle;\n",
       "    }\n",
       "\n",
       "    .dataframe tbody tr th {\n",
       "        vertical-align: top;\n",
       "    }\n",
       "\n",
       "    .dataframe thead th {\n",
       "        text-align: right;\n",
       "    }\n",
       "</style>\n",
       "<table border=\"1\" class=\"dataframe\">\n",
       "  <thead>\n",
       "    <tr style=\"text-align: right;\">\n",
       "      <th></th>\n",
       "      <th>Organ</th>\n",
       "      <th>Dmean</th>\n",
       "      <th>Dmax</th>\n",
       "      <th>DosimPars</th>\n",
       "    </tr>\n",
       "  </thead>\n",
       "  <tbody>\n",
       "    <tr>\n",
       "      <th>0</th>\n",
       "      <td>parótida derecha</td>\n",
       "      <td>26 Gy</td>\n",
       "      <td></td>\n",
       "      <td>[V30$50 %]</td>\n",
       "    </tr>\n",
       "    <tr>\n",
       "      <th>1</th>\n",
       "      <td>parótida izda</td>\n",
       "      <td>26 Gy</td>\n",
       "      <td></td>\n",
       "      <td>[V30$50 %]</td>\n",
       "    </tr>\n",
       "    <tr>\n",
       "      <th>2</th>\n",
       "      <td>médula</td>\n",
       "      <td></td>\n",
       "      <td>45 Gy</td>\n",
       "      <td>[]</td>\n",
       "    </tr>\n",
       "    <tr>\n",
       "      <th>3</th>\n",
       "      <td>tronco cerebral</td>\n",
       "      <td></td>\n",
       "      <td></td>\n",
       "      <td>[D53$100%, V60$30%]</td>\n",
       "    </tr>\n",
       "    <tr>\n",
       "      <th>4</th>\n",
       "      <td>cristalino derecho</td>\n",
       "      <td></td>\n",
       "      <td>8 Gy</td>\n",
       "      <td>[]</td>\n",
       "    </tr>\n",
       "    <tr>\n",
       "      <th>5</th>\n",
       "      <td>cristalino izquierdo</td>\n",
       "      <td></td>\n",
       "      <td>8 Gy</td>\n",
       "      <td>[]</td>\n",
       "    </tr>\n",
       "    <tr>\n",
       "      <th>6</th>\n",
       "      <td>oido interno derecho</td>\n",
       "      <td></td>\n",
       "      <td>50 Gy</td>\n",
       "      <td>[]</td>\n",
       "    </tr>\n",
       "    <tr>\n",
       "      <th>7</th>\n",
       "      <td>oido interno izquierdo</td>\n",
       "      <td></td>\n",
       "      <td>50 Gy</td>\n",
       "      <td>[]</td>\n",
       "    </tr>\n",
       "    <tr>\n",
       "      <th>8</th>\n",
       "      <td>laringe</td>\n",
       "      <td></td>\n",
       "      <td>70 Gy</td>\n",
       "      <td>[]</td>\n",
       "    </tr>\n",
       "    <tr>\n",
       "      <th>9</th>\n",
       "      <td>mandíbula</td>\n",
       "      <td></td>\n",
       "      <td>70 Gy</td>\n",
       "      <td>[]</td>\n",
       "    </tr>\n",
       "    <tr>\n",
       "      <th>10</th>\n",
       "      <td>tiroides</td>\n",
       "      <td></td>\n",
       "      <td>45 Gy</td>\n",
       "      <td>[]</td>\n",
       "    </tr>\n",
       "    <tr>\n",
       "      <th>11</th>\n",
       "      <td>quiasma óptico</td>\n",
       "      <td></td>\n",
       "      <td>45 Gy</td>\n",
       "      <td>[V44$0.5cc]</td>\n",
       "    </tr>\n",
       "    <tr>\n",
       "      <th>12</th>\n",
       "      <td>n óptico izquierdo</td>\n",
       "      <td></td>\n",
       "      <td>45 Gy</td>\n",
       "      <td>[]</td>\n",
       "    </tr>\n",
       "    <tr>\n",
       "      <th>13</th>\n",
       "      <td>cerebro sano</td>\n",
       "      <td></td>\n",
       "      <td></td>\n",
       "      <td>[V60$30%]</td>\n",
       "    </tr>\n",
       "    <tr>\n",
       "      <th>14</th>\n",
       "      <td>PRV n.optico derecho</td>\n",
       "      <td></td>\n",
       "      <td>54 Gy</td>\n",
       "      <td>[]</td>\n",
       "    </tr>\n",
       "    <tr>\n",
       "      <th>15</th>\n",
       "      <td>N. óptico derecho</td>\n",
       "      <td></td>\n",
       "      <td>50 Gy</td>\n",
       "      <td>[V44$0.5cc]</td>\n",
       "    </tr>\n",
       "    <tr>\n",
       "      <th>16</th>\n",
       "      <td>glandula lacrimal izq</td>\n",
       "      <td></td>\n",
       "      <td>36 Gy</td>\n",
       "      <td>[V20$1cc]</td>\n",
       "    </tr>\n",
       "    <tr>\n",
       "      <th>17</th>\n",
       "      <td>glandula lacrimal derecha</td>\n",
       "      <td></td>\n",
       "      <td>36 Gy</td>\n",
       "      <td>[V20$1cc]</td>\n",
       "    </tr>\n",
       "  </tbody>\n",
       "</table>\n",
       "</div>"
      ],
      "text/plain": [
       "                        Organ   Dmean    Dmax            DosimPars\n",
       "0            parótida derecha   26 Gy                   [V30$50 %]\n",
       "1               parótida izda   26 Gy                   [V30$50 %]\n",
       "2                      médula           45 Gy                   []\n",
       "3             tronco cerebral                  [D53$100%, V60$30%]\n",
       "4          cristalino derecho            8 Gy                   []\n",
       "5        cristalino izquierdo            8 Gy                   []\n",
       "6        oido interno derecho           50 Gy                   []\n",
       "7      oido interno izquierdo           50 Gy                   []\n",
       "8                     laringe           70 Gy                   []\n",
       "9                   mandíbula           70 Gy                   []\n",
       "10                   tiroides           45 Gy                   []\n",
       "11             quiasma óptico           45 Gy          [V44$0.5cc]\n",
       "12         n óptico izquierdo           45 Gy                   []\n",
       "13               cerebro sano                            [V60$30%]\n",
       "14       PRV n.optico derecho           54 Gy                   []\n",
       "15          N. óptico derecho           50 Gy          [V44$0.5cc]\n",
       "16      glandula lacrimal izq           36 Gy            [V20$1cc]\n",
       "17  glandula lacrimal derecha           36 Gy            [V20$1cc]"
      ]
     },
     "execution_count": 5,
     "metadata": {},
     "output_type": "execute_result"
    }
   ],
   "source": [
    "oardf"
   ]
  },
  {
   "cell_type": "markdown",
   "id": "08be65ef-463f-46c9-81b4-3ce1262d7331",
   "metadata": {},
   "source": [
    "## Escritura de protocolos clínicos"
   ]
  },
  {
   "cell_type": "code",
   "execution_count": 5,
   "id": "b8a9f781-0a63-472e-a757-ba2902d81fa9",
   "metadata": {},
   "outputs": [],
   "source": [
    "bbx = acp.parseProt('BareBone.xml')\n",
    "TreatmentSite = 'Prostata + vvss hipofx'\n",
    "acp.modPreview(bbx, ID='ArmaduraTest', TreatmentSite=TreatmentSite)\n",
    "acp.modPhaseID(bbx, 'Bach')\n",
    "structureName = 'Recto'\n",
    "acp.addStructure(bbx, structureName)\n",
    "acp.addPlanObjetive(bbx, ID=structureName, vParameter=85, vDose=1, vTotalDose=20, vModifier=11)\n",
    "structureName = 'PTV'\n",
    "acp.addStructure(bbx, structureName)\n",
    "acp.addPlanObjetive(bbx, structureName, vParameter=95, vDose=3*.95, vTotalDose=60*.95, vModifier=0, vPrimary='true')\n",
    "acp.addPlanObjetive(bbx, structureName, vParameter=5, vDose=3*1.07, vTotalDose=60*1.07)\n",
    "structureName = 'Recto'\n",
    "acp.addQualityIndex(bbx, ID= structureName, vType=5, vModifier=1, vValue=85, vTypeSpecifier=20, vReportDQPValueInAbsoluteUnits='true')\n",
    "acp.writeProt(bbx, protout='TestSalida.xml')"
   ]
  },
  {
   "cell_type": "code",
   "execution_count": 7,
   "id": "d2d6f1d4-f08b-49fa-bfcf-e1bbe9c00cb1",
   "metadata": {},
   "outputs": [],
   "source": [
    "bbx = acp.parseProt('BareBone.xml')\n",
    "TreatmentSite = 'Head and Neck'\n",
    "acp.modPreview(bbx, ID='ArtificialHN', TreatmentSite=TreatmentSite)\n",
    "acp.modPhaseID(bbx, 'ORL')\n",
    "structureName = 'Recto'\n",
    "acp.addStructure(bbx, structureName)\n",
    "acp.addPlanObjetive(bbx, ID=structureName, vParameter=85, vDose=1, vTotalDose=20, vModifier=11)\n",
    "structureName = 'PTV'\n",
    "acp.addStructure(bbx, structureName)\n",
    "acp.addPlanObjetive(bbx, structureName, vParameter=95, vDose=3*.95, vTotalDose=60*.95, vModifier=0, vPrimary='true')\n",
    "acp.addPlanObjetive(bbx, structureName, vParameter=5, vDose=3*1.07, vTotalDose=60*1.07)\n",
    "structureName = 'Recto'\n",
    "acp.addQualityIndex(bbx, ID= structureName, vType=5, vModifier=1, vValue=85, vTypeSpecifier=20, vReportDQPValueInAbsoluteUnits='true')"
   ]
  },
  {
   "cell_type": "code",
   "execution_count": 21,
   "id": "6df229f7-7b9e-4ba0-b8e7-0bb48e17d42e",
   "metadata": {},
   "outputs": [
    {
     "ename": "ValueError",
     "evalue": "The truth value of a Series is ambiguous. Use a.empty, a.bool(), a.item(), a.any() or a.all().",
     "output_type": "error",
     "traceback": [
      "\u001b[0;31m---------------------------------------------------------------------------\u001b[0m",
      "\u001b[0;31mValueError\u001b[0m                                Traceback (most recent call last)",
      "\u001b[0;32m/tmp/ipykernel_28457/2056801347.py\u001b[0m in \u001b[0;36m?\u001b[0;34m()\u001b[0m\n\u001b[1;32m      5\u001b[0m \u001b[0;32mfor\u001b[0m \u001b[0mpv\u001b[0m \u001b[0;32min\u001b[0m \u001b[0mpvdf\u001b[0m\u001b[0;34m.\u001b[0m\u001b[0mitertuples\u001b[0m\u001b[0;34m(\u001b[0m\u001b[0;34m)\u001b[0m\u001b[0;34m:\u001b[0m\u001b[0;34m\u001b[0m\u001b[0;34m\u001b[0m\u001b[0m\n\u001b[1;32m      6\u001b[0m     \u001b[0macp\u001b[0m\u001b[0;34m.\u001b[0m\u001b[0maddStructure\u001b[0m\u001b[0;34m(\u001b[0m\u001b[0mbbx\u001b[0m\u001b[0;34m,\u001b[0m \u001b[0mstructureName\u001b[0m\u001b[0;34m=\u001b[0m\u001b[0mpv\u001b[0m\u001b[0;34m.\u001b[0m\u001b[0mVolume\u001b[0m\u001b[0;34m)\u001b[0m\u001b[0;34m\u001b[0m\u001b[0;34m\u001b[0m\u001b[0m\n\u001b[1;32m      7\u001b[0m \u001b[0;32mfor\u001b[0m \u001b[0mpv\u001b[0m \u001b[0;32min\u001b[0m \u001b[0mpvdf\u001b[0m\u001b[0;34m.\u001b[0m\u001b[0mitertuples\u001b[0m\u001b[0;34m(\u001b[0m\u001b[0;34m)\u001b[0m\u001b[0;34m:\u001b[0m\u001b[0;34m\u001b[0m\u001b[0;34m\u001b[0m\u001b[0m\n\u001b[1;32m      8\u001b[0m     \u001b[0mccVolume\u001b[0m \u001b[0;34m=\u001b[0m \u001b[0mccdf\u001b[0m\u001b[0;34m[\u001b[0m\u001b[0mccdf\u001b[0m\u001b[0;34m.\u001b[0m\u001b[0mVolume\u001b[0m \u001b[0;34m==\u001b[0m \u001b[0mpv\u001b[0m\u001b[0;34m.\u001b[0m\u001b[0mVolume\u001b[0m\u001b[0;34m]\u001b[0m\u001b[0;34m\u001b[0m\u001b[0;34m\u001b[0m\u001b[0m\n\u001b[0;32m----> 9\u001b[0;31m     \u001b[0;32mif\u001b[0m \u001b[0mccVolume\u001b[0m\u001b[0;34m.\u001b[0m\u001b[0mMin\u001b[0m\u001b[0;34m.\u001b[0m\u001b[0mstr\u001b[0m\u001b[0;34m.\u001b[0m\u001b[0mmatch\u001b[0m\u001b[0;34m(\u001b[0m\u001b[0;34m' +'\u001b[0m\u001b[0;34m)\u001b[0m \u001b[0;34m==\u001b[0m \u001b[0;32mFalse\u001b[0m\u001b[0;34m:\u001b[0m\u001b[0;34m\u001b[0m\u001b[0;34m\u001b[0m\u001b[0m\n\u001b[0m\u001b[1;32m     10\u001b[0m         \u001b[0ma\u001b[0m\u001b[0;34m=\u001b[0m\u001b[0;36m1\u001b[0m\u001b[0;34m\u001b[0m\u001b[0;34m\u001b[0m\u001b[0m\n\u001b[1;32m     11\u001b[0m     \u001b[0;32mif\u001b[0m \u001b[0mccVolume\u001b[0m\u001b[0;34m.\u001b[0m\u001b[0mMax\u001b[0m\u001b[0;34m.\u001b[0m\u001b[0mstr\u001b[0m\u001b[0;34m.\u001b[0m\u001b[0mmatch\u001b[0m\u001b[0;34m(\u001b[0m\u001b[0;34m' +'\u001b[0m\u001b[0;34m)\u001b[0m \u001b[0;34m==\u001b[0m \u001b[0;32mFalse\u001b[0m\u001b[0;34m:\u001b[0m\u001b[0;34m\u001b[0m\u001b[0;34m\u001b[0m\u001b[0m\n\u001b[1;32m     12\u001b[0m         \u001b[0ma\u001b[0m\u001b[0;34m=\u001b[0m\u001b[0;36m1\u001b[0m\u001b[0;34m\u001b[0m\u001b[0;34m\u001b[0m\u001b[0m\n",
      "\u001b[0;32m~/Development/rtpr/lib/python3.11/site-packages/pandas/core/generic.py\u001b[0m in \u001b[0;36m?\u001b[0;34m(self)\u001b[0m\n\u001b[1;32m   1517\u001b[0m     \u001b[0;34m@\u001b[0m\u001b[0mfinal\u001b[0m\u001b[0;34m\u001b[0m\u001b[0;34m\u001b[0m\u001b[0m\n\u001b[1;32m   1518\u001b[0m     \u001b[0;32mdef\u001b[0m \u001b[0m__nonzero__\u001b[0m\u001b[0;34m(\u001b[0m\u001b[0mself\u001b[0m\u001b[0;34m)\u001b[0m \u001b[0;34m->\u001b[0m \u001b[0mNoReturn\u001b[0m\u001b[0;34m:\u001b[0m\u001b[0;34m\u001b[0m\u001b[0;34m\u001b[0m\u001b[0m\n\u001b[0;32m-> 1519\u001b[0;31m         raise ValueError(\n\u001b[0m\u001b[1;32m   1520\u001b[0m             \u001b[0;34mf\"The truth value of a {type(self).__name__} is ambiguous. \"\u001b[0m\u001b[0;34m\u001b[0m\u001b[0;34m\u001b[0m\u001b[0m\n\u001b[1;32m   1521\u001b[0m             \u001b[0;34m\"Use a.empty, a.bool(), a.item(), a.any() or a.all().\"\u001b[0m\u001b[0;34m\u001b[0m\u001b[0;34m\u001b[0m\u001b[0m\n\u001b[1;32m   1522\u001b[0m         )\n",
      "\u001b[0;31mValueError\u001b[0m: The truth value of a Series is ambiguous. Use a.empty, a.bool(), a.item(), a.any() or a.all()."
     ]
    }
   ],
   "source": [
    "bbx = acp.parseProt('BareBone.xml')\n",
    "TreatmentSite = 'Head and Neck'\n",
    "acp.modPreview(bbx, ID='ArtificialHN', TreatmentSite=TreatmentSite)\n",
    "acp.modPhaseID(bbx, 'ORL')\n",
    "for pv in pvdf.itertuples():\n",
    "    acp.addStructure(bbx, structureName=pv.Volume)\n",
    "for pv in pvdf.itertuples():\n",
    "    ccVolume = ccdf[ccdf.Volume == pv.Volume]\n",
    "    if ccVolume.Min.str.match(' +') == False:\n",
    "        a=1\n",
    "    if ccVolume.Max.str.match(' +') == False:\n",
    "        a=1\n",
    "    if ccVolume.AtLeast.values[0]:\n",
    "        print(ccVolume.AtLeast)"
   ]
  },
  {
   "cell_type": "code",
   "execution_count": 10,
   "id": "9ae7d290-8ebd-4feb-ac03-262aa210c520",
   "metadata": {},
   "outputs": [
    {
     "name": "stdout",
     "output_type": "stream",
     "text": [
      "Hola\n"
     ]
    }
   ],
   "source": [
    "if ccdf[ccdf.Volume == Volume].Min.values :\n",
    "    print('Hola')\n",
    "else:\n",
    "    print('Adios')"
   ]
  },
  {
   "cell_type": "code",
   "execution_count": 11,
   "id": "ea24a400-e8c2-48e2-a2ab-0337b00d52cc",
   "metadata": {},
   "outputs": [
    {
     "data": {
      "text/plain": [
       "array(['  '], dtype=object)"
      ]
     },
     "execution_count": 11,
     "metadata": {},
     "output_type": "execute_result"
    }
   ],
   "source": [
    "ccdf[ccdf.Volume == Volume].Min.values"
   ]
  },
  {
   "cell_type": "code",
   "execution_count": 13,
   "id": "e139542d-422f-4b8f-bc77-0aeb630dc4e0",
   "metadata": {},
   "outputs": [
    {
     "data": {
      "text/plain": [
       "1    True\n",
       "Name: Min, dtype: bool"
      ]
     },
     "execution_count": 13,
     "metadata": {},
     "output_type": "execute_result"
    }
   ],
   "source": [
    "ccdf[ccdf.Volume == Volume].Min.str.match(' +')"
   ]
  },
  {
   "cell_type": "code",
   "execution_count": 16,
   "id": "bccfa782-232b-4d4f-a648-adb9107428f4",
   "metadata": {},
   "outputs": [
    {
     "name": "stdout",
     "output_type": "stream",
     "text": [
      "2.000\n",
      "1.543\n"
     ]
    }
   ],
   "source": [
    "for pv in pvdf.itertuples():\n",
    "    print(pv.FxDose)"
   ]
  },
  {
   "cell_type": "code",
   "execution_count": null,
   "id": "1af2e12f-61e9-48e4-bd6f-e58f4d279e2d",
   "metadata": {},
   "outputs": [],
   "source": []
  }
 ],
 "metadata": {
  "kernelspec": {
   "display_name": "Python 3 (ipykernel)",
   "language": "python",
   "name": "python3"
  },
  "language_info": {
   "codemirror_mode": {
    "name": "ipython",
    "version": 3
   },
   "file_extension": ".py",
   "mimetype": "text/x-python",
   "name": "python",
   "nbconvert_exporter": "python",
   "pygments_lexer": "ipython3",
   "version": "3.11.0"
  }
 },
 "nbformat": 4,
 "nbformat_minor": 5
}
