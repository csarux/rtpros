{
 "cells": [
  {
   "cell_type": "code",
   "execution_count": 1,
   "id": "d5105eda-8e13-4333-a65a-bc908efe51b4",
   "metadata": {},
   "outputs": [],
   "source": [
    "import pydicom as dcm\n",
    "import xml.etree.ElementTree as ET\n",
    "import pandas as pd\n",
    "from textdistance import ratcliff_obershelp"
   ]
  },
  {
   "cell_type": "code",
   "execution_count": 2,
   "id": "3df29757-4397-45cc-9c4d-af5ff7cd828b",
   "metadata": {},
   "outputs": [
    {
     "data": {
      "text/plain": [
       "['BODY',\n",
       " 'Ao',\n",
       " 'Ambos pulmones',\n",
       " 'Arteria Pulmonar',\n",
       " 'Corazón',\n",
       " 'Esófago',\n",
       " 'GTVp MIP',\n",
       " 'GTVt',\n",
       " 'Hígado',\n",
       " 'ITVt',\n",
       " 'Médula',\n",
       " 'MTV',\n",
       " 'Pared costal',\n",
       " 'Piel',\n",
       " 'PTV LSI',\n",
       " 'Pulmón dcho',\n",
       " 'Pulmón izqdo',\n",
       " 'Pulmones-GTVt',\n",
       " 'Pulmones-PTV',\n",
       " 'Tiroides',\n",
       " 'Tráquea',\n",
       " 'V_Pulmonary',\n",
       " 'Vena cava sup',\n",
       " 'via aerea',\n",
       " 'CouchSurface',\n",
       " 'CouchInterior']"
      ]
     },
     "execution_count": 2,
     "metadata": {},
     "output_type": "execute_result"
    }
   ],
   "source": [
    "dcmds = dcm.read_file('RS.1.2.246.352.221.550136246713487469715724200262812558270.dcm')\n",
    "strsetsq = dcmds.StructureSetROISequence\n",
    "contstrnames = [structure.ROIName for structure in strsetsq]\n",
    "contstrnames"
   ]
  },
  {
   "cell_type": "code",
   "execution_count": 3,
   "id": "c0731716-c8a0-4232-bae8-0bbbf2c8f2a8",
   "metadata": {},
   "outputs": [],
   "source": [
    "for strname in contstrnames:\n",
    "    if len(strname) > 16:\n",
    "        print(strname)"
   ]
  },
  {
   "cell_type": "code",
   "execution_count": 4,
   "id": "6495cff2-38ce-4bd7-8c0d-e4114e99d248",
   "metadata": {},
   "outputs": [
    {
     "data": {
      "text/plain": [
       "['PTV LSI',\n",
       " 'suma pulmones',\n",
       " 'medula',\n",
       " 'plexo braquial',\n",
       " 'via aerea',\n",
       " 'traquea',\n",
       " 'esofago',\n",
       " 'corazon',\n",
       " 'aorta',\n",
       " 'v cava inferior',\n",
       " 'v cava superior',\n",
       " 'arteria pulmonar',\n",
       " 'venas pulmonares',\n",
       " 'piel',\n",
       " 'pared costal',\n",
       " 'higado',\n",
       " 'plexo braquial']"
      ]
     },
     "execution_count": 4,
     "metadata": {},
     "output_type": "execute_result"
    }
   ],
   "source": [
    "tree = ET.parse('../protocolos/clinicos/ClinicalProtocol.xml')\n",
    "root = tree.getroot()\n",
    "structures = root.find('StructureTemplate').find('Structures')\n",
    "protstrnames = [structure.get('ID') for structure in structures.findall('Structure')]\n",
    "protstrnames"
   ]
  },
  {
   "cell_type": "code",
   "execution_count": 30,
   "id": "9aa2bbf1-8736-423d-93a6-1437b972f733",
   "metadata": {},
   "outputs": [
    {
     "data": {
      "text/plain": [
       "{'BODY': 0.0,\n",
       " 'Ao': 0.0,\n",
       " 'Arteria Pulmonar': 0.3125,\n",
       " 'Aurícula dcha': 0.8275862068965517,\n",
       " 'Aurícula izqda': 0.6666666666666666,\n",
       " 'Corazón': 0.08695652173913043,\n",
       " 'CTV boost izqdo': 0.12903225806451613,\n",
       " 'CTV mama izqda': 0.3333333333333333,\n",
       " 'Esófago': 0.08695652173913043,\n",
       " 'Mama dcha': 0.56,\n",
       " 'Médula': 0.2727272727272727,\n",
       " 'PRV DA': 0.09090909090909091,\n",
       " 'PTV boost izqdo': 0.12903225806451613,\n",
       " 'PTV mama izqda': 0.3333333333333333,\n",
       " 'Pulmón dcho': 0.4444444444444444,\n",
       " 'Pulmón izqdo': 0.2857142857142857,\n",
       " 'Tiroides': 0.25,\n",
       " 'Vena cava inf': 0.27586206896551724,\n",
       " 'Vena cava sup': 0.27586206896551724,\n",
       " 'Ventrículo dcho': 0.5806451612903226,\n",
       " 'Ventrículo izqdo': 0.4375}"
      ]
     },
     "execution_count": 30,
     "metadata": {},
     "output_type": "execute_result"
    }
   ],
   "source": [
    "{strname: ratcliff_obershelp('aurícula derecha', strname) for strname in strnames}"
   ]
  },
  {
   "cell_type": "code",
   "execution_count": 11,
   "id": "f23df8fd-166e-4f89-b907-c8046f0ed2ec",
   "metadata": {},
   "outputs": [],
   "source": [
    "infstrdf = pd.DataFrame([{strname: ratcliff_obershelp(protstrname, strname) \n",
    "                          for strname in contstrnames} \n",
    "                        for protstrname in protstrnames], index=protstrnames)"
   ]
  },
  {
   "cell_type": "code",
   "execution_count": 15,
   "id": "6ba3fb94-e335-423d-871a-ed1314ed6f79",
   "metadata": {},
   "outputs": [],
   "source": [
    "infstrdf['Suggestion'] = infstrdf.idxmax(axis=1)"
   ]
  },
  {
   "cell_type": "code",
   "execution_count": 18,
   "id": "61f1ea0a-b381-4f9a-93b4-84a8d341ba37",
   "metadata": {},
   "outputs": [
    {
     "data": {
      "text/plain": [
       "PTV LSI                      PTV LSI\n",
       "suma pulmones         Ambos pulmones\n",
       "medula                        Médula\n",
       "plexo braquial               Tráquea\n",
       "via aerea                  via aerea\n",
       "traquea                      Tráquea\n",
       "esofago                      Esófago\n",
       "corazon                      Corazón\n",
       "aorta                        Corazón\n",
       "v cava inferior        CouchInterior\n",
       "v cava superior        Vena cava sup\n",
       "arteria pulmonar    Arteria Pulmonar\n",
       "venas pulmonares      Ambos pulmones\n",
       "piel                            Piel\n",
       "pared costal            Pared costal\n",
       "higado                        Hígado\n",
       "plexo braquial               Tráquea\n",
       "Name: Suggestion, dtype: object"
      ]
     },
     "execution_count": 18,
     "metadata": {},
     "output_type": "execute_result"
    }
   ],
   "source": [
    "infstrdf['Suggestion']"
   ]
  },
  {
   "cell_type": "code",
   "execution_count": null,
   "id": "194911b0-5c54-4f3c-9bb9-92a56d913c12",
   "metadata": {},
   "outputs": [],
   "source": []
  }
 ],
 "metadata": {
  "kernelspec": {
   "display_name": "Python 3 (ipykernel)",
   "language": "python",
   "name": "python3"
  },
  "language_info": {
   "codemirror_mode": {
    "name": "ipython",
    "version": 3
   },
   "file_extension": ".py",
   "mimetype": "text/x-python",
   "name": "python",
   "nbconvert_exporter": "python",
   "pygments_lexer": "ipython3",
   "version": "3.11.6"
  }
 },
 "nbformat": 4,
 "nbformat_minor": 5
}
