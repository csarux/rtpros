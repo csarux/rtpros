{
 "cells": [
  {
   "cell_type": "code",
   "execution_count": 3,
   "id": "d5105eda-8e13-4333-a65a-bc908efe51b4",
   "metadata": {},
   "outputs": [],
   "source": [
    "import pydicom as dcm"
   ]
  },
  {
   "cell_type": "code",
   "execution_count": 8,
   "id": "3df29757-4397-45cc-9c4d-af5ff7cd828b",
   "metadata": {},
   "outputs": [],
   "source": [
    "dcmds = dcm.read_file('RS.1.2.246.352.205.4955711944111358107.16273022557623532164.dcm')\n",
    "strsetsq = dcmds.StructureSetROISequence"
   ]
  },
  {
   "cell_type": "code",
   "execution_count": 15,
   "id": "3423b1a9-ed66-4efd-8269-bde98e3ec6b4",
   "metadata": {},
   "outputs": [],
   "source": [
    "strnames = [structure.ROIName for structure in strsetsq]"
   ]
  },
  {
   "cell_type": "code",
   "execution_count": 19,
   "id": "c0731716-c8a0-4232-bae8-0bbbf2c8f2a8",
   "metadata": {},
   "outputs": [],
   "source": [
    "for strname in strnames:\n",
    "    if len(strname) > 16:\n",
    "        print(strname)"
   ]
  },
  {
   "cell_type": "code",
   "execution_count": 20,
   "id": "1e772018-ce29-4ebd-9238-d4fa820b4f45",
   "metadata": {},
   "outputs": [
    {
     "data": {
      "text/plain": [
       "['BODY',\n",
       " 'Ao',\n",
       " 'Arteria Pulmonar',\n",
       " 'Aurícula dcha',\n",
       " 'Aurícula izqda',\n",
       " 'Corazón',\n",
       " 'CTV boost izqdo',\n",
       " 'CTV mama izqda',\n",
       " 'Esófago',\n",
       " 'Mama dcha',\n",
       " 'Médula',\n",
       " 'PRV DA',\n",
       " 'PTV boost izqdo',\n",
       " 'PTV mama izqda',\n",
       " 'Pulmón dcho',\n",
       " 'Pulmón izqdo',\n",
       " 'Tiroides',\n",
       " 'Vena cava inf',\n",
       " 'Vena cava sup',\n",
       " 'Ventrículo dcho',\n",
       " 'Ventrículo izqdo']"
      ]
     },
     "execution_count": 20,
     "metadata": {},
     "output_type": "execute_result"
    }
   ],
   "source": [
    "strnames"
   ]
  },
  {
   "cell_type": "code",
   "execution_count": 21,
   "id": "3b9e8ab5-83e9-44d9-beb7-65db8707d0d1",
   "metadata": {},
   "outputs": [],
   "source": [
    "from textdistance import ratcliff_obershelp"
   ]
  },
  {
   "cell_type": "code",
   "execution_count": 30,
   "id": "9aa2bbf1-8736-423d-93a6-1437b972f733",
   "metadata": {},
   "outputs": [
    {
     "data": {
      "text/plain": [
       "{'BODY': 0.0,\n",
       " 'Ao': 0.0,\n",
       " 'Arteria Pulmonar': 0.3125,\n",
       " 'Aurícula dcha': 0.8275862068965517,\n",
       " 'Aurícula izqda': 0.6666666666666666,\n",
       " 'Corazón': 0.08695652173913043,\n",
       " 'CTV boost izqdo': 0.12903225806451613,\n",
       " 'CTV mama izqda': 0.3333333333333333,\n",
       " 'Esófago': 0.08695652173913043,\n",
       " 'Mama dcha': 0.56,\n",
       " 'Médula': 0.2727272727272727,\n",
       " 'PRV DA': 0.09090909090909091,\n",
       " 'PTV boost izqdo': 0.12903225806451613,\n",
       " 'PTV mama izqda': 0.3333333333333333,\n",
       " 'Pulmón dcho': 0.4444444444444444,\n",
       " 'Pulmón izqdo': 0.2857142857142857,\n",
       " 'Tiroides': 0.25,\n",
       " 'Vena cava inf': 0.27586206896551724,\n",
       " 'Vena cava sup': 0.27586206896551724,\n",
       " 'Ventrículo dcho': 0.5806451612903226,\n",
       " 'Ventrículo izqdo': 0.4375}"
      ]
     },
     "execution_count": 30,
     "metadata": {},
     "output_type": "execute_result"
    }
   ],
   "source": [
    "{strname: ratcliff_obershelp('aurícula derecha', strname) for strname in strnames}"
   ]
  },
  {
   "cell_type": "code",
   "execution_count": null,
   "id": "bdecdc3c-8342-41b7-9c85-a9b7604a026f",
   "metadata": {},
   "outputs": [],
   "source": []
  }
 ],
 "metadata": {
  "kernelspec": {
   "display_name": "Python 3 (ipykernel)",
   "language": "python",
   "name": "python3"
  },
  "language_info": {
   "codemirror_mode": {
    "name": "ipython",
    "version": 3
   },
   "file_extension": ".py",
   "mimetype": "text/x-python",
   "name": "python",
   "nbconvert_exporter": "python",
   "pygments_lexer": "ipython3",
   "version": "3.11.6"
  }
 },
 "nbformat": 4,
 "nbformat_minor": 5
}
