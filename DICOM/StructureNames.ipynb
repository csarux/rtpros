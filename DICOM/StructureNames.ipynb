{
 "cells": [
  {
   "cell_type": "markdown",
   "id": "32bae2a7-b390-46b2-9ec6-78d80e3cad4c",
   "metadata": {},
   "source": [
    "# Corrección de nombres de las estructuras\n",
    "--------"
   ]
  },
  {
   "cell_type": "code",
   "execution_count": 1,
   "id": "d5105eda-8e13-4333-a65a-bc908efe51b4",
   "metadata": {},
   "outputs": [],
   "source": [
    "import pydicom as dcm\n",
    "import xml.etree.ElementTree as ET\n",
    "import pandas as pd\n",
    "from textdistance import ratcliff_obershelp"
   ]
  },
  {
   "cell_type": "markdown",
   "id": "085b1df7-f26c-4078-bb67-b844201335ce",
   "metadata": {},
   "source": [
    "Las estructuras son creadas por el programa de segmentación del CT, por los Técnicos de simulación o por las Oncólogas de Radioterapia.\n",
    "\n",
    "Existen plantillas de contorneo pero técnicos y oncólogas son libres de introducir nuuevos nombres o cambiar los existentes.\n",
    "\n",
    "Extraer los nombres de las estructuras del archivo DICOM exportado de ARIA. Almacenar el resultado en la lista `contstrnames`"
   ]
  },
  {
   "cell_type": "code",
   "execution_count": 2,
   "id": "3df29757-4397-45cc-9c4d-af5ff7cd828b",
   "metadata": {},
   "outputs": [],
   "source": [
    "dcmds = dcm.read_file('RS.1.2.246.352.221.550136246713487469715724200262812558270.dcm')\n",
    "strsetsq = dcmds.StructureSetROISequence\n",
    "contstrnames = [structure.ROIName for structure in strsetsq]"
   ]
  },
  {
   "cell_type": "markdown",
   "id": "93d5f649-dcd8-49d4-8da8-88119c4fa2b2",
   "metadata": {},
   "source": [
    "Comprobar que la longitud del nombre de las estructuras es menor de 16 caracteres. Esta una condición requerida por ARIA que utiliza el nombre como identificador de la estructura en el protocolo clínico."
   ]
  },
  {
   "cell_type": "code",
   "execution_count": 3,
   "id": "c0731716-c8a0-4232-bae8-0bbbf2c8f2a8",
   "metadata": {},
   "outputs": [],
   "source": [
    "for strname in contstrnames:\n",
    "    if len(strname) > 16:\n",
    "        print(strname)"
   ]
  },
  {
   "cell_type": "markdown",
   "id": "fec85537-3310-40c0-b0b0-26a5098e3832",
   "metadata": {},
   "source": [
    "Extraer los nombres de las estructuras según aparecen en la prescripción.\n",
    "\n",
    "Hacerlo mediante el procesado del protocolo clínico creado a partir de la prescripción"
   ]
  },
  {
   "cell_type": "code",
   "execution_count": 4,
   "id": "6495cff2-38ce-4bd7-8c0d-e4114e99d248",
   "metadata": {},
   "outputs": [],
   "source": [
    "tree = ET.parse('../protocolos/clinicos/ClinicalProtocol.xml')\n",
    "root = tree.getroot()\n",
    "structures = root.find('StructureTemplate').find('Structures')\n",
    "protstrnames = [structure.get('ID') for structure in structures.findall('Structure')]"
   ]
  },
  {
   "cell_type": "markdown",
   "id": "5e8e3b23-5dc1-406f-ab5a-1b3a071f5d2b",
   "metadata": {},
   "source": [
    "Hacer el producto cartesiano de distancias entre ambos conjuntos de estructuras. Almacenar el resultado en un DataFrame"
   ]
  },
  {
   "cell_type": "code",
   "execution_count": 5,
   "id": "f23df8fd-166e-4f89-b907-c8046f0ed2ec",
   "metadata": {},
   "outputs": [],
   "source": [
    "infstrdf = pd.DataFrame([{strname: ratcliff_obershelp(protstrname, strname) \n",
    "                          for strname in contstrnames} \n",
    "                        for protstrname in protstrnames], index=protstrnames)"
   ]
  },
  {
   "cell_type": "markdown",
   "id": "ceae22b1-189c-4789-9fd2-cca90693d4df",
   "metadata": {},
   "source": [
    "Añadir una columna con el nombre de la estructura con la mayor similitud"
   ]
  },
  {
   "cell_type": "code",
   "execution_count": 6,
   "id": "6ba3fb94-e335-423d-871a-ed1314ed6f79",
   "metadata": {},
   "outputs": [
    {
     "data": {
      "text/plain": [
       "PTV LSI                      PTV LSI\n",
       "Ambos pulmones        Ambos pulmones\n",
       "Médula                        Médula\n",
       "via aerea                  via aerea\n",
       "Tráquea                      Tráquea\n",
       "Esófago                      Esófago\n",
       "Corazón                      Corazón\n",
       "aorta                        Corazón\n",
       "v cava inferior        CouchInterior\n",
       "Vena cava sup          Vena cava sup\n",
       "Arteria Pulmonar    Arteria Pulmonar\n",
       "venas pulmonares      Ambos pulmones\n",
       "Piel                            Piel\n",
       "Pared costal            Pared costal\n",
       "Hígado                        Hígado\n",
       "plexo braquial               Tráquea\n",
       "Name: Suggestion, dtype: object"
      ]
     },
     "execution_count": 6,
     "metadata": {},
     "output_type": "execute_result"
    }
   ],
   "source": [
    "infstrdf['Suggestion'] = infstrdf.idxmax(axis=1)\n",
    "infstrdf['Suggestion']"
   ]
  },
  {
   "cell_type": "code",
   "execution_count": null,
   "id": "194911b0-5c54-4f3c-9bb9-92a56d913c12",
   "metadata": {},
   "outputs": [],
   "source": []
  }
 ],
 "metadata": {
  "kernelspec": {
   "display_name": "Python 3 (ipykernel)",
   "language": "python",
   "name": "python3"
  },
  "language_info": {
   "codemirror_mode": {
    "name": "ipython",
    "version": 3
   },
   "file_extension": ".py",
   "mimetype": "text/x-python",
   "name": "python",
   "nbconvert_exporter": "python",
   "pygments_lexer": "ipython3",
   "version": "3.11.6"
  }
 },
 "nbformat": 4,
 "nbformat_minor": 5
}
