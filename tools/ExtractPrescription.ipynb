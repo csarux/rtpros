{
 "cells": [
  {
   "cell_type": "markdown",
   "id": "913c377c-20f3-480b-ad05-9b7e404befeb",
   "metadata": {},
   "source": [
    "### Protocolos Clínicos de ARIA\n",
    "# Procesamiento de prescripciones\n",
    "------\n",
    "**Objeto**: Extraer los datos de las prescripciones de pacientes para generar protocolos clínicos\n",
    "\n",
    "Importación de módulos"
   ]
  },
  {
   "cell_type": "code",
   "execution_count": 1,
   "id": "4158ad78-c305-4f37-82cb-923041f3e5e9",
   "metadata": {
    "tags": []
   },
   "outputs": [],
   "source": [
    "import pandas as pd\n",
    "import io\n",
    "import re"
   ]
  },
  {
   "cell_type": "markdown",
   "id": "3eb299ec-4185-4ae3-b3ce-2884da6f525d",
   "metadata": {},
   "source": [
    "Cambiar el directorio de trabajo, asumimos que el cuaderno está en el directorio `tools` dentro de la carpeta del proyecto"
   ]
  },
  {
   "cell_type": "code",
   "execution_count": 2,
   "id": "b44a2c4c-3096-4488-bec1-083340d9c627",
   "metadata": {
    "tags": []
   },
   "outputs": [
    {
     "name": "stdout",
     "output_type": "stream",
     "text": [
      "/Users/cesar/Documents/Development/rtpros\n"
     ]
    },
    {
     "name": "stderr",
     "output_type": "stream",
     "text": [
      "/Users/cesar/Documents/Development/rtps/lib/python3.11/site-packages/IPython/core/magics/osm.py:417: UserWarning: using dhist requires you to install the `pickleshare` library.\n",
      "  self.shell.db['dhist'] = compress_dhist(dhist)[-100:]\n"
     ]
    }
   ],
   "source": [
    "%cd .."
   ]
  },
  {
   "cell_type": "markdown",
   "id": "f0652383-66dc-4a7f-ac2d-624177ef4650",
   "metadata": {},
   "source": [
    "Leer los datos de una prescripción exportada de ARIA en un DataFrame de Pandas"
   ]
  },
  {
   "cell_type": "code",
   "execution_count": 4,
   "id": "e65965c3-e09b-4f5a-8ec6-f297ec338a3b",
   "metadata": {
    "tags": []
   },
   "outputs": [],
   "source": [
    "prdf = pd.read_csv('prescripciones/orl_radical.csv')"
   ]
  },
  {
   "cell_type": "markdown",
   "id": "44229da0-785e-43d3-a4fb-08b124e70920",
   "metadata": {},
   "source": [
    "## Órganos de riesgo\n",
    "Los campos relativos a los órganos de riesgo están contenidos en el campo `OrganAtRisk`\n",
    "\n",
    "Los separamos por líneas. La información contenida en cada línea no sigue un patrón regular"
   ]
  },
  {
   "cell_type": "code",
   "execution_count": 5,
   "id": "2f90b918-7093-4a9f-ad31-354095975e28",
   "metadata": {
    "tags": []
   },
   "outputs": [],
   "source": [
    "oar_lines = prdf.OrgansAtRisk.values[0].split('\\n')"
   ]
  },
  {
   "cell_type": "markdown",
   "id": "76f05c60-73cb-4c0c-8d79-bdf1d3168e3a",
   "metadata": {},
   "source": [
    "Definir un diccionario de expresión regulares para identificar la línea que encabeza la información de un órgano concreto y filtrar el nombre del órgano, la dosis media y la dosis máxima"
   ]
  },
  {
   "cell_type": "code",
   "execution_count": 6,
   "id": "5f0d342a-5a6d-40e4-9fd6-74963d3d0652",
   "metadata": {
    "tags": []
   },
   "outputs": [],
   "source": [
    "rx_dict = {\n",
    "    'Organ': re.compile(r'Organ :(?P<Organ>.*) Mean'),\n",
    "    'Dmean': re.compile(r'Mean :(?P<Dmean>.*) Max Dose'),\n",
    "    'Dmax' : re.compile(r'Max Dose :(?P<Dmax>.*)$'),\n",
    "}"
   ]
  },
  {
   "cell_type": "markdown",
   "id": "240fef42-1369-48f4-b257-0f1995aa8683",
   "metadata": {},
   "source": [
    "Definir una función que identifica el encabezado de cada órgano"
   ]
  },
  {
   "cell_type": "code",
   "execution_count": 7,
   "id": "6dabd2d4-2159-4283-b578-b82f5794a7f8",
   "metadata": {
    "tags": []
   },
   "outputs": [],
   "source": [
    "def _parse_line(line):\n",
    "    \"\"\"\n",
    "    Do a regex search against all defined regexes and\n",
    "    return the key and match result of the first matching regex\n",
    "\n",
    "    \"\"\"\n",
    "\n",
    "    for key, rx in rx_dict.items():\n",
    "        match = rx.search(line)\n",
    "        if match:\n",
    "            return key, match\n",
    "    # if there are no matches\n",
    "    return None, None"
   ]
  },
  {
   "cell_type": "markdown",
   "id": "a6d8dc68-7bd5-47dd-88da-cc3fa2fa1935",
   "metadata": {},
   "source": [
    "Definir una función que procesando la línea de encabezado de un órgano genera un diccionario con el nombre del órgano, y los objetivos de dosis media y dosis máxima"
   ]
  },
  {
   "cell_type": "code",
   "execution_count": 8,
   "id": "dc9550f2-ea13-45a3-9c29-14a3d0e1c3f3",
   "metadata": {
    "tags": []
   },
   "outputs": [],
   "source": [
    "def _parse_organ(line):\n",
    "    \"\"\"\n",
    "    Do a regex search against all defined regexes and\n",
    "    return a dictionary the key and match result\n",
    "\n",
    "    \"\"\"\n",
    "\n",
    "    matches = {}\n",
    "    for key, rx in rx_dict.items():\n",
    "        match = rx.search(line)\n",
    "        if match:\n",
    "            matches[key] = match.group(key)\n",
    "        \n",
    "    return matches"
   ]
  },
  {
   "cell_type": "markdown",
   "id": "cda03709-fe38-4bc6-8ad1-0bba0fea6336",
   "metadata": {},
   "source": [
    "Procesar los órganos de riesgo generando una lista de sublistas.\n",
    "\n",
    "Cada sublista commienza con la línea de encabezado de cada órgano. A continuación contiene una línea irrelevante con la indicación 'Constrains:' y depués una línea con cada restricción dosimétrica"
   ]
  },
  {
   "cell_type": "code",
   "execution_count": 9,
   "id": "cd4a49a6-833b-49c3-b7df-423bbe1685d7",
   "metadata": {
    "tags": []
   },
   "outputs": [
    {
     "data": {
      "text/plain": [
       "[['Organ :parótida derecha Mean : 26 Gy Max Dose : ',\n",
       "  'Constraints : ',\n",
       "  'V30$50 %'],\n",
       " ['Organ :parótida izda Mean : 26 Gy Max Dose : ',\n",
       "  'Constraints : ',\n",
       "  'V30$50 %'],\n",
       " ['Organ :médula Mean :  Max Dose : 45 Gy', 'Constraints : ', ''],\n",
       " ['Organ :tronco cerebral Mean :  Max Dose : ',\n",
       "  'Constraints : ',\n",
       "  'D53$100%',\n",
       "  'V60$30%'],\n",
       " ['Organ :cristalino derecho Mean :  Max Dose : 8 Gy', 'Constraints : ', ''],\n",
       " ['Organ :cristalino izquierdo Mean :  Max Dose : 8 Gy', 'Constraints : ', ''],\n",
       " ['Organ :oido interno derecho Mean :  Max Dose : 50 Gy',\n",
       "  'Constraints : ',\n",
       "  ''],\n",
       " ['Organ :oido interno izquierdo Mean :  Max Dose : 50 Gy',\n",
       "  'Constraints : ',\n",
       "  ''],\n",
       " ['Organ :laringe Mean :  Max Dose : 70 Gy', 'Constraints : ', ''],\n",
       " ['Organ :mandíbula Mean :  Max Dose : 70 Gy', 'Constraints : ', ''],\n",
       " ['Organ :tiroides Mean :  Max Dose : 45 Gy', 'Constraints : ', ''],\n",
       " ['Organ :quiasma óptico Mean :  Max Dose : 50 Gy', 'Constraints : ', ''],\n",
       " ['Organ :n óptico derecho Mean :  Max Dose : 50 Gy', 'Constraints : ', ''],\n",
       " ['Organ :n óptico izquierdo Mean :  Max Dose : 50 Gy', 'Constraints : ', ''],\n",
       " ['Organ :cerebro sano Mean :  Max Dose : ', 'Constraints : ', 'V60$30%'],\n",
       " ['Organ :Esofago Mean :  Max Dose : 55 Gy', 'Constraints : ', '']]"
      ]
     },
     "execution_count": 9,
     "metadata": {},
     "output_type": "execute_result"
    }
   ],
   "source": [
    "oars, oar = [], None\n",
    "for oar_line in oar_lines:\n",
    "    oar_key, oar_name = _parse_line(oar_line)\n",
    "    if oar_key:\n",
    "        oars.append(oar)\n",
    "        oar = [oar_line]\n",
    "    else:\n",
    "        oar.append(oar_line)\n",
    "oars.remove(None)\n",
    "oars"
   ]
  },
  {
   "cell_type": "code",
   "execution_count": 10,
   "id": "958f31b1-ade3-48a6-8e3a-8afab2de9d7a",
   "metadata": {
    "tags": []
   },
   "outputs": [
    {
     "data": {
      "text/html": [
       "<div>\n",
       "<style scoped>\n",
       "    .dataframe tbody tr th:only-of-type {\n",
       "        vertical-align: middle;\n",
       "    }\n",
       "\n",
       "    .dataframe tbody tr th {\n",
       "        vertical-align: top;\n",
       "    }\n",
       "\n",
       "    .dataframe thead th {\n",
       "        text-align: right;\n",
       "    }\n",
       "</style>\n",
       "<table border=\"1\" class=\"dataframe\">\n",
       "  <thead>\n",
       "    <tr style=\"text-align: right;\">\n",
       "      <th></th>\n",
       "      <th>Organ</th>\n",
       "      <th>Dmean</th>\n",
       "      <th>Dmax</th>\n",
       "      <th>DosimPars</th>\n",
       "    </tr>\n",
       "  </thead>\n",
       "  <tbody>\n",
       "    <tr>\n",
       "      <th>0</th>\n",
       "      <td>parótida derecha</td>\n",
       "      <td>26 Gy</td>\n",
       "      <td></td>\n",
       "      <td>[V30$50 %]</td>\n",
       "    </tr>\n",
       "    <tr>\n",
       "      <th>1</th>\n",
       "      <td>parótida izda</td>\n",
       "      <td>26 Gy</td>\n",
       "      <td></td>\n",
       "      <td>[V30$50 %]</td>\n",
       "    </tr>\n",
       "    <tr>\n",
       "      <th>2</th>\n",
       "      <td>médula</td>\n",
       "      <td></td>\n",
       "      <td>45 Gy</td>\n",
       "      <td>[]</td>\n",
       "    </tr>\n",
       "    <tr>\n",
       "      <th>3</th>\n",
       "      <td>tronco cerebral</td>\n",
       "      <td></td>\n",
       "      <td></td>\n",
       "      <td>[D53$100%, V60$30%]</td>\n",
       "    </tr>\n",
       "    <tr>\n",
       "      <th>4</th>\n",
       "      <td>cristalino derecho</td>\n",
       "      <td></td>\n",
       "      <td>8 Gy</td>\n",
       "      <td>[]</td>\n",
       "    </tr>\n",
       "    <tr>\n",
       "      <th>5</th>\n",
       "      <td>cristalino izquierdo</td>\n",
       "      <td></td>\n",
       "      <td>8 Gy</td>\n",
       "      <td>[]</td>\n",
       "    </tr>\n",
       "    <tr>\n",
       "      <th>6</th>\n",
       "      <td>oido interno derecho</td>\n",
       "      <td></td>\n",
       "      <td>50 Gy</td>\n",
       "      <td>[]</td>\n",
       "    </tr>\n",
       "    <tr>\n",
       "      <th>7</th>\n",
       "      <td>oido interno izquierdo</td>\n",
       "      <td></td>\n",
       "      <td>50 Gy</td>\n",
       "      <td>[]</td>\n",
       "    </tr>\n",
       "    <tr>\n",
       "      <th>8</th>\n",
       "      <td>laringe</td>\n",
       "      <td></td>\n",
       "      <td>70 Gy</td>\n",
       "      <td>[]</td>\n",
       "    </tr>\n",
       "    <tr>\n",
       "      <th>9</th>\n",
       "      <td>mandíbula</td>\n",
       "      <td></td>\n",
       "      <td>70 Gy</td>\n",
       "      <td>[]</td>\n",
       "    </tr>\n",
       "    <tr>\n",
       "      <th>10</th>\n",
       "      <td>tiroides</td>\n",
       "      <td></td>\n",
       "      <td>45 Gy</td>\n",
       "      <td>[]</td>\n",
       "    </tr>\n",
       "    <tr>\n",
       "      <th>11</th>\n",
       "      <td>quiasma óptico</td>\n",
       "      <td></td>\n",
       "      <td>50 Gy</td>\n",
       "      <td>[]</td>\n",
       "    </tr>\n",
       "    <tr>\n",
       "      <th>12</th>\n",
       "      <td>n óptico derecho</td>\n",
       "      <td></td>\n",
       "      <td>50 Gy</td>\n",
       "      <td>[]</td>\n",
       "    </tr>\n",
       "    <tr>\n",
       "      <th>13</th>\n",
       "      <td>n óptico izquierdo</td>\n",
       "      <td></td>\n",
       "      <td>50 Gy</td>\n",
       "      <td>[]</td>\n",
       "    </tr>\n",
       "    <tr>\n",
       "      <th>14</th>\n",
       "      <td>cerebro sano</td>\n",
       "      <td></td>\n",
       "      <td></td>\n",
       "      <td>[V60$30%]</td>\n",
       "    </tr>\n",
       "    <tr>\n",
       "      <th>15</th>\n",
       "      <td>Esofago</td>\n",
       "      <td></td>\n",
       "      <td>55 Gy</td>\n",
       "      <td>[]</td>\n",
       "    </tr>\n",
       "  </tbody>\n",
       "</table>\n",
       "</div>"
      ],
      "text/plain": [
       "                     Organ   Dmean    Dmax            DosimPars\n",
       "0         parótida derecha   26 Gy                   [V30$50 %]\n",
       "1            parótida izda   26 Gy                   [V30$50 %]\n",
       "2                   médula           45 Gy                   []\n",
       "3          tronco cerebral                  [D53$100%, V60$30%]\n",
       "4       cristalino derecho            8 Gy                   []\n",
       "5     cristalino izquierdo            8 Gy                   []\n",
       "6     oido interno derecho           50 Gy                   []\n",
       "7   oido interno izquierdo           50 Gy                   []\n",
       "8                  laringe           70 Gy                   []\n",
       "9                mandíbula           70 Gy                   []\n",
       "10                tiroides           45 Gy                   []\n",
       "11          quiasma óptico           50 Gy                   []\n",
       "12        n óptico derecho           50 Gy                   []\n",
       "13      n óptico izquierdo           50 Gy                   []\n",
       "14            cerebro sano                            [V60$30%]\n",
       "15                 Esofago           55 Gy                   []"
      ]
     },
     "execution_count": 10,
     "metadata": {},
     "output_type": "execute_result"
    }
   ],
   "source": [
    "oars_list = []\n",
    "for oar in oars:\n",
    "    oar_dict = _parse_organ(oar[0])\n",
    "    oar_dict['DosimPars'] = oar[2:]\n",
    "    oars_list.append(oar_dict)\n",
    "oardf = pd.DataFrame(oars_list)\n",
    "oardf"
   ]
  },
  {
   "cell_type": "code",
   "execution_count": 11,
   "id": "1cde06d4-a478-47e7-8d8d-df307eb9f16f",
   "metadata": {
    "tags": []
   },
   "outputs": [
    {
     "name": "stdout",
     "output_type": "stream",
     "text": [
      "D53$100%\n",
      "V60$30%\n"
     ]
    }
   ],
   "source": [
    "for dpar in oardf[oardf.Organ == 'tronco cerebral'].DosimPars.values[0]:\n",
    "    print(dpar)"
   ]
  },
  {
   "cell_type": "markdown",
   "id": "b0e06642-afdf-4212-ac46-83f5ef043f4f",
   "metadata": {},
   "source": [
    "## Especificaciones de cobertura\n",
    "Los campos relativos a las especificaciens de cobertura están contenidos en el campo `CoverageConstriants`\n",
    "\n",
    "Toda la información se guarda en una única cadena. Cada campo está separado por '|'.\n",
    "\n",
    "Separamos los campos por líneas. La información contenida en cada línea sigue un patrón regular:\n",
    "* Nombre del volumen tras el texto *Volume / Structure :*\n",
    "* Valor de la dosis mínima en Gy tras el texto *Min Dose:*\n",
    "* Valor de la dosis máxima en Gy tras el texto *Max Dose:*\n",
    "* Restricción de cobertura mínima tras el texto *At Least* en porcentaje de volumen para un porcentaje de dosis y una dosis absoluta\n",
    "* Restricción sobre los máximos de dosis tras el texto *NoMore* en porcentaje de volumen para un porcentaje de dosis y una dosis absoluta"
   ]
  },
  {
   "cell_type": "code",
   "execution_count": 20,
   "id": "ee90c579-4626-4689-b0b1-1108b22d7fd2",
   "metadata": {},
   "outputs": [],
   "source": [
    "cc_lines = prdf.CoverageConstraints.values[0].split('|')"
   ]
  },
  {
   "cell_type": "code",
   "execution_count": 21,
   "id": "33605cab-98a9-4496-858d-fa40176f0ac6",
   "metadata": {},
   "outputs": [
    {
     "name": "stdout",
     "output_type": "stream",
     "text": [
      " Volume / Structure :PTV70 Min Dose:   Gy Max Dose:   Gy At Least 95 % of PTV70 at 95 % 55.195 Gy No More Than 5 % of PTV70 at 107 % 62.167 Gy\n",
      " Volume / Structure :PTV58.1 Min Dose:   Gy Max Dose:   Gy At Least 95 % of PTV58.1 at 95 % 66.5 Gy No More Than 5 % of PTV58.1 at 107 % 74.9 Gy\n"
     ]
    }
   ],
   "source": [
    "for cc_line in cc_lines:\n",
    "    print(cc_line)"
   ]
  },
  {
   "cell_type": "markdown",
   "id": "d0831267-814f-4a36-8bf0-da641d790d81",
   "metadata": {},
   "source": [
    "Definir un diccionario de expresiones regulares para analizar cada línea de especificación de restricciones y filtrar el nombre del volumen, la dosis mínima , la dosis máxima, la cobertura mínima y la restricción sobre el máximo volumen permitido con una dosis dada."
   ]
  },
  {
   "cell_type": "code",
   "execution_count": 41,
   "id": "fe679a10-f55a-45a9-a640-0f8989459743",
   "metadata": {
    "tags": []
   },
   "outputs": [],
   "source": [
    "cc_rx_dict = {\n",
    "    'Volume': re.compile(r'Volume / Structure :(?P<Volume>.*) Min Dose'),\n",
    "    'Min': re.compile(r'Min Dose:(?P<Min>.*) Gy Max'),\n",
    "    'Max': re.compile(r'Max Dose:(?P<Max>.*) Gy At'),\n",
    "    'AtLeast': re.compile(r'At Least (?P<AtLeast>.*) % of (?P<Volume>.*) at (?P<Percentage>.*) % (?P<Dose>.*) Gy No More Than'),\n",
    "    'NoMore': re.compile(r'No More Than (?P<NoMore>.*) % of (?P<Volume>.*) at (?P<Percentage>.*) % (?P<Dose>.*) Gy'),\n",
    "}"
   ]
  },
  {
   "cell_type": "markdown",
   "id": "d2910493-6b05-4b7c-a058-677d9f0f5f23",
   "metadata": {},
   "source": [
    "Definir una función para procesar las líneas de especificaciones de restricciones"
   ]
  },
  {
   "cell_type": "code",
   "execution_count": 45,
   "id": "a086645c-0a1d-4586-b324-84ff74a222d9",
   "metadata": {
    "tags": []
   },
   "outputs": [],
   "source": [
    "def _parse_volume(line):\n",
    "    \"\"\"\n",
    "    Do a regex search against all defined regexes and\n",
    "    return a dictionary the key and match result\n",
    "\n",
    "    \"\"\"\n",
    "\n",
    "    matches = {}\n",
    "    for key, rx in cc_rx_dict.items():\n",
    "        match = rx.search(line)\n",
    "        if match:\n",
    "            if key == 'Volume':\n",
    "                volume = match.group(key)\n",
    "                matches[key] = match.group(key)\n",
    "            elif key == 'AtLeast' and match.group('Volume') == volume:\n",
    "                constraint = [match.group('AtLeast'), match.group('Percentage'), match.group('Dose')]\n",
    "                matches[key] = constraint\n",
    "            elif key == 'NoMore' and match.group('Volume') == volume:\n",
    "                constraint = [match.group('NoMore'), match.group('Percentage'), match.group('Dose')]\n",
    "                matches[key] = constraint\n",
    "            else:\n",
    "                matches[key] = match.group(key)\n",
    "        \n",
    "    return matches"
   ]
  },
  {
   "cell_type": "code",
   "execution_count": 49,
   "id": "475f933c-6d8f-4322-971e-7b7a2cc67930",
   "metadata": {},
   "outputs": [
    {
     "data": {
      "text/html": [
       "<div>\n",
       "<style scoped>\n",
       "    .dataframe tbody tr th:only-of-type {\n",
       "        vertical-align: middle;\n",
       "    }\n",
       "\n",
       "    .dataframe tbody tr th {\n",
       "        vertical-align: top;\n",
       "    }\n",
       "\n",
       "    .dataframe thead th {\n",
       "        text-align: right;\n",
       "    }\n",
       "</style>\n",
       "<table border=\"1\" class=\"dataframe\">\n",
       "  <thead>\n",
       "    <tr style=\"text-align: right;\">\n",
       "      <th></th>\n",
       "      <th>Volume</th>\n",
       "      <th>Min</th>\n",
       "      <th>Max</th>\n",
       "      <th>AtLeast</th>\n",
       "      <th>NoMore</th>\n",
       "    </tr>\n",
       "  </thead>\n",
       "  <tbody>\n",
       "    <tr>\n",
       "      <th>0</th>\n",
       "      <td>PTV70</td>\n",
       "      <td></td>\n",
       "      <td></td>\n",
       "      <td>[95, 95, 55.195]</td>\n",
       "      <td>[5, 107, 62.167]</td>\n",
       "    </tr>\n",
       "    <tr>\n",
       "      <th>1</th>\n",
       "      <td>PTV58.1</td>\n",
       "      <td></td>\n",
       "      <td></td>\n",
       "      <td>[95, 95, 66.5]</td>\n",
       "      <td>[5, 107, 74.9]</td>\n",
       "    </tr>\n",
       "  </tbody>\n",
       "</table>\n",
       "</div>"
      ],
      "text/plain": [
       "    Volume Min Max           AtLeast            NoMore\n",
       "0    PTV70          [95, 95, 55.195]  [5, 107, 62.167]\n",
       "1  PTV58.1            [95, 95, 66.5]    [5, 107, 74.9]"
      ]
     },
     "execution_count": 49,
     "metadata": {},
     "output_type": "execute_result"
    }
   ],
   "source": [
    "pd.DataFrame([_parse_volume(cc_line) for cc_line in cc_lines])"
   ]
  }
 ],
 "metadata": {
  "kernelspec": {
   "display_name": "Python 3 (ipykernel)",
   "language": "python",
   "name": "python3"
  },
  "language_info": {
   "codemirror_mode": {
    "name": "ipython",
    "version": 3
   },
   "file_extension": ".py",
   "mimetype": "text/x-python",
   "name": "python",
   "nbconvert_exporter": "python",
   "pygments_lexer": "ipython3",
   "version": "3.11.6"
  }
 },
 "nbformat": 4,
 "nbformat_minor": 5
}
