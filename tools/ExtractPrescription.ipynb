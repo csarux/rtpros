{
 "cells": [
  {
   "cell_type": "markdown",
   "id": "913c377c-20f3-480b-ad05-9b7e404befeb",
   "metadata": {},
   "source": [
    "# Procesamiento de prescripciones\n",
    "### Protocolos Clínicos de ARIA\n",
    "------\n",
    "**Objetivo**: Extracción de datos de las prescripciones de pacientes para generar protocolos clínicos"
   ]
  },
  {
   "cell_type": "code",
   "execution_count": 1,
   "id": "4158ad78-c305-4f37-82cb-923041f3e5e9",
   "metadata": {
    "tags": []
   },
   "outputs": [],
   "source": [
    "import pandas as pd\n",
    "import io"
   ]
  },
  {
   "cell_type": "markdown",
   "id": "3eb299ec-4185-4ae3-b3ce-2884da6f525d",
   "metadata": {},
   "source": [
    "Cambiar el directorio de trabajo"
   ]
  },
  {
   "cell_type": "code",
   "execution_count": 2,
   "id": "b44a2c4c-3096-4488-bec1-083340d9c627",
   "metadata": {
    "tags": []
   },
   "outputs": [
    {
     "name": "stdout",
     "output_type": "stream",
     "text": [
      "/home/radiofisica/Shares/Radiofisica/csr/rtpros\n"
     ]
    }
   ],
   "source": [
    "%cd '/home/radiofisica/Shares/Radiofisica/csr/rtpros/'"
   ]
  },
  {
   "cell_type": "code",
   "execution_count": 3,
   "id": "e65965c3-e09b-4f5a-8ec6-f297ec338a3b",
   "metadata": {
    "tags": []
   },
   "outputs": [],
   "source": [
    "prdf = pd.read_csv('prescripciones/orl_radical.csv')"
   ]
  },
  {
   "cell_type": "code",
   "execution_count": 10,
   "id": "2f90b918-7093-4a9f-ad31-354095975e28",
   "metadata": {
    "tags": []
   },
   "outputs": [],
   "source": [
    "oar_lines = prdf.OrgansAtRisk.values[0].split('\\n')"
   ]
  },
  {
   "cell_type": "code",
   "execution_count": 12,
   "id": "61312f18-9243-4dc6-80f7-7b43fda8d632",
   "metadata": {},
   "outputs": [
    {
     "name": "stdout",
     "output_type": "stream",
     "text": [
      "Organ :parótida derecha Mean : 26 Gy Max Dose : \n",
      "Constraints : \n",
      "V30$50 %\n",
      "Organ :parótida izda Mean : 26 Gy Max Dose : \n",
      "Constraints : \n",
      "V30$50 %\n",
      "Organ :médula Mean :  Max Dose : 45 Gy\n",
      "Constraints : \n",
      "\n",
      "Organ :tronco cerebral Mean :  Max Dose : \n",
      "Constraints : \n",
      "D53$100%\n",
      "V60$30%\n",
      "Organ :cristalino derecho Mean :  Max Dose : 8 Gy\n",
      "Constraints : \n",
      "\n",
      "Organ :cristalino izquierdo Mean :  Max Dose : 8 Gy\n",
      "Constraints : \n",
      "\n",
      "Organ :oido interno derecho Mean :  Max Dose : 50 Gy\n",
      "Constraints : \n",
      "\n",
      "Organ :oido interno izquierdo Mean :  Max Dose : 50 Gy\n",
      "Constraints : \n",
      "\n",
      "Organ :laringe Mean :  Max Dose : 70 Gy\n",
      "Constraints : \n",
      "\n",
      "Organ :mandíbula Mean :  Max Dose : 70 Gy\n",
      "Constraints : \n",
      "\n",
      "Organ :tiroides Mean :  Max Dose : 45 Gy\n",
      "Constraints : \n",
      "\n",
      "Organ :quiasma óptico Mean :  Max Dose : 50 Gy\n",
      "Constraints : \n",
      "\n",
      "Organ :n óptico derecho Mean :  Max Dose : 50 Gy\n",
      "Constraints : \n",
      "\n",
      "Organ :n óptico izquierdo Mean :  Max Dose : 50 Gy\n",
      "Constraints : \n",
      "\n",
      "Organ :cerebro sano Mean :  Max Dose : \n",
      "Constraints : \n",
      "V60$30%\n",
      "Organ :Esofago Mean :  Max Dose : 55 Gy\n",
      "Constraints : \n",
      "\n",
      "Organ :Cavidad oral Mean : 41.8 Gy Max Dose : \n",
      "Constraints : \n",
      "V30$70%\n"
     ]
    }
   ],
   "source": [
    "for oar_line in oar_lines:\n",
    "    if \n",
    "    print(oar_line)"
   ]
  },
  {
   "cell_type": "code",
   "execution_count": 14,
   "id": "02014ea3-0166-4374-b0fe-32310eef298a",
   "metadata": {
    "tags": []
   },
   "outputs": [],
   "source": [
    "import re"
   ]
  },
  {
   "cell_type": "code",
   "execution_count": 23,
   "id": "5f0d342a-5a6d-40e4-9fd6-74963d3d0652",
   "metadata": {
    "tags": []
   },
   "outputs": [],
   "source": [
    "rx_dict = {\n",
    "    'Organ': re.compile(r'Organ :(?P<organ_name>.*) Mean'),\n",
    "}"
   ]
  },
  {
   "cell_type": "code",
   "execution_count": 19,
   "id": "dc9550f2-ea13-45a3-9c29-14a3d0e1c3f3",
   "metadata": {
    "tags": []
   },
   "outputs": [],
   "source": [
    "def _parse_line(line):\n",
    "    \"\"\"\n",
    "    Do a regex search against all defined regexes and\n",
    "    return the key and match result of the first matching regex\n",
    "\n",
    "    \"\"\"\n",
    "\n",
    "    for key, rx in rx_dict.items():\n",
    "        match = rx.search(line)\n",
    "        if match:\n",
    "            return key, match\n",
    "    # if there are no matches\n",
    "    return None, None"
   ]
  },
  {
   "cell_type": "code",
   "execution_count": 24,
   "id": "e2078b94-c107-44b9-a4ac-d7543c309495",
   "metadata": {
    "tags": []
   },
   "outputs": [
    {
     "name": "stdout",
     "output_type": "stream",
     "text": [
      "Organ parótida derecha\n",
      "Organ parótida izda\n",
      "Organ médula\n",
      "Organ tronco cerebral\n",
      "Organ cristalino derecho\n",
      "Organ cristalino izquierdo\n",
      "Organ oido interno derecho\n",
      "Organ oido interno izquierdo\n",
      "Organ laringe\n",
      "Organ mandíbula\n",
      "Organ tiroides\n",
      "Organ quiasma óptico\n",
      "Organ n óptico derecho\n",
      "Organ n óptico izquierdo\n",
      "Organ cerebro sano\n",
      "Organ Esofago\n",
      "Organ Cavidad oral\n"
     ]
    }
   ],
   "source": [
    "for oar_line in oar_lines:\n",
    "    oar_key, oar_name = _parse_line(oar_line)\n",
    "    if oar_key:\n",
    "        print(oar_key, oar_name.group('organ_name'))"
   ]
  },
  {
   "cell_type": "code",
   "execution_count": 26,
   "id": "cd4a49a6-833b-49c3-b7df-423bbe1685d7",
   "metadata": {
    "tags": []
   },
   "outputs": [],
   "source": [
    "oars = []\n",
    "for oar_line in oar_lines:\n",
    "    oar_key, oar_name = _parse_line(oar_line)\n",
    "    if oar_key:\n",
    "        oars.append(oar)\n",
    "        oar = [oar_line]\n",
    "    else:\n",
    "        oar.append(oar_line)"
   ]
  },
  {
   "cell_type": "code",
   "execution_count": 32,
   "id": "7cf7d909-fe0b-4607-a7de-df7dffcc96a2",
   "metadata": {
    "tags": []
   },
   "outputs": [],
   "source": [
    "oars.remove(None)"
   ]
  },
  {
   "cell_type": "code",
   "execution_count": 33,
   "id": "03948e3a-5fb4-4449-a7c6-1e060ceb7c63",
   "metadata": {
    "tags": []
   },
   "outputs": [
    {
     "data": {
      "text/plain": [
       "[['Organ :parótida derecha Mean : 26 Gy Max Dose : ',\n",
       "  'Constraints : ',\n",
       "  'V30$50 %'],\n",
       " ['Organ :parótida izda Mean : 26 Gy Max Dose : ',\n",
       "  'Constraints : ',\n",
       "  'V30$50 %'],\n",
       " ['Organ :médula Mean :  Max Dose : 45 Gy', 'Constraints : ', ''],\n",
       " ['Organ :tronco cerebral Mean :  Max Dose : ',\n",
       "  'Constraints : ',\n",
       "  'D53$100%',\n",
       "  'V60$30%'],\n",
       " ['Organ :cristalino derecho Mean :  Max Dose : 8 Gy', 'Constraints : ', ''],\n",
       " ['Organ :cristalino izquierdo Mean :  Max Dose : 8 Gy', 'Constraints : ', ''],\n",
       " ['Organ :oido interno derecho Mean :  Max Dose : 50 Gy',\n",
       "  'Constraints : ',\n",
       "  ''],\n",
       " ['Organ :oido interno izquierdo Mean :  Max Dose : 50 Gy',\n",
       "  'Constraints : ',\n",
       "  ''],\n",
       " ['Organ :laringe Mean :  Max Dose : 70 Gy', 'Constraints : ', ''],\n",
       " ['Organ :mandíbula Mean :  Max Dose : 70 Gy', 'Constraints : ', ''],\n",
       " ['Organ :tiroides Mean :  Max Dose : 45 Gy', 'Constraints : ', ''],\n",
       " ['Organ :quiasma óptico Mean :  Max Dose : 50 Gy', 'Constraints : ', ''],\n",
       " ['Organ :n óptico derecho Mean :  Max Dose : 50 Gy', 'Constraints : ', ''],\n",
       " ['Organ :n óptico izquierdo Mean :  Max Dose : 50 Gy', 'Constraints : ', ''],\n",
       " ['Organ :cerebro sano Mean :  Max Dose : ', 'Constraints : ', 'V60$30%'],\n",
       " ['Organ :Esofago Mean :  Max Dose : 55 Gy', 'Constraints : ', '']]"
      ]
     },
     "execution_count": 33,
     "metadata": {},
     "output_type": "execute_result"
    }
   ],
   "source": [
    "oars"
   ]
  },
  {
   "cell_type": "code",
   "execution_count": null,
   "id": "d1f58100-578d-4d48-ae42-c679dd889988",
   "metadata": {},
   "outputs": [],
   "source": []
  }
 ],
 "metadata": {
  "kernelspec": {
   "display_name": "Python 3 (ipykernel)",
   "language": "python",
   "name": "python3"
  },
  "language_info": {
   "codemirror_mode": {
    "name": "ipython",
    "version": 3
   },
   "file_extension": ".py",
   "mimetype": "text/x-python",
   "name": "python",
   "nbconvert_exporter": "python",
   "pygments_lexer": "ipython3",
   "version": "3.10.9"
  }
 },
 "nbformat": 4,
 "nbformat_minor": 5
}
