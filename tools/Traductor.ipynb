{
 "cells": [
  {
   "attachments": {},
   "cell_type": "markdown",
   "id": "bc6cea93",
   "metadata": {},
   "source": [
    "# Traducción de protocolos\n",
    "--------\n",
    "\n",
    "Herramientas para traducir los protocolos clínicos y de estructuras.\n",
    "\n",
    "### Modo de trabajo\n",
    "- Deifinir un diccionario con la correspondencia entre el nombre actual de la estructura y el que se quiere introducir\n",
    "- Exportar de ARIA los protocolos clínicos y de contorneo\n",
    "- Aplicar una función de traducción, que comprueba si existe en el correspondiente protocolo cada una de las estructuras del diccionario, a cada uno de los protocolos exportados\n",
    "- Guardar el protocolo corregido en un archivo diferente para no perder los originales.\n",
    "- Actualizar en ARIA los protocolos, eliminando el anterior e importando el modificado\n",
    "\n",
    "Importación de módulos"
   ]
  },
  {
   "cell_type": "code",
   "execution_count": 31,
   "id": "e7967491-a615-4ef9-ad38-25e2cfb09f74",
   "metadata": {
    "tags": []
   },
   "outputs": [],
   "source": [
    "import pandas as pd\n",
    "import numpy as np\n",
    "from glob import glob\n",
    "from pathlib import Path\n",
    "from tqdm.notebook import tqdm"
   ]
  },
  {
   "attachments": {},
   "cell_type": "markdown",
   "id": "117caad0",
   "metadata": {},
   "source": [
    "Ir al directorio de trabajo, directorio base del repositorio"
   ]
  },
  {
   "cell_type": "code",
   "execution_count": 2,
   "id": "d94316dc-6188-4429-9aa3-de680fbed1de",
   "metadata": {
    "tags": []
   },
   "outputs": [
    {
     "name": "stdout",
     "output_type": "stream",
     "text": [
      "/Users/maqui/Documents/devel/rtpros\n"
     ]
    }
   ],
   "source": [
    "%cd .."
   ]
  },
  {
   "attachments": {},
   "cell_type": "markdown",
   "id": "dc8c1500",
   "metadata": {},
   "source": [
    "Eliminar los duplicados del Diccionario original. Esta celda solo es necesaria si el Diccionario aún no se ha acondicionado"
   ]
  },
  {
   "cell_type": "code",
   "execution_count": 3,
   "id": "d1b7f6df",
   "metadata": {},
   "outputs": [],
   "source": [
    "dodf = pd.read_csv('tools/DiccionarioOriginal.csv', dtype={'est': str, 'strt' : str, 'code' : object, 'ncode' : object})\n",
    "dodf.drop_duplicates(inplace=True)\n",
    "dodf.to_csv('tools/Diccionario.csv', index=False)"
   ]
  },
  {
   "attachments": {},
   "cell_type": "markdown",
   "id": "dfde82b8",
   "metadata": {},
   "source": [
    "Leer el diccionario"
   ]
  },
  {
   "cell_type": "code",
   "execution_count": 4,
   "id": "c8466d62-c222-444b-8de8-f7a8f88a2111",
   "metadata": {
    "tags": []
   },
   "outputs": [
    {
     "data": {
      "text/html": [
       "<div>\n",
       "<style scoped>\n",
       "    .dataframe tbody tr th:only-of-type {\n",
       "        vertical-align: middle;\n",
       "    }\n",
       "\n",
       "    .dataframe tbody tr th {\n",
       "        vertical-align: top;\n",
       "    }\n",
       "\n",
       "    .dataframe thead th {\n",
       "        text-align: right;\n",
       "    }\n",
       "</style>\n",
       "<table border=\"1\" class=\"dataframe\">\n",
       "  <thead>\n",
       "    <tr style=\"text-align: right;\">\n",
       "      <th></th>\n",
       "      <th>est</th>\n",
       "      <th>strt</th>\n",
       "      <th>code</th>\n",
       "      <th>ncode</th>\n",
       "    </tr>\n",
       "  </thead>\n",
       "  <tbody>\n",
       "    <tr>\n",
       "      <th>0</th>\n",
       "      <td>Cabeza humeral I</td>\n",
       "      <td>Humerus_L</td>\n",
       "      <td>25929.0</td>\n",
       "      <td>NaN</td>\n",
       "    </tr>\n",
       "    <tr>\n",
       "      <th>1</th>\n",
       "      <td>Cabeza humeral D</td>\n",
       "      <td>Humerus_R</td>\n",
       "      <td>25927.0</td>\n",
       "      <td>NaN</td>\n",
       "    </tr>\n",
       "    <tr>\n",
       "      <th>2</th>\n",
       "      <td>Pulmón Izqdo</td>\n",
       "      <td>Lung_L</td>\n",
       "      <td>7310.0</td>\n",
       "      <td>NaN</td>\n",
       "    </tr>\n",
       "    <tr>\n",
       "      <th>3</th>\n",
       "      <td>Pulmón Dcho</td>\n",
       "      <td>Lung_R</td>\n",
       "      <td>7309.0</td>\n",
       "      <td>NaN</td>\n",
       "    </tr>\n",
       "    <tr>\n",
       "      <th>4</th>\n",
       "      <td>Médula</td>\n",
       "      <td>SpinalCord</td>\n",
       "      <td>7647.0</td>\n",
       "      <td>NaN</td>\n",
       "    </tr>\n",
       "    <tr>\n",
       "      <th>...</th>\n",
       "      <td>...</td>\n",
       "      <td>...</td>\n",
       "      <td>...</td>\n",
       "      <td>...</td>\n",
       "    </tr>\n",
       "    <tr>\n",
       "      <th>104</th>\n",
       "      <td>Hígado Sano</td>\n",
       "      <td>Liver-CTV</td>\n",
       "      <td>NaN</td>\n",
       "      <td>NaN</td>\n",
       "    </tr>\n",
       "    <tr>\n",
       "      <th>105</th>\n",
       "      <td>Duodeno</td>\n",
       "      <td>Duodenum</td>\n",
       "      <td>NaN</td>\n",
       "      <td>7206</td>\n",
       "    </tr>\n",
       "    <tr>\n",
       "      <th>106</th>\n",
       "      <td>Ambos riñones</td>\n",
       "      <td>Kidneys</td>\n",
       "      <td>NaN</td>\n",
       "      <td>264815</td>\n",
       "    </tr>\n",
       "    <tr>\n",
       "      <th>107</th>\n",
       "      <td>Ambos pulmones</td>\n",
       "      <td>Lungs</td>\n",
       "      <td>NaN</td>\n",
       "      <td>68877</td>\n",
       "    </tr>\n",
       "    <tr>\n",
       "      <th>108</th>\n",
       "      <td>Aorta</td>\n",
       "      <td>A_Aorta</td>\n",
       "      <td>NaN</td>\n",
       "      <td>3734</td>\n",
       "    </tr>\n",
       "  </tbody>\n",
       "</table>\n",
       "<p>109 rows × 4 columns</p>\n",
       "</div>"
      ],
      "text/plain": [
       "                  est        strt     code   ncode\n",
       "0    Cabeza humeral I   Humerus_L  25929.0     NaN\n",
       "1    Cabeza humeral D   Humerus_R  25927.0     NaN\n",
       "2        Pulmón Izqdo      Lung_L   7310.0     NaN\n",
       "3         Pulmón Dcho      Lung_R   7309.0     NaN\n",
       "4              Médula  SpinalCord   7647.0     NaN\n",
       "..                ...         ...      ...     ...\n",
       "104       Hígado Sano   Liver-CTV      NaN     NaN\n",
       "105           Duodeno    Duodenum      NaN    7206\n",
       "106     Ambos riñones     Kidneys      NaN  264815\n",
       "107    Ambos pulmones       Lungs      NaN   68877\n",
       "108             Aorta     A_Aorta      NaN    3734\n",
       "\n",
       "[109 rows x 4 columns]"
      ]
     },
     "execution_count": 4,
     "metadata": {},
     "output_type": "execute_result"
    }
   ],
   "source": [
    "ddf = pd.read_csv('tools/Diccionario.csv')\n",
    "ddf"
   ]
  },
  {
   "attachments": {},
   "cell_type": "markdown",
   "id": "e27cf768",
   "metadata": {},
   "source": [
    "#### Función de traducción\n",
    "Leer un protocolo clínico exportado en formato `xml`.\n",
    "\n",
    "    Por como está formado el archivo xml, al leerlo en pandas se crea una serie con el tipo de archivo xml en la cabecera del DataFrame y el resto de datos en un único elemento de una serie.\n",
    "\n",
    "    Es útil leerlo en pandas para emplear sus herramientas de sustitución de texto.\n",
    "\n",
    "Aplicar la sustitución sobre el `ID` y el `Name` de la estructura. Esta versión no realiza comprobación del código de la estructura \n"
   ]
  },
  {
   "cell_type": "code",
   "execution_count": 11,
   "id": "6748e60b-9191-4043-b42f-537134cbda0d",
   "metadata": {
    "tags": []
   },
   "outputs": [],
   "source": [
    "prdf = pd.read_csv('protocolos/clinicos/MamaDchaCads15Fx.xml')"
   ]
  },
  {
   "cell_type": "code",
   "execution_count": 12,
   "id": "d61b01f9-326b-46eb-944d-c6ef561e4ca9",
   "metadata": {
    "tags": []
   },
   "outputs": [],
   "source": [
    "for index, row in ddf.iterrows():\n",
    "    try:\n",
    "        match = 'ID=\"' + row.est + '\" Name=\"' + row.est + '\"'\n",
    "        repl = 'ID=\"' + row.strt + '\" Name=\"' + row.strt + '\"'\n",
    "        prdf.iloc[0] = prdf.iloc[0].str.replace(match, repl)\n",
    "    except TypeError:\n",
    "        pass"
   ]
  },
  {
   "cell_type": "code",
   "execution_count": 14,
   "id": "e5420f9b-61b8-46ba-89fe-9cca61bec229",
   "metadata": {
    "tags": []
   },
   "outputs": [],
   "source": [
    "with open('protocolos/clinicos/modificados/MamaDchaCads15Fx.xml', 'w') as f:\n",
    "    f.write(prdf.to_string(index=False).lstrip())"
   ]
  },
  {
   "cell_type": "code",
   "execution_count": 21,
   "id": "eba16496",
   "metadata": {},
   "outputs": [],
   "source": [
    "pfs = glob('protocolos/clinicos/*.xml')"
   ]
  },
  {
   "cell_type": "code",
   "execution_count": 24,
   "id": "1c11dac1",
   "metadata": {},
   "outputs": [
    {
     "ename": "IndexError",
     "evalue": "list index out of range",
     "output_type": "error",
     "traceback": [
      "\u001b[0;31m---------------------------------------------------------------------------\u001b[0m",
      "\u001b[0;31mIndexError\u001b[0m                                Traceback (most recent call last)",
      "Cell \u001b[0;32mIn[24], line 1\u001b[0m\n\u001b[0;32m----> 1\u001b[0m p \u001b[39m=\u001b[39m Path(pfs[\u001b[39m1\u001b[39;49m])\n",
      "\u001b[0;31mIndexError\u001b[0m: list index out of range"
     ]
    }
   ],
   "source": [
    "p = Path(pfs[0])"
   ]
  },
  {
   "cell_type": "code",
   "execution_count": 28,
   "id": "0666633c",
   "metadata": {},
   "outputs": [
    {
     "data": {
      "text/plain": [
       "PosixPath('protocolos/clinicos/modificados/MamaDchaCads15Fx.xml')"
      ]
     },
     "execution_count": 28,
     "metadata": {},
     "output_type": "execute_result"
    }
   ],
   "source": [
    "p.parents[0].joinpath('modificados').joinpath(p.name)"
   ]
  },
  {
   "cell_type": "code",
   "execution_count": 33,
   "id": "6719cbae",
   "metadata": {},
   "outputs": [],
   "source": [
    "def traducirProtocoloClinico(pf=None, ddf=None):\n",
    "    path = Path(pf)\n",
    "    prdf = pd.read_csv(path)\n",
    "\n",
    "    for index, row in ddf.iterrows():\n",
    "        try:\n",
    "            match = 'ID=\"' + row.est + '\" Name=\"' + row.est + '\"'\n",
    "            repl = 'ID=\"' + row.strt + '\" Name=\"' + row.strt + '\"'\n",
    "            prdf.iloc[0] = prdf.iloc[0].str.replace(match, repl)\n",
    "            match = 'Item ID=\"' + row.est + '\"'\n",
    "            repl = 'Item ID=\"' + row.strt + '\"'\n",
    "            prdf.iloc[0] = prdf.iloc[0].str.replace(match, repl)\n",
    "        except TypeError:\n",
    "            pass\n",
    "\n",
    "    with open(path.parents[0].joinpath('modificados').joinpath(path.name), 'w') as f:\n",
    "        f.write(prdf.to_string(index=False).lstrip())"
   ]
  },
  {
   "cell_type": "code",
   "execution_count": 35,
   "id": "4edc68df",
   "metadata": {},
   "outputs": [
    {
     "data": {
      "application/vnd.jupyter.widget-view+json": {
       "model_id": "1c80cb681c6b4a53aea397575b2f5f3d",
       "version_major": 2,
       "version_minor": 0
      },
      "text/plain": [
       "  0%|          | 0/1 [00:00<?, ?it/s]"
      ]
     },
     "metadata": {},
     "output_type": "display_data"
    }
   ],
   "source": [
    "for pf in tqdm(pfs):\n",
    "    traducirProtocoloClinico(pf, ddf)"
   ]
  },
  {
   "cell_type": "code",
   "execution_count": null,
   "id": "46e8725e",
   "metadata": {},
   "outputs": [],
   "source": []
  }
 ],
 "metadata": {
  "kernelspec": {
   "display_name": "Python 3 (ipykernel)",
   "language": "python",
   "name": "python3"
  },
  "language_info": {
   "codemirror_mode": {
    "name": "ipython",
    "version": 3
   },
   "file_extension": ".py",
   "mimetype": "text/x-python",
   "name": "python",
   "nbconvert_exporter": "python",
   "pygments_lexer": "ipython3",
   "version": "3.9.6"
  }
 },
 "nbformat": 4,
 "nbformat_minor": 5
}
