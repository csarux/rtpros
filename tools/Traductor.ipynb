{
 "cells": [
  {
   "cell_type": "code",
   "execution_count": 1,
   "id": "e7967491-a615-4ef9-ad38-25e2cfb09f74",
   "metadata": {
    "tags": []
   },
   "outputs": [],
   "source": [
    "import pandas as pd\n",
    "import fileinput"
   ]
  },
  {
   "cell_type": "code",
   "execution_count": 2,
   "id": "d94316dc-6188-4429-9aa3-de680fbed1de",
   "metadata": {
    "tags": []
   },
   "outputs": [
    {
     "name": "stdout",
     "output_type": "stream",
     "text": [
      "/home/radiofisica/Shares/Radiofisica/csr/rtpros/protocolos\n"
     ]
    }
   ],
   "source": [
    "%cd ../protocolos/"
   ]
  },
  {
   "cell_type": "code",
   "execution_count": 3,
   "id": "c8466d62-c222-444b-8de8-f7a8f88a2111",
   "metadata": {
    "tags": []
   },
   "outputs": [],
   "source": [
    "ddf = pd.read_csv('Diccionario.csv')"
   ]
  },
  {
   "cell_type": "code",
   "execution_count": 4,
   "id": "cbf66a29-d711-4d68-9ae8-7edd8eb68bae",
   "metadata": {
    "tags": []
   },
   "outputs": [
    {
     "data": {
      "text/html": [
       "<div>\n",
       "<style scoped>\n",
       "    .dataframe tbody tr th:only-of-type {\n",
       "        vertical-align: middle;\n",
       "    }\n",
       "\n",
       "    .dataframe tbody tr th {\n",
       "        vertical-align: top;\n",
       "    }\n",
       "\n",
       "    .dataframe thead th {\n",
       "        text-align: right;\n",
       "    }\n",
       "</style>\n",
       "<table border=\"1\" class=\"dataframe\">\n",
       "  <thead>\n",
       "    <tr style=\"text-align: right;\">\n",
       "      <th></th>\n",
       "      <th>Unnamed: 0</th>\n",
       "      <th>orgn</th>\n",
       "      <th>tras</th>\n",
       "      <th>cod</th>\n",
       "      <th>newcod</th>\n",
       "    </tr>\n",
       "  </thead>\n",
       "  <tbody>\n",
       "    <tr>\n",
       "      <th>0</th>\n",
       "      <td>0.0</td>\n",
       "      <td>Cabeza humeral I</td>\n",
       "      <td>Humerus_L</td>\n",
       "      <td>25929</td>\n",
       "      <td></td>\n",
       "    </tr>\n",
       "    <tr>\n",
       "      <th>1</th>\n",
       "      <td>1.0</td>\n",
       "      <td>Cabeza humeral D</td>\n",
       "      <td>Humerus_R</td>\n",
       "      <td>25927</td>\n",
       "      <td></td>\n",
       "    </tr>\n",
       "    <tr>\n",
       "      <th>2</th>\n",
       "      <td>2.0</td>\n",
       "      <td>Pulmón Izqdo</td>\n",
       "      <td>Lung_L</td>\n",
       "      <td>7310</td>\n",
       "      <td></td>\n",
       "    </tr>\n",
       "    <tr>\n",
       "      <th>3</th>\n",
       "      <td>3.0</td>\n",
       "      <td>Pulmón Dcho</td>\n",
       "      <td>Lung_R</td>\n",
       "      <td>7309</td>\n",
       "      <td></td>\n",
       "    </tr>\n",
       "    <tr>\n",
       "      <th>4</th>\n",
       "      <td>4.0</td>\n",
       "      <td>Médula</td>\n",
       "      <td>SpinalCord</td>\n",
       "      <td>7647</td>\n",
       "      <td></td>\n",
       "    </tr>\n",
       "    <tr>\n",
       "      <th>...</th>\n",
       "      <td>...</td>\n",
       "      <td>...</td>\n",
       "      <td>...</td>\n",
       "      <td>...</td>\n",
       "      <td>...</td>\n",
       "    </tr>\n",
       "    <tr>\n",
       "      <th>105</th>\n",
       "      <td>105.0</td>\n",
       "      <td>Duodeno</td>\n",
       "      <td>Duodenum</td>\n",
       "      <td></td>\n",
       "      <td>7206</td>\n",
       "    </tr>\n",
       "    <tr>\n",
       "      <th>106</th>\n",
       "      <td>106.0</td>\n",
       "      <td>Ambos riñones</td>\n",
       "      <td>Kidneys</td>\n",
       "      <td></td>\n",
       "      <td>264815</td>\n",
       "    </tr>\n",
       "    <tr>\n",
       "      <th>107</th>\n",
       "      <td>107.0</td>\n",
       "      <td>Ambos pulmones</td>\n",
       "      <td>Lungs</td>\n",
       "      <td></td>\n",
       "      <td>68877</td>\n",
       "    </tr>\n",
       "    <tr>\n",
       "      <th>108</th>\n",
       "      <td>108.0</td>\n",
       "      <td>Aorta</td>\n",
       "      <td>A_Aorta</td>\n",
       "      <td></td>\n",
       "      <td>3734</td>\n",
       "    </tr>\n",
       "    <tr>\n",
       "      <th>109</th>\n",
       "      <td>NaN</td>\n",
       "      <td>NaN</td>\n",
       "      <td>NaN</td>\n",
       "      <td>NaN</td>\n",
       "      <td>NaN</td>\n",
       "    </tr>\n",
       "  </tbody>\n",
       "</table>\n",
       "<p>110 rows × 5 columns</p>\n",
       "</div>"
      ],
      "text/plain": [
       "     Unnamed: 0              orgn         tras     cod   newcod\n",
       "0           0.0  Cabeza humeral I    Humerus_L   25929         \n",
       "1           1.0  Cabeza humeral D    Humerus_R   25927         \n",
       "2           2.0      Pulmón Izqdo       Lung_L    7310         \n",
       "3           3.0       Pulmón Dcho       Lung_R    7309         \n",
       "4           4.0            Médula   SpinalCord    7647         \n",
       "..          ...               ...          ...     ...      ...\n",
       "105       105.0           Duodeno     Duodenum             7206\n",
       "106       106.0     Ambos riñones      Kidneys           264815\n",
       "107       107.0    Ambos pulmones        Lungs            68877\n",
       "108       108.0             Aorta      A_Aorta             3734\n",
       "109         NaN               NaN          NaN     NaN      NaN\n",
       "\n",
       "[110 rows x 5 columns]"
      ]
     },
     "execution_count": 4,
     "metadata": {},
     "output_type": "execute_result"
    }
   ],
   "source": [
    "ddf"
   ]
  },
  {
   "cell_type": "code",
   "execution_count": 68,
   "id": "6748e60b-9191-4043-b42f-537134cbda0d",
   "metadata": {
    "tags": []
   },
   "outputs": [],
   "source": [
    "prdf = pd.read_csv('MamaDchaCads15Fx.xml')"
   ]
  },
  {
   "cell_type": "code",
   "execution_count": null,
   "id": "d6063ebd-1eb0-46a8-b1b2-e4a26854a8da",
   "metadata": {},
   "outputs": [],
   "source": [
    "ID=\"Cabeza humeral I\" Name=\"Cabeza humeral I\""
   ]
  },
  {
   "cell_type": "code",
   "execution_count": 76,
   "id": "d61b01f9-326b-46eb-944d-c6ef561e4ca9",
   "metadata": {
    "tags": []
   },
   "outputs": [
    {
     "name": "stdout",
     "output_type": "stream",
     "text": [
      "Original: ID=\"Cabeza humeral I\" Name=\"Cabeza humeral I\" Sustitución: ID=\" Humerus_L\" Name=\" Humerus_L\"\n",
      "Original: ID=\"Cabeza humeral D\" Name=\"Cabeza humeral D\" Sustitución: ID=\" Humerus_R\" Name=\" Humerus_R\"\n",
      "Original: ID=\"Pulmón Izqdo\" Name=\"Pulmón Izqdo\" Sustitución: ID=\" Lung_L\" Name=\" Lung_L\"\n",
      "Original: ID=\"Pulmón Dcho\" Name=\"Pulmón Dcho\" Sustitución: ID=\" Lung_R\" Name=\" Lung_R\"\n",
      "Original: ID=\"Médula\" Name=\"Médula\" Sustitución: ID=\" SpinalCord\" Name=\" SpinalCord\"\n",
      "Original: ID=\"Tiroides\" Name=\"Tiroides\" Sustitución: ID=\" Glnd_Thyroid\" Name=\" Glnd_Thyroid\"\n",
      "Original: ID=\"Corazón/pericard\" Name=\"Corazón/pericard\" Sustitución: ID=\" Heart\" Name=\" Heart\"\n",
      "Original: ID=\"Aurícula izqda\" Name=\"Aurícula izqda\" Sustitución: ID=\" Atrium_L\" Name=\" Atrium_L\"\n",
      "Original: ID=\"Aurícula dcha\" Name=\"Aurícula dcha\" Sustitución: ID=\" Atrium_R\" Name=\" Atrium_R\"\n",
      "Original: ID=\"Arteria pulmonar\" Name=\"Arteria pulmonar\" Sustitución: ID=\" A_Pulmonary\" Name=\" A_Pulmonary\"\n",
      "Original: ID=\"Arteria DA\" Name=\"Arteria DA\" Sustitución: ID=\" A_LAD\" Name=\" A_LAD\"\n",
      "Original: ID=\"Aorta ascendente\" Name=\"Aorta ascendente\" Sustitución: ID=\" A_Aorta_Asc\" Name=\" A_Aorta_Asc\"\n",
      "Original: ID=\"Vena cava inf\" Name=\"Vena cava inf\" Sustitución: ID=\" V_Venacava_I\" Name=\" V_Venacava_I\"\n",
      "Original: ID=\"Vena cava sup\" Name=\"Vena cava sup\" Sustitución: ID=\" V_Venacava_S\" Name=\" V_Venacava_S\"\n",
      "Original: ID=\"Ventrículo dcho\" Name=\"Ventrículo dcho\" Sustitución: ID=\" Ventricle_R\" Name=\" Ventricle_R\"\n",
      "Original: ID=\"Ventrículo izqdo\" Name=\"Ventrículo izqdo\" Sustitución: ID=\" Ventricle_L\" Name=\" Ventricle_L\"\n",
      "Original: ID=\"Mama izqda\" Name=\"Mama izqda\" Sustitución: ID=\" Breast_L\" Name=\" Breast_L\"\n",
      "Original: ID=\"Mama dcha\" Name=\"Mama dcha\" Sustitución: ID=\" Breast_R\" Name=\" Breast_R\"\n",
      "Original: ID=\"PRV DA\" Name=\"PRV DA\" Sustitución: ID=\" PRV_A_LAD\" Name=\" PRV_A_LAD\"\n",
      "Original: ID=\"Vejiga\" Name=\"Vejiga\" Sustitución: ID=\" Bladder\" Name=\" Bladder\"\n",
      "Original: ID=\"Recto\" Name=\"Recto\" Sustitución: ID=\" Rectum\" Name=\" Rectum\"\n",
      "Original: ID=\"Intestino\" Name=\"Intestino\" Sustitución: ID=\" Bowel_Small\" Name=\" Bowel_Small\"\n",
      "Original: ID=\"Cabeza femoral I\" Name=\"Cabeza femoral I\" Sustitución: ID=\" Femur_Head_L\" Name=\" Femur_Head_L\"\n",
      "Original: ID=\"Cabeza femoral D\" Name=\"Cabeza femoral D\" Sustitución: ID=\" Femur_Head_R\" Name=\" Femur_Head_R\"\n",
      "Original: ID=\"Bulbo peneano\" Name=\"Bulbo peneano\" Sustitución: ID=\" PenileBulb\" Name=\" PenileBulb\"\n",
      "Original: ID=\"via area\" Name=\"via area\" Sustitución: ID=\" AirWay_Prox\" Name=\" AirWay_Prox\"\n",
      "Original: ID=\"Corazón\" Name=\"Corazón\" Sustitución: ID=\" Heart\" Name=\" Heart\"\n",
      "Original: ID=\"Esófago\" Name=\"Esófago\" Sustitución: ID=\" Esophagus\" Name=\" Esophagus\"\n",
      "Original: ID=\"Pulmones\" Name=\"Pulmones\" Sustitución: ID=\" Lungs\" Name=\" Lungs\"\n",
      "Original: ID=\"Tráquea\" Name=\"Tráquea\" Sustitución: ID=\" Trachea\" Name=\" Trachea\"\n",
      "Original: ID=\"PRV medula\" Name=\"PRV medula\" Sustitución: ID=\" SpinalCanal_PRVx\" Name=\" SpinalCanal_PRVx\"\n",
      "Original: ID=\"Plexo Braquial\" Name=\"Plexo Braquial\" Sustitución: ID=\" BrachialPlex_R\" Name=\" BrachialPlex_R\"\n",
      "Original: ID=\"Plexo Braquial\" Name=\"Plexo Braquial\" Sustitución: ID=\" BrachialPlex_L\" Name=\" BrachialPlex_L\"\n",
      "Original: ID=\"Piel\" Name=\"Piel\" Sustitución: ID=\" Skin\" Name=\" Skin\"\n",
      "Original: ID=\"Pared Costal\" Name=\"Pared Costal\" Sustitución: ID=\" Chestwall\" Name=\" Chestwall\"\n",
      "Original: ID=\"Higado\" Name=\"Higado\" Sustitución: ID=\" Liver\" Name=\" Liver\"\n",
      "Original: ID=\"Aorta\" Name=\"Aorta\" Sustitución: ID=\" A_Aorta\" Name=\" A_Aorta\"\n",
      "Original: ID=\"Arteria Pulmonar\" Name=\"Arteria Pulmonar\" Sustitución: ID=\" A_Pulmonary\" Name=\" A_Pulmonary\"\n",
      "Original: ID=\"Vena Cava Sup\" Name=\"Vena Cava Sup\" Sustitución: ID=\" V_Venacava_S\" Name=\" V_Venacava_S\"\n",
      "Original: ID=\"Vena Cava Inf\" Name=\"Vena Cava Inf\" Sustitución: ID=\" V_Venacava_I\" Name=\" V_Venacava_I\"\n",
      "Original: ID=\"Cristalino_I\" Name=\"Cristalino_I\" Sustitución: ID=\" Lens_L\" Name=\" Lens_L\"\n",
      "Original: ID=\"Cristalino_D\" Name=\"Cristalino_D\" Sustitución: ID=\" Lens_R\" Name=\" Lens_R\"\n",
      "Original: ID=\"Mandibula\" Name=\"Mandibula\" Sustitución: ID=\" Bone_Mandible\" Name=\" Bone_Mandible\"\n",
      "Original: ID=\"N_optico_D\" Name=\"N_optico_D\" Sustitución: ID=\" OpticNrv_R\" Name=\" OpticNrv_R\"\n",
      "Original: ID=\"N_optico_I\" Name=\"N_optico_I\" Sustitución: ID=\" OpticNrv_L\" Name=\" OpticNrv_L\"\n",
      "Original: ID=\"Coclea_D\" Name=\"Coclea_D\" Sustitución: ID=\" Cochlea_R\" Name=\" Cochlea_R\"\n",
      "Original: ID=\"Coclea_I\" Name=\"Coclea_I\" Sustitución: ID=\" Cochlea_L\" Name=\" Cochlea_L\"\n",
      "Original: ID=\"Ojo_D\" Name=\"Ojo_D\" Sustitución: ID=\" Eye_R\" Name=\" Eye_R\"\n",
      "Original: ID=\"Ojo_I\" Name=\"Ojo_I\" Sustitución: ID=\" Eye_L\" Name=\" Eye_L\"\n",
      "Original: ID=\"Parotida_D\" Name=\"Parotida_D\" Sustitución: ID=\" Parotid_R\" Name=\" Parotid_R\"\n",
      "Original: ID=\"Parotida_I\" Name=\"Parotida_I\" Sustitución: ID=\" Parotid_L\" Name=\" Parotid_L\"\n",
      "Original: ID=\"Quiasma\" Name=\"Quiasma\" Sustitución: ID=\" OpticChiasm\" Name=\" OpticChiasm\"\n",
      "Original: ID=\"Tronco\" Name=\"Tronco\" Sustitución: ID=\" Brainstem\" Name=\" Brainstem\"\n",
      "Original: ID=\"ATM_D\" Name=\"ATM_D\" Sustitución: ID=\" Joint_TM_R\" Name=\" Joint_TM_R\"\n",
      "Original: ID=\"ATM_I\" Name=\"ATM_I\" Sustitución: ID=\" Joint_TM_L\" Name=\" Joint_TM_L\"\n",
      "Original: ID=\"Pulmon_D\" Name=\"Pulmon_D\" Sustitución: ID=\" Lung_R\" Name=\" Lung_R\"\n",
      "Original: ID=\"Pulmon_I\" Name=\"Pulmon_I\" Sustitución: ID=\" Lung_L\" Name=\" Lung_L\"\n",
      "Original: ID=\"Laringe\" Name=\"Laringe\" Sustitución: ID=\" Larynx\" Name=\" Larynx\"\n",
      "Original: ID=\"Cerebro\" Name=\"Cerebro\" Sustitución: ID=\" Brain\" Name=\" Brain\"\n",
      "Original: ID=\"Lob_Temporal_D\" Name=\"Lob_Temporal_D\" Sustitución: ID=\" Lobe_Temporal_R\" Name=\" Lobe_Temporal_R\"\n",
      "Original: ID=\"Lob_Temporal_I\" Name=\"Lob_Temporal_I\" Sustitución: ID=\" Lobe_Temporal_L\" Name=\" Lobe_Temporal_L\"\n",
      "Original: ID=\"Gland_subm_D\" Name=\"Gland_subm_D\" Sustitución: ID=\" Glnd_Submand_R\" Name=\" Glnd_Submand_R\"\n",
      "Original: ID=\"Gland_subm_I\" Name=\"Gland_subm_I\" Sustitución: ID=\" Glnd_Submand_L\" Name=\" Glnd_Submand_L\"\n",
      "Original: ID=\"Esofago\" Name=\"Esofago\" Sustitución: ID=\" Esophagus\" Name=\" Esophagus\"\n",
      "Original: ID=\"Tronco cerebral\" Name=\"Tronco cerebral\" Sustitución: ID=\" Brainstem\" Name=\" Brainstem\"\n",
      "Original: ID=\"Quiasma óptico\" Name=\"Quiasma óptico\" Sustitución: ID=\" OpticChiasm\" Name=\" OpticChiasm\"\n",
      "Original: ID=\"Nervio óptico D\" Name=\"Nervio óptico D\" Sustitución: ID=\" OpticNrv_R\" Name=\" OpticNrv_R\"\n",
      "Original: ID=\"Nervio óptico I\" Name=\"Nervio óptico I\" Sustitución: ID=\" OpticNrv_L\" Name=\" OpticNrv_L\"\n",
      "Original: ID=\"Ojo Dcho\" Name=\"Ojo Dcho\" Sustitución: ID=\" Eye_R\" Name=\" Eye_R\"\n",
      "Original: ID=\"Ojo Izqdo\" Name=\"Ojo Izqdo\" Sustitución: ID=\" Eye_L\" Name=\" Eye_L\"\n",
      "Original: ID=\"Cristalino Dcho\" Name=\"Cristalino Dcho\" Sustitución: ID=\" Lens_R\" Name=\" Lens_R\"\n",
      "Original: ID=\"Cristalino Izqdo\" Name=\"Cristalino Izqdo\" Sustitución: ID=\" Lens_L\" Name=\" Lens_L\"\n",
      "Original: ID=\"Hipófisis\" Name=\"Hipófisis\" Sustitución: ID=\" Pituitary\" Name=\" Pituitary\"\n",
      "Original: ID=\"Hipocampo\" Name=\"Hipocampo\" Sustitución: ID=\" Hippocampus_R\" Name=\" Hippocampus_R\"\n",
      "Original: ID=\"Hipocampo\" Name=\"Hipocampo\" Sustitución: ID=\" Hippocampus_L\" Name=\" Hippocampus_L\"\n",
      "Original: ID=\"Oido Dcho\" Name=\"Oido Dcho\" Sustitución: ID=\" Cochlea_R\" Name=\" Cochlea_R\"\n",
      "Original: ID=\"Oido Izqdo\" Name=\"Oido Izqdo\" Sustitución: ID=\" Cochlea_L\" Name=\" Cochlea_L\"\n",
      "Original: ID=\"Hígado\" Name=\"Hígado\" Sustitución: ID=\" Liver\" Name=\" Liver\"\n",
      "Original: ID=\"Riñon dcho\" Name=\"Riñon dcho\" Sustitución: ID=\" Kidney_R\" Name=\" Kidney_R\"\n",
      "Original: ID=\"Riñon izqdo\" Name=\"Riñon izqdo\" Sustitución: ID=\" Kidney_L\" Name=\" Kidney_L\"\n",
      "Original: ID=\"Pulmón dcho\" Name=\"Pulmón dcho\" Sustitución: ID=\" Lung_R\" Name=\" Lung_R\"\n",
      "Original: ID=\"Pulmón izqdo\" Name=\"Pulmón izqdo\" Sustitución: ID=\" Lung_L\" Name=\" Lung_L\"\n",
      "Original: ID=\"Estómago\" Name=\"Estómago\" Sustitución: ID=\" Stomach\" Name=\" Stomach\"\n",
      "Original: ID=\"Ao\" Name=\"Ao\" Sustitución: ID=\" A_Aorta\" Name=\" A_Aorta\"\n",
      "Original: ID=\"PV\" Name=\"PV\" Sustitución: ID=\" V_Portal\" Name=\" V_Portal\"\n",
      "Original: ID=\"CA\" Name=\"CA\" Sustitución: ID=\" A_Celiac\" Name=\" A_Celiac\"\n",
      "Original: ID=\"SMA\" Name=\"SMA\" Sustitución: ID=\" A_Mesenteric_S\" Name=\" A_Mesenteric_S\"\n",
      "Original: ID=\"PJ\" Name=\"PJ\" Sustitución: ID=\" Pancreat_Jejun_A\" Name=\" Pancreat_Jejun_A\"\n",
      "Original: ID=\"Ambos pulmones\" Name=\"Ambos pulmones\" Sustitución: ID=\" Lungs\" Name=\" Lungs\"\n",
      "Original: ID=\"Ambos riñones\" Name=\"Ambos riñones\" Sustitución: ID=\" Kidneys\" Name=\" Kidneys\"\n",
      "Original: ID=\"Pared costal\" Name=\"Pared costal\" Sustitución: ID=\" Chestwall\" Name=\" Chestwall\"\n",
      "Original: ID=\"Hígado Sano\" Name=\"Hígado Sano\" Sustitución: ID=\" Liver-CTV\" Name=\" Liver-CTV\"\n",
      "Original: ID=\"Duodeno\" Name=\"Duodeno\" Sustitución: ID=\" Duodenum\" Name=\" Duodenum\"\n",
      "Original: ID=\"Ambos riñones\" Name=\"Ambos riñones\" Sustitución: ID=\" Kidneys\" Name=\" Kidneys\"\n",
      "Original: ID=\"Ambos pulmones\" Name=\"Ambos pulmones\" Sustitución: ID=\" Lungs\" Name=\" Lungs\"\n",
      "Original: ID=\"Aorta\" Name=\"Aorta\" Sustitución: ID=\" A_Aorta\" Name=\" A_Aorta\"\n"
     ]
    }
   ],
   "source": [
    "for index, row in ddf.iterrows():\n",
    "    try:\n",
    "        match = 'ID=\"' + row.orgn + '\" Name=\"' + row.orgn + '\"'\n",
    "        repl = 'ID=\"' + row.tras + '\" Name=\"' + row.tras + '\"'\n",
    "        prdf.iloc[0] = prdf.iloc[0].str.replace(match, repl)\n",
    "        print('Original:', match, 'Sustitución:', repl)\n",
    "    except TypeError:\n",
    "        pass"
   ]
  },
  {
   "cell_type": "code",
   "execution_count": 72,
   "id": "732023cf-45ea-4fc1-bd69-7c8cb698c677",
   "metadata": {
    "tags": []
   },
   "outputs": [
    {
     "data": {
      "text/plain": [
       "('ID=\"Aorta\" Name=\"Aorta\"', 'ID=\" A_Aorta\" Name=\" A_Aorta\"')"
      ]
     },
     "execution_count": 72,
     "metadata": {},
     "output_type": "execute_result"
    }
   ],
   "source": [
    "match, repl"
   ]
  },
  {
   "cell_type": "code",
   "execution_count": 73,
   "id": "e5420f9b-61b8-46ba-89fe-9cca61bec229",
   "metadata": {
    "tags": []
   },
   "outputs": [],
   "source": [
    "with open('MamaDchaCads15FxCorregido.xml', 'w') as f:\n",
    "    f.write(prdf.to_string(index=False).lstrip())"
   ]
  },
  {
   "cell_type": "code",
   "execution_count": null,
   "id": "3fae2811-2e78-4e71-a36e-0afc614f2f0f",
   "metadata": {},
   "outputs": [],
   "source": []
  }
 ],
 "metadata": {
  "kernelspec": {
   "display_name": "Python 3 (ipykernel)",
   "language": "python",
   "name": "python3"
  },
  "language_info": {
   "codemirror_mode": {
    "name": "ipython",
    "version": 3
   },
   "file_extension": ".py",
   "mimetype": "text/x-python",
   "name": "python",
   "nbconvert_exporter": "python",
   "pygments_lexer": "ipython3",
   "version": "3.10.9"
  }
 },
 "nbformat": 4,
 "nbformat_minor": 5
}
