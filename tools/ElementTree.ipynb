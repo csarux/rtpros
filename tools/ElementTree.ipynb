{
 "cells": [
  {
   "cell_type": "code",
   "execution_count": 1,
   "id": "c7a2c73d-deb2-47e5-ab35-c7954be1b74d",
   "metadata": {
    "tags": []
   },
   "outputs": [],
   "source": [
    "import xml.etree.ElementTree as ET"
   ]
  },
  {
   "cell_type": "code",
   "execution_count": 2,
   "id": "95eda277-1ed1-48b3-9abe-a5def954e814",
   "metadata": {
    "tags": []
   },
   "outputs": [
    {
     "name": "stdout",
     "output_type": "stream",
     "text": [
      "/Users/maqui/Documents/devel/rtpros\n"
     ]
    }
   ],
   "source": [
    "cd .."
   ]
  },
  {
   "cell_type": "code",
   "execution_count": 3,
   "id": "29a0d40a-ba52-4e3d-95f8-e2b4895557a4",
   "metadata": {
    "tags": []
   },
   "outputs": [],
   "source": [
    "pret = ET.parse('protocolos/clinicos/modificados/MamaDchaCads15Fx.xml')"
   ]
  },
  {
   "cell_type": "code",
   "execution_count": 4,
   "id": "4b1271bd-3292-4bef-9fa2-eafabede1912",
   "metadata": {
    "tags": []
   },
   "outputs": [],
   "source": [
    "structures = pret.getroot().find('StructureTemplate').find('Structures').findall('Structure')"
   ]
  },
  {
   "cell_type": "code",
   "execution_count": 5,
   "id": "dea3321a-9494-480d-b63e-a0a57c128938",
   "metadata": {
    "tags": []
   },
   "outputs": [
    {
     "name": "stdout",
     "output_type": "stream",
     "text": [
      "{'ID': 'BODY', 'Name': 'BODY'}\n",
      "{'ID': 'Humerus_R', 'Name': 'Humerus_R'}\n",
      "{'ID': 'Humerus_L', 'Name': 'Humerus_L'}\n",
      "{'ID': 'Heart', 'Name': 'Heart'}\n",
      "{'ID': 'linea media', 'Name': 'linea media'}\n",
      "{'ID': 'SpinalCord', 'Name': 'SpinalCord'}\n",
      "{'ID': 'Lung_R', 'Name': 'Lung_R'}\n",
      "{'ID': 'Lung_L', 'Name': 'Lung_L'}\n",
      "{'ID': 'Glnd_Thyroid', 'Name': 'Glnd_Thyroid'}\n",
      "{'ID': 'PTV axila dcha', 'Name': 'PTV axila dcha'}\n",
      "{'ID': 'PRV_A_LAD', 'Name': 'PRV_A_LAD'}\n",
      "{'ID': 'Húmero dcho', 'Name': 'Húmero dcha'}\n",
      "{'ID': 'CTV mama dcha', 'Name': 'CTV mama dcha'}\n",
      "{'ID': 'CTV m.int. dcha', 'Name': 'CTV m.int. dcha'}\n",
      "{'ID': 'CTV FSC dcha', 'Name': 'FSC dcha'}\n",
      "{'ID': 'CTV boost dcho', 'Name': 'CTV boost dcho'}\n",
      "{'ID': 'CTV axila dcha', 'Name': 'CTV axila dcha'}\n",
      "{'ID': 'Heart', 'Name': 'Heart'}\n",
      "{'ID': 'Atrium_L', 'Name': 'Atrium_L'}\n",
      "{'ID': 'Atrium_R', 'Name': 'Atrium_R'}\n",
      "{'ID': 'A_Pulmonary', 'Name': 'A_Pulmonary'}\n",
      "{'ID': 'A_LAD', 'Name': 'A_LAD'}\n",
      "{'ID': 'A_Aorta_Asc', 'Name': 'A_Aorta_Asc'}\n",
      "{'ID': 'PTV boost dcho', 'Name': 'PTV boost dcho'}\n",
      "{'ID': 'PTV FSC dcha', 'Name': 'PTV FSC dcha'}\n",
      "{'ID': 'PTV m.int. dcha', 'Name': 'PTV m.int. dcha'}\n",
      "{'ID': 'PTV mama dcha', 'Name': 'PTV mama dcha'}\n",
      "{'ID': 'V_Venacava_I', 'Name': 'V_Venacava_I'}\n",
      "{'ID': 'V_Venacava_S', 'Name': 'V_Venacava_S'}\n",
      "{'ID': 'Ventricle_R', 'Name': 'Ventricle_R'}\n",
      "{'ID': 'Ventricle_L', 'Name': 'Ventricle_L'}\n",
      "{'ID': 'Mama izqda', 'Name': ''}\n",
      "{'ID': 'CTV lecho dcho', 'Name': 'CTV lecho dcho'}\n",
      "{'ID': 'PTV lecho dcho', 'Name': 'PTV lecho dcho'}\n"
     ]
    }
   ],
   "source": [
    "for structure in structures:\n",
    "    print(structure.attrib)"
   ]
  },
  {
   "cell_type": "code",
   "execution_count": 6,
   "id": "5311a2e4-99db-41c1-94ed-25212b2d93bc",
   "metadata": {
    "tags": []
   },
   "outputs": [
    {
     "data": {
      "text/plain": [
       "[<Element 'Preview' at 0x118114310>,\n",
       " <Element 'StructureTemplate' at 0x118121040>,\n",
       " <Element 'FieldAlignmentRules' at 0x1186330e0>,\n",
       " <Element 'Phases' at 0x118633130>,\n",
       " <Element 'Review' at 0x11865a3b0>]"
      ]
     },
     "execution_count": 6,
     "metadata": {},
     "output_type": "execute_result"
    }
   ],
   "source": [
    "pret.getroot().findall('*')"
   ]
  },
  {
   "cell_type": "code",
   "execution_count": 12,
   "id": "8a6be6df-ced0-4a42-8b4b-a76ccefb7568",
   "metadata": {},
   "outputs": [],
   "source": [
    "presc_items = pret.getroot().find('Phases').find('Phase').find('Prescription').findall('Item')"
   ]
  },
  {
   "cell_type": "code",
   "execution_count": 22,
   "id": "8f991085-9b92-4709-9799-87c00ad082e5",
   "metadata": {
    "tags": []
   },
   "outputs": [
    {
     "data": {
      "text/plain": [
       "'0'"
      ]
     },
     "execution_count": 22,
     "metadata": {},
     "output_type": "execute_result"
    }
   ],
   "source": [
    "presc_item_type = presc_items[0].find('Type')\n",
    "presc_item_type.text"
   ]
  },
  {
   "cell_type": "code",
   "execution_count": 25,
   "id": "5ca7cc80-37e2-445a-87eb-c908f4d7982d",
   "metadata": {
    "tags": []
   },
   "outputs": [],
   "source": [
    "presc_item = presc_items[0]"
   ]
  },
  {
   "cell_type": "code",
   "execution_count": 28,
   "id": "cf1a718d-269c-4be9-8761-5e8e5d07ba03",
   "metadata": {
    "tags": []
   },
   "outputs": [
    {
     "data": {
      "text/plain": [
       "[('ID', 'PTV boost dcho'), ('Primary', 'false')]"
      ]
     },
     "execution_count": 28,
     "metadata": {},
     "output_type": "execute_result"
    }
   ],
   "source": [
    "presc_item.items()"
   ]
  },
  {
   "cell_type": "code",
   "execution_count": 30,
   "id": "5af80703-68ac-4a8b-9c4d-a5915e774ece",
   "metadata": {
    "tags": []
   },
   "outputs": [
    {
     "name": "stdout",
     "output_type": "stream",
     "text": [
      "{'ID': 'BODY', 'Name': 'BODY'}\n",
      "{'ID': 'Cabeza humeral D', 'Name': 'Cabeza humeral D'}\n",
      "{'ID': 'Cabeza humeral I', 'Name': 'Cabeza humeral I'}\n",
      "{'ID': 'Corazón', 'Name': 'Corazón'}\n",
      "{'ID': 'linea media', 'Name': 'linea media'}\n",
      "{'ID': 'Médula', 'Name': 'Médula'}\n",
      "{'ID': 'Pulmón Dcho', 'Name': 'Pulmón Dcho'}\n",
      "{'ID': 'Pulmón Izqdo', 'Name': 'Pulmón Izqdo'}\n",
      "{'ID': 'Tiroides', 'Name': 'Tiroides'}\n",
      "{'ID': 'PTV axila dcha', 'Name': 'PTV axila dcha'}\n",
      "{'ID': 'PRV DA', 'Name': 'PRV DA'}\n",
      "{'ID': 'Húmero dcho', 'Name': 'Húmero dcha'}\n",
      "{'ID': 'CTV mama dcha', 'Name': 'CTV mama dcha'}\n",
      "{'ID': 'CTV m.int. dcha', 'Name': 'CTV m.int. dcha'}\n",
      "{'ID': 'CTV FSC dcha', 'Name': 'FSC dcha'}\n",
      "{'ID': 'CTV boost dcho', 'Name': 'CTV boost dcho'}\n",
      "{'ID': 'CTV axila dcha', 'Name': 'CTV axila dcha'}\n",
      "{'ID': 'Corazón/pericard', 'Name': 'Corazón/pericard'}\n",
      "{'ID': 'Aurícula izqda', 'Name': 'Aurícula izqda'}\n",
      "{'ID': 'Aurícula dcha', 'Name': 'Aurícula dcha'}\n",
      "{'ID': 'Arteria pulmonar', 'Name': 'Arteria pulmonar'}\n",
      "{'ID': 'Arteria DA', 'Name': 'Arteria DA'}\n",
      "{'ID': 'Aorta ascendente', 'Name': 'Aorta ascendente'}\n",
      "{'ID': 'PTV boost dcho', 'Name': 'PTV boost dcho'}\n",
      "{'ID': 'PTV FSC dcha', 'Name': 'PTV FSC dcha'}\n",
      "{'ID': 'PTV m.int. dcha', 'Name': 'PTV m.int. dcha'}\n",
      "{'ID': 'PTV mama dcha', 'Name': 'PTV mama dcha'}\n",
      "{'ID': 'Vena cava inf', 'Name': 'Vena cava inf'}\n",
      "{'ID': 'Vena cava sup', 'Name': 'Vena cava sup'}\n",
      "{'ID': 'Ventrículo dcho', 'Name': 'Ventrículo dcho'}\n",
      "{'ID': 'Ventrículo izqdo', 'Name': 'Ventrículo izqdo'}\n",
      "{'ID': 'Mama izqda', 'Name': ''}\n",
      "{'ID': 'CTV lecho dcho', 'Name': 'CTV lecho dcho'}\n",
      "{'ID': 'PTV lecho dcho', 'Name': 'PTV lecho dcho'}\n"
     ]
    }
   ],
   "source": [
    "opret = ET.parse('protocolos/clinicos/MamaDchaCads15Fx.xml')\n",
    "structures = opret.getroot().find('StructureTemplate').find('Structures').findall('Structure')\n",
    "for structure in structures:\n",
    "    print(structure.attrib)"
   ]
  },
  {
   "cell_type": "code",
   "execution_count": null,
   "id": "f0a781f1-d872-406f-b0da-a0112129d8be",
   "metadata": {},
   "outputs": [],
   "source": []
  }
 ],
 "metadata": {
  "kernelspec": {
   "display_name": "Python 3 (ipykernel)",
   "language": "python",
   "name": "python3"
  },
  "language_info": {
   "codemirror_mode": {
    "name": "ipython",
    "version": 3
   },
   "file_extension": ".py",
   "mimetype": "text/x-python",
   "name": "python",
   "nbconvert_exporter": "python",
   "pygments_lexer": "ipython3",
   "version": "3.9.6"
  }
 },
 "nbformat": 4,
 "nbformat_minor": 5
}
